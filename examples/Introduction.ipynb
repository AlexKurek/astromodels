{
 "cells": [
  {
   "cell_type": "markdown",
   "metadata": {},
   "source": [
    "# Introduction"
   ]
  },
  {
   "cell_type": "markdown",
   "metadata": {},
   "source": [
    "Astromodels is a very flexible framework to define models for likelihood or Bayesian analysis of astrophysical data. \n",
    "\n",
    "Even though it has been designed having in mind analysis in the spectral domain, it can be used also as a toolbox containing functions of any variable.\n",
    "\n",
    "Astromodels is *not* a modeling package, it only gives you the tools to build a model as complex as you need. You then need a separate package (such as 3ML, github.com/giacomov/3ML) to fit that model to the data.\n",
    "\n",
    "Some of the features which distinguish astromodels from other similar packages are:\n",
    "* a model can contain an arbitrary number of sources at different positions in the sky\n",
    "* parameters can be linked through any function (not only identity)\n",
    "* parameters can vary with *auxiliary variables* such as time. For example, you can build a model where some parameters vary with time, and you can fit the parameters of the function which describe this variability. Similary you can build models where parameters vary with the phase of a pulsar, and so on.\n",
    "* models can be saved in and loaded from YAML file (a human-readable format)\n",
    "* physical units are fully supported in input, but they are handled so that they don't slow down the actualy computation of the models.\n",
    "\n",
    "Astromodels has been designed with performance as priority, and is considerably faster than other python-based solution for the same problem, such as astropy.modeling and the modeling part of sherpa."
   ]
  },
  {
   "cell_type": "code",
   "execution_count": null,
   "metadata": {
    "collapsed": true
   },
   "outputs": [],
   "source": []
  }
 ],
 "metadata": {
  "kernelspec": {
   "display_name": "Python 2",
   "language": "python",
   "name": "python2"
  },
  "language_info": {
   "codemirror_mode": {
    "name": "ipython",
    "version": 2
   },
   "file_extension": ".py",
   "mimetype": "text/x-python",
   "name": "python",
   "nbconvert_exporter": "python",
   "pygments_lexer": "ipython2",
   "version": "2.7.6"
  }
 },
 "nbformat": 4,
 "nbformat_minor": 0
}

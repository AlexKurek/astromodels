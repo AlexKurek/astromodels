{
 "cells": [
  {
   "cell_type": "markdown",
   "metadata": {},
   "source": [
    "# Quick start"
   ]
  },
  {
   "cell_type": "markdown",
   "metadata": {},
   "source": [
    "In this quick tutorial we will learn how to create a simple model with one point source, with a power law spectrum. You can of course use any function instead of the power law. Use \"list_models()\" to obtain a list of available models."
   ]
  },
  {
   "cell_type": "markdown",
   "metadata": {},
   "source": [
    "Let's define the model:"
   ]
  },
  {
   "cell_type": "code",
   "execution_count": 1,
   "metadata": {
    "collapsed": false
   },
   "outputs": [],
   "source": [
    "from astromodels import *\n",
    "\n",
    "test_source = PointSource('test_source',ra=123.22, dec=-13.56, spectral_shape=powerlaw_flux())\n",
    "\n",
    "my_model = Model(test_source)"
   ]
  },
  {
   "cell_type": "markdown",
   "metadata": {},
   "source": [
    "Now let's use it:"
   ]
  },
  {
   "cell_type": "code",
   "execution_count": 2,
   "metadata": {
    "collapsed": false
   },
   "outputs": [
    {
     "name": "stdout",
     "output_type": "stream",
     "text": [
      "Differential flux @ 1 keV : 1.010 photons / ( cm2 s keV)\n"
     ]
    }
   ],
   "source": [
    "# Get and print the differential flux at 1 keV:\n",
    "\n",
    "differential_flux_at_1_keV = my_model.test_source(1.0)\n",
    "\n",
    "print(\"Differential flux @ 1 keV : %.3f photons / ( cm2 s keV)\" % differential_flux_at_1_keV)"
   ]
  },
  {
   "cell_type": "code",
   "execution_count": 3,
   "metadata": {
    "collapsed": false
   },
   "outputs": [],
   "source": [
    "# Evaluate the model on an array of 100 energies logarithmically distributed between 1 and 100 keV\n",
    "\n",
    "# Set up the energies\n",
    "\n",
    "energies = np.logspace(0,2,100)\n",
    "\n",
    "# Get the differential flux\n",
    "\n",
    "differential_flux = my_model.test_source(energies)"
   ]
  },
  {
   "cell_type": "code",
   "execution_count": 4,
   "metadata": {
    "collapsed": false
   },
   "outputs": [
    {
     "data": {
      "text/plain": [
       "<matplotlib.text.Text at 0x68094d0>"
      ]
     },
     "execution_count": 4,
     "metadata": {},
     "output_type": "execute_result"
    },
    {
     "data": {
      "image/png": "[encoded data removed]",
      "text/plain": [
       "<matplotlib.figure.Figure at 0x675f690>"
      ]
     },
     "metadata": {},
     "output_type": "display_data"
    }
   ],
   "source": [
    "# Plot it with the help of matplotlib \n",
    "# Matplotlib is not required by astromodels, although you need it\n",
    "# for this part of the example\n",
    "\n",
    "import matplotlib.pyplot as plt\n",
    "\n",
    "# Do not execute this if you are not using the IPython notebook\n",
    "\n",
    "########\n",
    "\n",
    "%matplotlib inline\n",
    "\n",
    "########\n",
    "\n",
    "plt.loglog(energies, differential_flux)\n",
    "\n",
    "plt.xlabel(\"Energy (keV)\")\n",
    "plt.ylabel(\"Differential flux (ph./cm2/s/keV)\")"
   ]
  },
  {
   "cell_type": "markdown",
   "metadata": {},
   "source": [
    "# Fitting simple 1d data using scipy and astromodels"
   ]
  },
  {
   "cell_type": "markdown",
   "metadata": {},
   "source": [
    "Astromodels is not a fitting package. It merely defines the model to be fitted to the data. However, using it with existing optimization packages such as scipy.optimize is fairly easy. If you have a simple 1d dataset with no spatial information, then you can model it by just using the functions in astromodels. You don't need to even instance the Model class, which is made for more complex situations. Here are some examples:"
   ]
  },
  {
   "cell_type": "markdown",
   "metadata": {},
   "source": [
    "## Chisq. minimization with curve_fit"
   ]
  },
  {
   "cell_type": "markdown",
   "metadata": {},
   "source": [
    "This is a quick method if you have data with Gaussian errors. scipy.optimize.curve_fit creates and minimize $\\chi^2$ for you, you only need to provide the fitting function. This is a complete example:"
   ]
  },
  {
   "cell_type": "code",
   "execution_count": 5,
   "metadata": {
    "collapsed": false
   },
   "outputs": [
    {
     "name": "stdout",
     "output_type": "stream",
     "text": [
      "\n",
      "Best fit parameters:\n",
      "\n",
      "   name    value error\n",
      "---------- ----- -----\n",
      "       a_1  1.00 0.011\n",
      "       b_1  1.26 0.094\n",
      "    logK_2  2.55 0.032\n",
      "      mu_2 40.61 0.077\n",
      "logSigma_2  0.03 0.026\n"
     ]
    },
    {
     "data": {
      "image/png": "[encoded data removed]",
      "text/plain": [
       "<matplotlib.figure.Figure at 0x6ddf410>"
      ]
     },
     "metadata": {},
     "output_type": "display_data"
    }
   ],
   "source": [
    "import numpy as np\n",
    "import scipy.optimize\n",
    "from astromodels import *\n",
    "from astromodels.utils.table import dict_to_table\n",
    "import collections\n",
    "\n",
    "# Instance a composite function composed by a line and a Gaussian\n",
    "\n",
    "fit_func = line(b=1.2) + gaussian(mu=40.5, logK=2.5, sigma=3.4)\n",
    "\n",
    "# Generate some fake data\n",
    "\n",
    "xdata = np.linspace(0, 100, 100)\n",
    "\n",
    "y = fit_func(xdata)\n",
    "\n",
    "# Add Gaussian noise\n",
    "\n",
    "yerr = 0.1 * np.abs(y)\n",
    "\n",
    "ydata = np.random.normal(y, yerr)\n",
    "\n",
    "# Initial guess for the fit: let's start a bit off so the\n",
    "# fitting function actually needs to do something\n",
    "\n",
    "p0 = [1.1, 1.3, 1.6, 40.5, 0.5]\n",
    "\n",
    "# Make the bounds tuple, i.e., the constraints on the parameters\n",
    "\n",
    "minima = []\n",
    "maxima = []\n",
    "\n",
    "for parameter in fit_func.free_parameters.values():\n",
    "    \n",
    "    # scipy doesn't like None (which in astromodel means no boundary in that direction) \n",
    "    # It instead uses np.inf to indicate no boundary (with the appropriate sign)\n",
    "    \n",
    "    this_minimum = parameter.min_value if parameter.min_value is not None else -np.inf\n",
    "    this_maximum = parameter.max_value if parameter.max_value is not None else np.inf\n",
    "    \n",
    "    minima.append(this_minimum)\n",
    "    maxima.append(this_maximum)\n",
    "    \n",
    "# Perform the fit\n",
    "# NOTE: we use .get_wrapper to get a function which is in the form expected\n",
    "# by scipy, which is f(x, param1, param2...)\n",
    "\n",
    "popt, pcov = scipy.optimize.curve_fit(fit_func.get_wrapper(), xdata, ydata, \n",
    "                                      p0=p0, sigma=yerr, absolute_sigma=True,\n",
    "                                      bounds=(minima, maxima), verbose=0)\n",
    "\n",
    "# Compute the approximate errors as the square root of the diagonal of the covariance matrix\n",
    "\n",
    "perr = np.sqrt(np.diag(pcov))\n",
    "\n",
    "# Plot data and model\n",
    "\n",
    "plt.errorbar(xdata,ydata,yerr=yerr,fmt='.')\n",
    "plt.plot(xdata,fit_func(xdata))\n",
    "_ = plt.xlabel(\"x\")\n",
    "_ = plt.ylabel(\"y\")\n",
    "\n",
    "# Print the results\n",
    "# Since we are at it, let's put the results in a nice table\n",
    "\n",
    "print(\"\\nBest fit parameters:\\n\")\n",
    "\n",
    "results = collections.OrderedDict()\n",
    "\n",
    "for i, par_name in enumerate(fit_func.free_parameters.keys()):\n",
    "    \n",
    "    results[par_name] = {'value': '%.2f' % popt[i], 'error': '%.3f' % perr[i]}\n",
    "\n",
    "print(dict_to_table(results))"
   ]
  },
  {
   "cell_type": "markdown",
   "metadata": {},
   "source": [
    "## Maximum likelihood with scipy and astromodels"
   ]
  },
  {
   "cell_type": "markdown",
   "metadata": {},
   "source": [
    "This is a similar example where we minimize the -logLikelihood instead of chisq, using the scipy.optimize package:"
   ]
  },
  {
   "cell_type": "code",
   "execution_count": 6,
   "metadata": {
    "collapsed": false
   },
   "outputs": [
    {
     "name": "stdout",
     "output_type": "stream",
     "text": [
      "Starting values: [0.9942166988520817, -1.875196866895682, 1.4035108282130364, 0.37834453818626335, 0.020488085045716524]\n",
      "[(-39.96, 39.96), (-9.99, 9.99), (-39.96, 39.96), (-inf, inf), (-11.988, 39.96)]\n",
      "\n",
      "Minimum of -log(likelihood): -62539.6363146\n",
      "\n",
      "\n",
      "Best fit parameters:\n",
      "\n",
      "   name    value error\n",
      "---------- ----- -----\n",
      "    logK_1  1.00 0.100\n",
      "   index_1 -1.99 0.100\n",
      "    logK_2  1.37 0.100\n",
      "      mu_2  0.35 0.100\n",
      "logSigma_2 -1.70 0.100\n"
     ]
    },
    {
     "data": {
      "image/png": "[encoded data removed]",
      "text/plain": [
       "<matplotlib.figure.Figure at 0x6b22690>"
      ]
     },
     "metadata": {},
     "output_type": "display_data"
    }
   ],
   "source": [
    "import numpy as np\n",
    "import scipy.optimize\n",
    "from astromodels import *\n",
    "from astromodels.utils.table import dict_to_table\n",
    "import collections\n",
    "import matplotlib.pyplot as plt\n",
    "\n",
    "# Use this only in the ipython notebook\n",
    "%matplotlib inline\n",
    "\n",
    "# Create a log-likelihood class, which will provide the objective function\n",
    "# to minimize (the -log(likelihood) in this case)\n",
    "\n",
    "class LogLike(object):\n",
    "    \n",
    "    def __init__(self, x, y, function):\n",
    "        \n",
    "        # Store data and model instance\n",
    "        \n",
    "        self.x = x\n",
    "        self.y = y\n",
    "        self.function = function\n",
    "        \n",
    "        # Get the dictionary of free parameters\n",
    "        # (we assume that it will not change after construction)\n",
    "        self.free_parameters = self.function.free_parameters\n",
    "    \n",
    "    def minus_log_like(self, new_values):\n",
    "                \n",
    "        # This method computes the -log(like) given the new parameters' values        \n",
    "        \n",
    "        # Assume we have the right number of values in input\n",
    "        \n",
    "        assert len(self.free_parameters) == len(new_values), \"wrong number of parameters\"\n",
    "        \n",
    "        # Assign the new values to the free parameters\n",
    "        # We could do this with this for loop:\n",
    "        \n",
    "        for i, par in enumerate(self.free_parameters.values()):\n",
    "            \n",
    "            par.value = new_values[i]\n",
    "        \n",
    "        # Evaluate the model\n",
    "        # (we assume there is only one point source)\n",
    "        \n",
    "        m = self.function(self.x)\n",
    "        \n",
    "        # In Poisson likelihood models cannot be negative. Enforce this, however\n",
    "        # keep in mind that due to precision error values could be close to zero\n",
    "        \n",
    "        if np.any(np.abs(m + 1e-6) < 0):\n",
    "            \n",
    "            # Return a big value for the -log(like) so the fitting\n",
    "            # engine will stay away\n",
    "            return 1e6\n",
    "        \n",
    "        # The Poisson log. likelihood is\n",
    "        # the sum of y_{i} log(m_i) - m_i\n",
    "        # (we ignore the term log(y_i!) which is irrelevant for the fit)\n",
    "        # where y_i and m_i are respectively the observed\n",
    "        # number of counts and the value of the model in the i-th bin\n",
    "        \n",
    "        loglike = np.sum(self.y * np.log(m) - m)\n",
    "        \n",
    "        #print(\"%s -> %s\" % (new_values, -loglike))\n",
    "        \n",
    "        return -loglike\n",
    "\n",
    "\n",
    "# Instance a composite function composed by a power law and a Gaussian\n",
    "\n",
    "fit_func = powerlaw(logK=1.0,epiv=10.0) + gaussian(mu=0.35, logK=1.4, logSigma=np.log10(0.02))\n",
    "\n",
    "# Generate some fake data\n",
    "\n",
    "xdata = np.logspace(-1, 1, 100)\n",
    "\n",
    "y = fit_func(xdata)\n",
    "\n",
    "# Create the data with Poisson noise\n",
    "\n",
    "ydata = np.random.poisson(y)\n",
    "\n",
    "# Now instance the loglike class for the particular data we have\n",
    "this_log_like = LogLike(xdata,ydata,fit_func)\n",
    "\n",
    "# Initial guess for the fit: let's start a bit off so the\n",
    "# fitting function actually needs to do something\n",
    "\n",
    "p0 = map(lambda x:x.get_randomized_value(variance=0.05), fit_func.free_parameters.values())\n",
    "\n",
    "p0 = [0.99421669885208175, -1.875196866895682, 1.4035108282130364, 0.37834453818626335, 0.020488085045716524]\n",
    "\n",
    "print(\"Starting values: %s\" % p0)\n",
    "\n",
    "# Make the bounds tuple, i.e., the constraints on the parameters\n",
    "# (note that scipy.optimize.minimize uses a different structure for the bounds,\n",
    "# which need to be a list of (min,max) tuples instead of two lists like\n",
    "# scipy.optimize.curve_fit)\n",
    "\n",
    "bounds = []\n",
    "\n",
    "for parameter in fit_func.free_parameters.values():\n",
    "    \n",
    "    # scipy doesn't like None (which in astromodel means no boundary in that direction) \n",
    "    # It instead uses np.inf to indicate no boundary (with the appropriate sign)\n",
    "    # Also minimize has the bad habit of setting the parameter just a tiny bit outside\n",
    "    # its boundaries. So, let's restrict a little bit the range to avoid this\n",
    "    \n",
    "    this_minimum = parameter.min_value + abs(parameter.min_value/1000) if parameter.min_value is not None else -np.inf\n",
    "    this_maximum = parameter.max_value - abs(parameter.max_value/1000) if parameter.max_value is not None else np.inf\n",
    "    \n",
    "    bounds.append((this_minimum, this_maximum))\n",
    "\n",
    "print bounds\n",
    "    \n",
    "# Perform the fit\n",
    "\n",
    "res = scipy.optimize.minimize(this_log_like.minus_log_like, p0, bounds=bounds, method='L-BFGS-B')\n",
    "\n",
    "# Plot data and model\n",
    "\n",
    "plt.errorbar(xdata,ydata,yerr=np.sqrt(ydata),fmt='.')\n",
    "plt.loglog(xdata,fit_func(xdata))\n",
    "_ = plt.xlabel(\"x\")\n",
    "_ = plt.ylabel(\"y\")\n",
    "\n",
    "# Print the results\n",
    "# Since we are at it, let's put the results in a nice table\n",
    "print(\"\\nMinimum of -log(likelihood): %s\\n\" % res.fun)\n",
    "print(\"\\nBest fit parameters:\\n\")\n",
    "\n",
    "results = collections.OrderedDict()\n",
    "\n",
    "for i, par_name in enumerate(fit_func.free_parameters.keys()):\n",
    "    \n",
    "    results[par_name] = {'value': '%.2f' % res.x[i], 'error': '%.3f' % 0.1}\n",
    "\n",
    "print(dict_to_table(results))"
   ]
  },
  {
   "cell_type": "markdown",
   "metadata": {},
   "source": [
    "## Maximum likelihood fit with iminuit"
   ]
  },
  {
   "cell_type": "markdown",
   "metadata": {},
   "source": [
    "iminuit (http://iminuit.readthedocs.org/) is a python wrapper for the MINUIT fitting algorithm, and it is very convenient for fitting in python. Here is an example, very similary to the previous one, but using iminuit instead of scipy:"
   ]
  },
  {
   "cell_type": "code",
   "execution_count": 7,
   "metadata": {
    "collapsed": false
   },
   "outputs": [
    {
     "data": {
      "text/html": [
       "<hr>"
      ]
     },
     "metadata": {},
     "output_type": "display_data"
    },
    {
     "data": {
      "text/html": [
       "\n",
       "        <table>\n",
       "            <tr>\n",
       "                <td title=\"Minimum value of function\">FCN = -64577.8981254</td>\n",
       "                <td title=\"Total number of call to FCN so far\">TOTAL NCALL = 169</td>\n",
       "                <td title=\"Number of call in last migrad\">NCALLS = 169</td>\n",
       "            </tr>\n",
       "            <tr>\n",
       "                <td title=\"Estimated distance to minimum\">EDM = 9.05912659574e-08</td>\n",
       "                <td title=\"Maximum EDM definition of convergence\">GOAL EDM = 5e-06</td>\n",
       "                <td title=\"Error def. Amount of increase in FCN to be defined as 1 standard deviation\">\n",
       "                UP = 0.5</td>\n",
       "            </tr>\n",
       "        </table>\n",
       "        \n",
       "        <table>\n",
       "            <tr>\n",
       "                <td align=\"center\" title=\"Validity of the migrad call\">Valid</td>\n",
       "                <td align=\"center\" title=\"Validity of parameters\">Valid Param</td>\n",
       "                <td align=\"center\" title=\"Is Covariance matrix accurate?\">Accurate Covar</td>\n",
       "                <td align=\"center\" title=\"Positive definiteness of covariance matrix\">PosDef</td>\n",
       "                <td align=\"center\" title=\"Was covariance matrix made posdef by adding diagonal element\">Made PosDef</td>\n",
       "            </tr>\n",
       "            <tr>\n",
       "                <td align=\"center\" style=\"background-color:#92CCA6\">True</td>\n",
       "                <td align=\"center\" style=\"background-color:#92CCA6\">True</td>\n",
       "                <td align=\"center\" style=\"background-color:#92CCA6\">True</td>\n",
       "                <td align=\"center\" style=\"background-color:#92CCA6\">True</td>\n",
       "                <td align=\"center\" style=\"background-color:#92CCA6\">False</td>\n",
       "            </tr>\n",
       "            <tr>\n",
       "                <td align=\"center\" title=\"Was last hesse call fail?\">Hesse Fail</td>\n",
       "                <td align=\"center\" title=\"Validity of covariance\">HasCov</td>\n",
       "                <td align=\"center\" title=\"Is EDM above goal EDM?\">Above EDM</td>\n",
       "                <td align=\"center\"></td>\n",
       "                <td align=\"center\" title=\"Did last migrad call reach max call limit?\">Reach calllim</td>\n",
       "            </tr>\n",
       "            <tr>\n",
       "                <td align=\"center\" style=\"background-color:#92CCA6\">False</td>\n",
       "                <td align=\"center\" style=\"background-color:#92CCA6\">True</td>\n",
       "                <td align=\"center\" style=\"background-color:#92CCA6\">False</td>\n",
       "                <td align=\"center\"></td>\n",
       "                <td align=\"center\" style=\"background-color:#92CCA6\">False</td>\n",
       "            </tr>\n",
       "        </table>\n",
       "        "
      ]
     },
     "metadata": {},
     "output_type": "display_data"
    },
    {
     "data": {
      "text/html": [
       "\n",
       "        <table>\n",
       "            <tr>\n",
       "                <td><a href=\"#\" onclick=\"$('#SwdseNyJaV').toggle()\">+</a></td>\n",
       "                <td title=\"Variable name\">Name</td>\n",
       "                <td title=\"Value of parameter\">Value</td>\n",
       "                <td title=\"Parabolic error\">Parab Error</td>\n",
       "                <td title=\"Minos lower error\">Minos Error-</td>\n",
       "                <td title=\"Minos upper error\">Minos Error+</td>\n",
       "                <td title=\"Lower limit of the parameter\">Limit-</td>\n",
       "                <td title=\"Upper limit of the parameter\">Limit+</td>\n",
       "                <td title=\"Is the parameter fixed in the fit\">FIXED</td>\n",
       "            </tr>\n",
       "        \n",
       "            <tr>\n",
       "                <td>1</td>\n",
       "                <td>logK_1</td>\n",
       "                <td>9.658916e-01</td>\n",
       "                <td>1.749500e-02</td>\n",
       "                <td>0.000000e+00</td>\n",
       "                <td>0.000000e+00</td>\n",
       "                <td>-40.0</td>\n",
       "                <td>40.0</td>\n",
       "                <td></td>\n",
       "            </tr>\n",
       "            \n",
       "            <tr>\n",
       "                <td>2</td>\n",
       "                <td>index_1</td>\n",
       "                <td>-2.041874e+00</td>\n",
       "                <td>2.081392e-02</td>\n",
       "                <td>0.000000e+00</td>\n",
       "                <td>0.000000e+00</td>\n",
       "                <td>-10.0</td>\n",
       "                <td>10.0</td>\n",
       "                <td></td>\n",
       "            </tr>\n",
       "            \n",
       "            <tr>\n",
       "                <td>3</td>\n",
       "                <td>logK_2</td>\n",
       "                <td>1.415535e+00</td>\n",
       "                <td>1.302853e-02</td>\n",
       "                <td>0.000000e+00</td>\n",
       "                <td>0.000000e+00</td>\n",
       "                <td>-40.0</td>\n",
       "                <td>40.0</td>\n",
       "                <td></td>\n",
       "            </tr>\n",
       "            \n",
       "            <tr>\n",
       "                <td>4</td>\n",
       "                <td>mu_2</td>\n",
       "                <td>3.497948e-01</td>\n",
       "                <td>6.628380e-04</td>\n",
       "                <td>0.000000e+00</td>\n",
       "                <td>0.000000e+00</td>\n",
       "                <td></td>\n",
       "                <td></td>\n",
       "                <td></td>\n",
       "            </tr>\n",
       "            \n",
       "            <tr>\n",
       "                <td>5</td>\n",
       "                <td>logSigma_2</td>\n",
       "                <td>-1.691367e+00</td>\n",
       "                <td>1.285315e-02</td>\n",
       "                <td>0.000000e+00</td>\n",
       "                <td>0.000000e+00</td>\n",
       "                <td>-12.0</td>\n",
       "                <td>40.0</td>\n",
       "                <td></td>\n",
       "            </tr>\n",
       "            \n",
       "            </table>\n",
       "        \n",
       "            <pre id=\"SwdseNyJaV\" style=\"display:none;\">\n",
       "            <textarea rows=\"16\" cols=\"50\" onclick=\"this.select()\" readonly>\\begin{tabular}{|c|r|r|r|r|r|r|r|c|}\n",
       "\\hline\n",
       " & Name & Value & Para Error & Error+ & Error- & Limit+ & Limit- & FIXED\\\\\n",
       "\\hline\n",
       "1 & $logK_{1}$ & 9.659e-01 & 1.750e-02 &  &  & -4.000e+01 & 4.000e+01 & \\\\\n",
       "\\hline\n",
       "2 & $index_{1}$ & -2.042e+00 & 2.081e-02 &  &  & -1.000e+01 & 1.000e+01 & \\\\\n",
       "\\hline\n",
       "3 & $logK_{2}$ & 1.416e+00 & 1.303e-02 &  &  & -4.000e+01 & 4.000e+01 & \\\\\n",
       "\\hline\n",
       "4 & $\\mu_{2}$ & 3.498e-01 & 6.628e-04 &  &  &  &  & \\\\\n",
       "\\hline\n",
       "5 & $logSigma_{2}$ & -1.691e+00 & 1.285e-02 &  &  & -1.200e+01 & 4.000e+01 & \\\\\n",
       "\\hline\n",
       "\\end{tabular}</textarea>\n",
       "            </pre>\n",
       "            "
      ]
     },
     "metadata": {},
     "output_type": "display_data"
    },
    {
     "data": {
      "text/html": [
       "<hr>"
      ]
     },
     "metadata": {},
     "output_type": "display_data"
    },
    {
     "name": "stdout",
     "output_type": "stream",
     "text": [
      "\n",
      "Best fit parameters:\n",
      "\n",
      "   name    value error\n",
      "---------- ----- -----\n",
      "    logK_1  0.97 0.017\n",
      "   index_1 -2.04 0.021\n",
      "    logK_2  1.42 0.013\n",
      "      mu_2  0.35 0.001\n",
      "logSigma_2 -1.69 0.013\n"
     ]
    },
    {
     "data": {
      "image/png": "[encoded data removed]",
      "text/plain": [
       "<matplotlib.figure.Figure at 0x7721550>"
      ]
     },
     "metadata": {},
     "output_type": "display_data"
    }
   ],
   "source": [
    "import numpy as np\n",
    "import iminuit\n",
    "from astromodels import *\n",
    "from astromodels.utils.table import dict_to_table\n",
    "import collections\n",
    "import matplotlib.pyplot as plt\n",
    "\n",
    "# Use this only in the ipython notebook\n",
    "%matplotlib inline\n",
    "\n",
    "# Create a log-likelihood class, which will provide the objective function\n",
    "# to minimize (the -log(likelihood) in this case)\n",
    "\n",
    "class LogLike(object):\n",
    "    \n",
    "    def __init__(self, x, y, function):\n",
    "        \n",
    "        # Store data and model instance\n",
    "        \n",
    "        self.x = x\n",
    "        self.y = y\n",
    "        self.function = function\n",
    "        \n",
    "        # Get the dictionary of free parameters\n",
    "        # (we assume that it will not change after construction)\n",
    "        self.free_parameters = self.function.free_parameters\n",
    "    \n",
    "    def minus_log_like(self, *new_values):\n",
    "                \n",
    "        # This method computes the -log(like) given the new parameters' values        \n",
    "        \n",
    "        # Assume we have the right number of values in input\n",
    "        \n",
    "        assert len(self.free_parameters) == len(new_values), \"wrong number of parameters\"\n",
    "        \n",
    "        # Assign the new values to the free parameters\n",
    "        # We could do this with this for loop:\n",
    "        \n",
    "        for i, par in enumerate(self.free_parameters.values()):\n",
    "            \n",
    "            par.value = new_values[i]\n",
    "        \n",
    "        # Evaluate the model\n",
    "        # (we assume there is only one point source)\n",
    "        \n",
    "        m = self.function(self.x)\n",
    "        \n",
    "        # In Poisson likelihood models cannot be negative. Enforce this, however\n",
    "        # keep in mind that due to precision error values could be close to zero\n",
    "        \n",
    "        if np.any(np.abs(m + 1e-6) < 0):\n",
    "            \n",
    "            # Return a big value for the -log(like) so the fitting\n",
    "            # engine will stay away\n",
    "            return 1e6\n",
    "        \n",
    "        # The Poisson log. likelihood is\n",
    "        # the sum of y_{i} log(m_i) - m_i\n",
    "        # (we ignore the term log(y_i!) which is irrelevant for the fit)\n",
    "        # where y_i and m_i are respectively the observed\n",
    "        # number of counts and the value of the model in the i-th bin\n",
    "        \n",
    "        loglike = np.sum(self.y * np.log(m) - m)\n",
    "        \n",
    "        #print(\"%s -> %s\" % (new_values, -loglike))\n",
    "        \n",
    "        return -loglike\n",
    "\n",
    "# Instance a composite function composed by a power law and a Gaussian\n",
    "\n",
    "fit_func = powerlaw(logK=1.0,epiv=10.0) + gaussian(mu=0.35, logK=1.4, logSigma=np.log10(0.02))\n",
    "\n",
    "# Generate some fake data\n",
    "\n",
    "xdata = np.logspace(-1, 1, 100)\n",
    "\n",
    "y = fit_func(xdata)\n",
    "\n",
    "# Create the data with Poisson noise\n",
    "\n",
    "ydata = np.random.poisson(y)\n",
    "\n",
    "# Now instance the loglike class for the particular data we have\n",
    "this_log_like = LogLike(xdata,ydata,fit_func)\n",
    "\n",
    "# Build a dictionary with the options for iminuit\n",
    "\n",
    "iminuit_opt = {}\n",
    "\n",
    "# Tell minuit the name of the parameters\n",
    "iminuit_opt['forced_parameters'] = map(lambda x:x.name, fit_func.free_parameters.values())\n",
    "\n",
    "for parameter in fit_func.free_parameters.values():\n",
    "    \n",
    "    # Initial guess for the fit: let's start a bit off so the\n",
    "    # fitting function actually needs to do something\n",
    "    \n",
    "    iminuit_opt[parameter.name] = parameter.get_randomized_value()\n",
    "    \n",
    "    iminuit_opt['error_%s' % parameter.name] = parameter.delta\n",
    "    \n",
    "    iminuit_opt['limit_%s' % parameter.name] = (parameter.min_value, parameter.max_value)\n",
    "    \n",
    "# These options are needed for a likelihood fit\n",
    "iminuit_opt['errordef'] = 0.5\n",
    "\n",
    "# Perform the fit\n",
    "\n",
    "minuit = iminuit.Minuit(this_log_like.minus_log_like, **iminuit_opt)\n",
    "\n",
    "res = minuit.migrad()\n",
    "\n",
    "# Plot data and model\n",
    "\n",
    "plt.errorbar(xdata,ydata,yerr=np.sqrt(ydata),fmt='.')\n",
    "plt.loglog(xdata,fit_func(xdata))\n",
    "_ = plt.xlabel(\"x\")\n",
    "_ = plt.ylabel(\"y\")\n",
    "\n",
    "# Print the results\n",
    "# Since we are at it, let's put the results in a nice table\n",
    "\n",
    "print(\"\\nBest fit parameters:\\n\")\n",
    "\n",
    "results = collections.OrderedDict()\n",
    "\n",
    "for i, par_name in enumerate(fit_func.free_parameters.keys()):\n",
    "    \n",
    "    results[par_name] = {'value': '%.2f' % res[1][i]['value'], 'error': '%.3f' % res[1][i]['error']}\n",
    "\n",
    "print(dict_to_table(results))"
   ]
  },
  {
   "cell_type": "code",
   "execution_count": null,
   "metadata": {
    "collapsed": true
   },
   "outputs": [],
   "source": []
  }
 ],
 "metadata": {
  "kernelspec": {
   "display_name": "Python 2",
   "language": "python",
   "name": "python2"
  },
  "language_info": {
   "codemirror_mode": {
    "name": "ipython",
    "version": 2
   },
   "file_extension": ".py",
   "mimetype": "text/x-python",
   "name": "python",
   "nbconvert_exporter": "python",
   "pygments_lexer": "ipython2",
   "version": "2.7.6"
  }
 },
 "nbformat": 4,
 "nbformat_minor": 0
}

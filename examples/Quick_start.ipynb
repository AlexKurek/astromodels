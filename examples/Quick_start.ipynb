{
 "cells": [
  {
   "cell_type": "markdown",
   "metadata": {},
   "source": [
    "# Quick start"
   ]
  },
  {
   "cell_type": "markdown",
   "metadata": {},
   "source": [
    "In this quick tutorial we will learn how to create a simple model with one point source, with a power law spectrum. You can of course use any function instead of the power law. Use \"list_models()\" to obtain a list of available models."
   ]
  },
  {
   "cell_type": "markdown",
   "metadata": {},
   "source": [
    "Let's define the model:"
   ]
  },
  {
   "cell_type": "code",
   "execution_count": 1,
   "metadata": {
    "collapsed": false
   },
   "outputs": [
    {
     "name": "stderr",
     "output_type": "stream",
     "text": [
      "/home/giacomov/software/canopy-env/lib/python2.7/site-packages/astromodels-0.1-py2.7.egg/astromodels/functions/functions.py:39: NaimaNotAvailable: The naima package is not available. Models that depend on it will not be available\n"
     ]
    }
   ],
   "source": [
    "from astromodels import *\n",
    "\n",
    "test_source = PointSource('test_source',ra=123.22, dec=-13.56, spectral_shape=powerlaw_flux())\n",
    "\n",
    "my_model = Model(test_source)"
   ]
  },
  {
   "cell_type": "markdown",
   "metadata": {},
   "source": [
    "Now let's use it:"
   ]
  },
  {
   "cell_type": "code",
   "execution_count": 2,
   "metadata": {
    "collapsed": false
   },
   "outputs": [
    {
     "name": "stdout",
     "output_type": "stream",
     "text": [
      "Differential flux @ 1 keV : 1.0101010101 1 / (cm2 keV s)\n"
     ]
    }
   ],
   "source": [
    "# Get and print the differential flux at 1 keV:\n",
    "\n",
    "differential_flux_at_1_keV = my_model.test_source(1.0 * u.keV)\n",
    "\n",
    "print(\"Differential flux @ 1 keV : %s\" % differential_flux_at_1_keV)"
   ]
  },
  {
   "cell_type": "code",
   "execution_count": 3,
   "metadata": {
    "collapsed": false
   },
   "outputs": [],
   "source": [
    "# Evaluate the model on an array of 100 energies logarithmically distributed between 1 and 100 keV\n",
    "\n",
    "# Set up the energies\n",
    "\n",
    "energies = np.logspace(0,2,100)\n",
    "\n",
    "# Get the differential flux\n",
    "\n",
    "differential_flux = my_model.test_source(energies * u.keV)"
   ]
  },
  {
   "cell_type": "code",
   "execution_count": 4,
   "metadata": {
    "collapsed": false
   },
   "outputs": [
    {
     "name": "stderr",
     "output_type": "stream",
     "text": [
      "/home/giacomov/software/canopy-env/lib/python2.7/site-packages/matplotlib/font_manager.py:273: UserWarning: Matplotlib is building the font cache using fc-list. This may take a moment.\n",
      "  warnings.warn('Matplotlib is building the font cache using fc-list. This may take a moment.')\n"
     ]
    },
    {
     "data": {
      "text/plain": [
       "<matplotlib.text.Text at 0x5a58bd0>"
      ]
     },
     "execution_count": 4,
     "metadata": {},
     "output_type": "execute_result"
    },
    {
     "data": {
      "image/png": "[encoded data removed]",
      "text/plain": [
       "<matplotlib.figure.Figure at 0x58d8b50>"
      ]
     },
     "metadata": {},
     "output_type": "display_data"
    }
   ],
   "source": [
    "# Plot it with the help of matplotlib \n",
    "# Matplotlib is not required by astromodels, although you need it\n",
    "# for this part of the example\n",
    "\n",
    "import matplotlib.pyplot as plt\n",
    "\n",
    "# Do not execute this if you are not using the IPython notebook\n",
    "\n",
    "########\n",
    "\n",
    "%matplotlib inline\n",
    "\n",
    "########\n",
    "\n",
    "plt.loglog(energies, differential_flux)\n",
    "\n",
    "plt.xlabel(\"Energy (keV)\")\n",
    "plt.ylabel(\"Differential flux [%s]\" % differential_flux.unit)"
   ]
  },
  {
   "cell_type": "markdown",
   "metadata": {},
   "source": [
    "# Fitting simple 1d data using astromodels"
   ]
  },
  {
   "cell_type": "markdown",
   "metadata": {},
   "source": [
    "Astromodels is not a fitting package. It merely defines the model to be fitted to the data. However, using it with existing optimization packages is fairly easy. If you have a simple 1d dataset with no spatial information, then you can model it by just using the functions in astromodels. You don't need to even instance the Model class, which is made for more complex situations. Here are some examples:"
   ]
  },
  {
   "cell_type": "markdown",
   "metadata": {},
   "source": [
    "## Chisq. minimization with curve_fit"
   ]
  },
  {
   "cell_type": "markdown",
   "metadata": {},
   "source": [
    "This is a quick method if you have data with Gaussian errors. scipy.optimize.curve_fit creates and minimize $\\chi^2$ for you, you only need to provide the fitting function. This is a complete example:"
   ]
  },
  {
   "cell_type": "code",
   "execution_count": 5,
   "metadata": {
    "collapsed": false
   },
   "outputs": [
    {
     "name": "stdout",
     "output_type": "stream",
     "text": [
      "\n",
      "Best fit parameters:\n",
      "\n",
      "  name  value  error \n",
      "------- ------ ------\n",
      "    a_1   1.00  0.012\n",
      "    b_1   1.32  0.094\n",
      "    F_2 289.39 27.126\n",
      "   mu_2  40.78  0.329\n",
      "sigma_2   3.22  0.308\n"
     ]
    },
    {
     "data": {
      "image/png": "[encoded data removed]",
      "text/plain": [
       "<matplotlib.figure.Figure at 0x5a4e310>"
      ]
     },
     "metadata": {},
     "output_type": "display_data"
    }
   ],
   "source": [
    "import numpy as np\n",
    "import scipy.optimize\n",
    "from astromodels import *\n",
    "from astromodels.utils.table import dict_to_table\n",
    "import collections\n",
    "\n",
    "# Instance a composite function composed by a line and a Gaussian\n",
    "\n",
    "fit_func = line(b=1.2) + gaussian(mu=40.5, F=10**2.5, sigma=3.4)\n",
    "\n",
    "# Generate some fake data\n",
    "\n",
    "xdata = np.linspace(0, 100, 100)\n",
    "\n",
    "y = fit_func(xdata)\n",
    "\n",
    "# Add Gaussian noise\n",
    "\n",
    "yerr = 0.1 * np.abs(y)\n",
    "\n",
    "ydata = np.random.normal(y, yerr)\n",
    "\n",
    "# Initial guess for the fit: let's start a bit off so the\n",
    "# fitting function actually needs to do something\n",
    "\n",
    "p0 = [1.1, 1.3, 1.6, 40.5, 0.5]\n",
    "\n",
    "# Make the bounds tuple, i.e., the constraints on the parameters\n",
    "\n",
    "minima = []\n",
    "maxima = []\n",
    "\n",
    "for parameter in fit_func.free_parameters.values():\n",
    "    \n",
    "    # scipy doesn't like None (which in astromodel means no boundary in that direction) \n",
    "    # It instead uses np.inf to indicate no boundary (with the appropriate sign)\n",
    "    \n",
    "    this_minimum = parameter.min_value if parameter.min_value is not None else -np.inf\n",
    "    this_maximum = parameter.max_value if parameter.max_value is not None else np.inf\n",
    "    \n",
    "    minima.append(this_minimum)\n",
    "    maxima.append(this_maximum)\n",
    "    \n",
    "# Perform the fit\n",
    "# NOTE: we use .get_wrapper to get a function which is in the form expected\n",
    "# by scipy, which is f(x, param1, param2...)\n",
    "\n",
    "popt, pcov = scipy.optimize.curve_fit(fit_func.get_wrapper(), xdata, ydata, \n",
    "                                      p0=p0, sigma=yerr, absolute_sigma=True,\n",
    "                                      bounds=(minima, maxima), verbose=0)\n",
    "\n",
    "# Compute the approximate errors as the square root of the diagonal of the covariance matrix\n",
    "\n",
    "perr = np.sqrt(np.diag(pcov))\n",
    "\n",
    "# Plot data and model\n",
    "\n",
    "plt.errorbar(xdata,ydata,yerr=yerr,fmt='.')\n",
    "plt.plot(xdata,fit_func(xdata))\n",
    "_ = plt.xlabel(\"x\")\n",
    "_ = plt.ylabel(\"y\")\n",
    "\n",
    "# Print the results\n",
    "# Since we are at it, let's put the results in a nice table\n",
    "\n",
    "print(\"\\nBest fit parameters:\\n\")\n",
    "\n",
    "results = collections.OrderedDict()\n",
    "\n",
    "for i, par_name in enumerate(fit_func.free_parameters.keys()):\n",
    "    \n",
    "    results[par_name] = {'value': '%.2f' % popt[i], 'error': '%.3f' % perr[i]}\n",
    "\n",
    "print(dict_to_table(results))"
   ]
  },
  {
   "cell_type": "markdown",
   "metadata": {},
   "source": [
    "## Maximum likelihood with scipy and astromodels"
   ]
  },
  {
   "cell_type": "markdown",
   "metadata": {},
   "source": [
    "This is a similar example where we minimize the -logLikelihood instead of chisq, using the scipy.optimize package:"
   ]
  },
  {
   "cell_type": "code",
   "execution_count": 14,
   "metadata": {
    "collapsed": false
   },
   "outputs": [
    {
     "name": "stdout",
     "output_type": "stream",
     "text": [
      "Starting values: [10.077659938239558, -1.9608533665741636, 26.190288643926063, 0.32458474356450123, 0.019107521535890213]\n",
      "100 loops, best of 3: 13.6 ms per loop\n",
      "\n",
      "Minimum of -log(likelihood): -64489.3443832\n",
      "\n",
      "\n",
      "Best fit parameters:\n",
      "\n",
      "  name  value error\n",
      "------- ----- -----\n",
      "    K_1 10.08 0.100\n",
      "index_1 -2.00 0.100\n",
      "    F_2 26.19 0.100\n",
      "   mu_2  0.35 0.100\n",
      "sigma_2  0.02 0.100\n"
     ]
    },
    {
     "data": {
      "image/png": "[encoded data removed]",
      "text/plain": [
       "<matplotlib.figure.Figure at 0x7eb0b50>"
      ]
     },
     "metadata": {},
     "output_type": "display_data"
    }
   ],
   "source": [
    "import numpy as np\n",
    "import scipy.optimize\n",
    "from astromodels import *\n",
    "from astromodels.utils.table import dict_to_table\n",
    "import collections\n",
    "import matplotlib.pyplot as plt\n",
    "\n",
    "# Use this only in the ipython notebook\n",
    "%matplotlib inline\n",
    "\n",
    "# Create a log-likelihood class, which will provide the objective function\n",
    "# to minimize (the -log(likelihood) in this case)\n",
    "\n",
    "class LogLike(object):\n",
    "    \n",
    "    def __init__(self, x, y, function):\n",
    "        \n",
    "        # Store data and model instance\n",
    "        \n",
    "        self.x = x\n",
    "        self.y = y\n",
    "        self.function = function\n",
    "        \n",
    "        # Get the dictionary of free parameters\n",
    "        # (we assume that it will not change after construction)\n",
    "        self.free_parameters = self.function.free_parameters\n",
    "    \n",
    "    def minus_log_like(self, new_values):\n",
    "                \n",
    "        # This method computes the -log(like) given the new parameters' values        \n",
    "        \n",
    "        # Assume we have the right number of values in input\n",
    "        \n",
    "        assert len(self.free_parameters) == len(new_values), \"wrong number of parameters\"\n",
    "        \n",
    "        # Assign the new values to the free parameters\n",
    "        \n",
    "        for i, par in enumerate(self.free_parameters.values()):\n",
    "            \n",
    "            par.scaled_value = new_values[i]\n",
    "        \n",
    "        # Evaluate the model\n",
    "        # (we assume there is only one point source)\n",
    "        \n",
    "        m = self.function(self.x)\n",
    "        \n",
    "        # In Poisson likelihood models cannot be negative. Enforce this, however\n",
    "        # keep in mind that due to precision error values could be close to zero\n",
    "        \n",
    "        if np.any(np.abs(m + 1e-6) < 0):\n",
    "            \n",
    "            # Return a big value for the -log(like) so the fitting\n",
    "            # engine will stay away\n",
    "            return 1e6\n",
    "        \n",
    "        # The Poisson log. likelihood is\n",
    "        # the sum of y_{i} log(m_i) - m_i\n",
    "        # (we ignore the term log(y_i!) which is irrelevant for the fit)\n",
    "        # where y_i and m_i are respectively the observed\n",
    "        # number of counts and the value of the model in the i-th bin\n",
    "        \n",
    "        loglike = np.sum(self.y * np.log(m) - m)\n",
    "        \n",
    "        #print(\"%s -> %s\" % (new_values, -loglike))\n",
    "        \n",
    "        return -loglike\n",
    "\n",
    "\n",
    "# Instance a composite function composed by a power law and a Gaussian\n",
    "\n",
    "fit_func = powerlaw(K=10.0,piv=1.0) + gaussian(mu=0.35, F=10**1.4, sigma=0.02)\n",
    "\n",
    "# Generate some fake data\n",
    "\n",
    "xdata = np.logspace(-1, 1, 100)\n",
    "\n",
    "y = fit_func(xdata)\n",
    "\n",
    "# Create the data with Poisson noise\n",
    "\n",
    "ydata = np.random.poisson(y)\n",
    "\n",
    "# Now instance the loglike class for the particular data we have\n",
    "this_log_like = LogLike(xdata,ydata,fit_func)\n",
    "\n",
    "# Initial guess for the fit: let's start a bit off so the\n",
    "# fitting function actually needs to do something\n",
    "\n",
    "p0 = map(lambda x:x.get_randomized_value(variance=0.05), fit_func.free_parameters.values())\n",
    "\n",
    "print(\"Starting values: %s\" % p0)\n",
    "\n",
    "# Make the bounds tuple, i.e., the constraints on the parameters\n",
    "# (note that scipy.optimize.minimize uses a different structure for the bounds,\n",
    "# which need to be a list of (min,max) tuples instead of two lists like\n",
    "# scipy.optimize.curve_fit)\n",
    "\n",
    "bounds = []\n",
    "\n",
    "for parameter in fit_func.free_parameters.values():\n",
    "    \n",
    "    # scipy doesn't like None (which in astromodel means no boundary in that direction) \n",
    "    # It instead uses np.inf to indicate no boundary (with the appropriate sign)\n",
    "    # Also minimize has the bad habit of setting the parameter just a tiny bit outside\n",
    "    # its boundaries. So, let's restrict a little bit the range to counteract this\n",
    "    \n",
    "    this_minimum = (parameter.scaled_min_value + abs(parameter.min_value/1000) \n",
    "                                         if parameter.min_value is not None else -np.inf)\n",
    "    this_maximum = (parameter.scaled_max_value - abs(parameter.max_value/1000) \n",
    "                                         if parameter.max_value is not None else np.inf)\n",
    "    \n",
    "    bounds.append((this_minimum, this_maximum))\n",
    "    \n",
    "# Perform the fit\n",
    "\n",
    "res = scipy.optimize.minimize(this_log_like.minus_log_like, p0, bounds=bounds, method='L-BFGS-B')\n",
    "\n",
    "%timeit scipy.optimize.minimize(this_log_like.minus_log_like, p0, bounds=bounds, method='L-BFGS-B')\n",
    "\n",
    "# Plot data and model\n",
    "\n",
    "plt.errorbar(xdata,ydata,yerr=np.sqrt(ydata),fmt='.')\n",
    "plt.loglog(xdata,fit_func(xdata))\n",
    "_ = plt.xlabel(\"x\")\n",
    "_ = plt.ylabel(\"y\")\n",
    "\n",
    "# Print the results\n",
    "# Since we are at it, let's put the results in a nice table\n",
    "print(\"\\nMinimum of -log(likelihood): %s\\n\" % res.fun)\n",
    "print(\"\\nBest fit parameters:\\n\")\n",
    "\n",
    "results = collections.OrderedDict()\n",
    "\n",
    "for i, par_name in enumerate(fit_func.free_parameters.keys()):\n",
    "    \n",
    "    results[par_name] = {'value': '%.2f' % res.x[i], 'error': '%.3f' % 0.1}\n",
    "\n",
    "print(dict_to_table(results))"
   ]
  },
  {
   "cell_type": "markdown",
   "metadata": {},
   "source": [
    "## Maximum likelihood fit with iminuit"
   ]
  },
  {
   "cell_type": "markdown",
   "metadata": {},
   "source": [
    "iminuit (http://iminuit.readthedocs.org/) is a python wrapper for the MINUIT fitting algorithm, and it is very convenient for fitting in python. Here is an example, very similary to the previous one, but using iminuit instead of scipy:"
   ]
  },
  {
   "cell_type": "code",
   "execution_count": 17,
   "metadata": {
    "collapsed": false
   },
   "outputs": [
    {
     "name": "stdout",
     "output_type": "stream",
     "text": [
      "100 loops, best of 3: 2.43 ms per loop\n",
      "\n",
      "Best fit parameters:\n",
      "\n",
      "  name  value error\n",
      "------- ----- -----\n",
      "    K_1  0.11 0.009\n",
      "index_1 -1.99 0.020\n",
      "    F_2 10.19 0.589\n",
      "   mu_2  0.35 0.001\n",
      "sigma_2  0.02 0.001\n"
     ]
    },
    {
     "data": {
      "image/png": "[encoded data removed]",
      "text/plain": [
       "<matplotlib.figure.Figure at 0x6083110>"
      ]
     },
     "metadata": {},
     "output_type": "display_data"
    }
   ],
   "source": [
    "import numpy as np\n",
    "import iminuit\n",
    "from astromodels import *\n",
    "from astromodels.utils.table import dict_to_table\n",
    "import collections\n",
    "import matplotlib.pyplot as plt\n",
    "\n",
    "# Use this only in the ipython notebook\n",
    "%matplotlib inline\n",
    "\n",
    "# Create a log-likelihood class, which will provide the objective function\n",
    "# to minimize (the -log(likelihood) in this case)\n",
    "\n",
    "class LogLike(object):\n",
    "    \n",
    "    def __init__(self, x, y, function):\n",
    "        \n",
    "        # Store data and model instance\n",
    "        \n",
    "        self.x = x\n",
    "        self.y = y\n",
    "        self.function = function\n",
    "        \n",
    "        # Get the dictionary of free parameters\n",
    "        # (we assume that it will not change after construction)\n",
    "        self.free_parameters = self.function.free_parameters\n",
    "    \n",
    "    def minus_log_like(self, *new_values):\n",
    "                \n",
    "        # This method computes the -log(like) given the new parameters' values        \n",
    "        \n",
    "        # Assume we have the right number of values in input\n",
    "        \n",
    "        assert len(self.free_parameters) == len(new_values), \"wrong number of parameters\"\n",
    "        \n",
    "        # Assign the new values to the free parameters\n",
    "        # We could do this with this for loop:\n",
    "        \n",
    "        for i, par in enumerate(self.free_parameters.values()):\n",
    "            \n",
    "            par.scaled_value = new_values[i]\n",
    "        \n",
    "        # Evaluate the model\n",
    "        # (we assume there is only one point source)\n",
    "        \n",
    "        m = self.function(self.x)\n",
    "        \n",
    "        # In Poisson likelihood models cannot be negative. Enforce this, however\n",
    "        # keep in mind that due to precision error values could be close to zero\n",
    "        \n",
    "        if np.any(np.abs(m + 1e-6) < 0):\n",
    "            \n",
    "            # Return a big value for the -log(like) so the fitting\n",
    "            # engine will stay away\n",
    "            return 1e6\n",
    "        \n",
    "        # The Poisson log. likelihood is\n",
    "        # the sum of y_{i} log(m_i) - m_i\n",
    "        # (we ignore the term log(y_i!) which is irrelevant for the fit)\n",
    "        # where y_i and m_i are respectively the observed\n",
    "        # number of counts and the value of the model in the i-th bin\n",
    "        \n",
    "        loglike = np.sum(self.y * np.log(m) - m)\n",
    "        \n",
    "        #print(\"%s -> %s\" % (new_values, -loglike))\n",
    "        \n",
    "        return -loglike\n",
    "\n",
    "# Instance a composite function composed by a power law and a Gaussian\n",
    "\n",
    "fit_func = powerlaw(K=0.1,piv=10.0) + gaussian(mu=0.35, F=10, sigma=0.02)\n",
    "\n",
    "# Generate some fake data\n",
    "\n",
    "xdata = np.logspace(-1, 1, 100)\n",
    "\n",
    "y = fit_func(xdata)\n",
    "\n",
    "# Create the data with Poisson noise\n",
    "\n",
    "ydata = np.random.poisson(y)\n",
    "\n",
    "# Now instance the loglike class for the particular data we have\n",
    "this_log_like = LogLike(xdata,ydata,fit_func)\n",
    "\n",
    "# Build a dictionary with the options for iminuit\n",
    "\n",
    "iminuit_opt = {}\n",
    "\n",
    "# Tell minuit the name of the parameters\n",
    "iminuit_opt['forced_parameters'] = map(lambda x:x.name, fit_func.free_parameters.values())\n",
    "\n",
    "for parameter in fit_func.free_parameters.values():\n",
    "    \n",
    "    # Initial guess for the fit: let's start a bit off so the\n",
    "    # fitting function actually needs to do something\n",
    "    \n",
    "    iminuit_opt[parameter.name] = parameter.get_randomized_value()\n",
    "    \n",
    "    iminuit_opt['error_%s' % parameter.name] = parameter.delta\n",
    "    \n",
    "    iminuit_opt['limit_%s' % parameter.name] = (parameter.min_value, parameter.max_value)\n",
    "    \n",
    "# These options are needed for a likelihood fit\n",
    "iminuit_opt['errordef'] = 0.5\n",
    "\n",
    "iminuit_opt['print_level'] = 0\n",
    "\n",
    "# Perform the fit\n",
    "\n",
    "minuit = iminuit.Minuit(this_log_like.minus_log_like, **iminuit_opt)\n",
    "\n",
    "res = minuit.migrad()\n",
    "\n",
    "# Plot data and model\n",
    "\n",
    "plt.errorbar(xdata,ydata,yerr=np.sqrt(ydata),fmt='.')\n",
    "plt.loglog(xdata,fit_func(xdata))\n",
    "_ = plt.xlabel(\"x\")\n",
    "_ = plt.ylabel(\"y\")\n",
    "\n",
    "# Print the results\n",
    "# Since we are at it, let's put the results in a nice table\n",
    "\n",
    "print(\"\\nBest fit parameters:\\n\")\n",
    "\n",
    "results = collections.OrderedDict()\n",
    "\n",
    "for i, par_name in enumerate(fit_func.free_parameters.keys()):\n",
    "    \n",
    "    results[par_name] = {'value': '%.2f' % res[1][i]['value'], 'error': '%.3f' % res[1][i]['error']}\n",
    "\n",
    "print(dict_to_table(results))"
   ]
  },
  {
   "cell_type": "code",
   "execution_count": null,
   "metadata": {
    "collapsed": true
   },
   "outputs": [],
   "source": []
  }
 ],
 "metadata": {
  "kernelspec": {
   "display_name": "Python 2",
   "language": "python",
   "name": "python2"
  },
  "language_info": {
   "codemirror_mode": {
    "name": "ipython",
    "version": 2
   },
   "file_extension": ".py",
   "mimetype": "text/x-python",
   "name": "python",
   "nbconvert_exporter": "python",
   "pygments_lexer": "ipython2",
   "version": "2.7.6"
  }
 },
 "nbformat": 4,
 "nbformat_minor": 0
}

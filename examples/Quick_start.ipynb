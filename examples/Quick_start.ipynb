{
 "cells": [
  {
   "cell_type": "markdown",
   "metadata": {},
   "source": [
    "# Quick start"
   ]
  },
  {
   "cell_type": "markdown",
   "metadata": {},
   "source": [
    "In this quick tutorial we will learn how to create a simple model with one point source, with a power law spectrum. You can of course use any function instead of the power law. Use \"list_models()\" to obtain a list of available models."
   ]
  },
  {
   "cell_type": "markdown",
   "metadata": {},
   "source": [
    "Let's define the model:"
   ]
  },
  {
   "cell_type": "code",
   "execution_count": 1,
   "metadata": {
    "collapsed": false
   },
   "outputs": [
    {
     "name": "stderr",
     "output_type": "stream",
     "text": [
      "/home/giacomov/software/canopy-env/lib/python2.7/site-packages/astropy/utils/introspection.py:154: UserWarning: Module errno was already imported from None, but /home/giacomov/software/canopy-env/lib/python2.7/site-packages is being added to sys.path\n",
      "  from pkg_resources import parse_version\n"
     ]
    }
   ],
   "source": [
    "from astromodels import *\n",
    "\n",
    "test_source = PointSource('test_source',ra=123.22, dec=-13.56, spectral_shape=powerlaw_flux())\n",
    "\n",
    "my_model = Model(test_source)"
   ]
  },
  {
   "cell_type": "markdown",
   "metadata": {},
   "source": [
    "Now let's use it:"
   ]
  },
  {
   "cell_type": "code",
   "execution_count": 2,
   "metadata": {
    "collapsed": false
   },
   "outputs": [
    {
     "name": "stdout",
     "output_type": "stream",
     "text": [
      "Differential flux @ 1 keV : 1.010 photons / ( cm2 s keV)\n"
     ]
    }
   ],
   "source": [
    "# Get and print the differential flux at 1 keV:\n",
    "\n",
    "differential_flux_at_1_keV = my_model.test_source(1.0)\n",
    "\n",
    "print(\"Differential flux @ 1 keV : %.3f photons / ( cm2 s keV)\" % differential_flux_at_1_keV)"
   ]
  },
  {
   "cell_type": "code",
   "execution_count": 3,
   "metadata": {
    "collapsed": false
   },
   "outputs": [],
   "source": [
    "# Evaluate the model on an array of 100 energies logarithmically distributed between 1 and 100 keV\n",
    "\n",
    "# Set up the energies\n",
    "\n",
    "energies = np.logspace(0,2,100)\n",
    "\n",
    "# Get the differential flux\n",
    "\n",
    "differential_flux = my_model.test_source(energies)"
   ]
  },
  {
   "cell_type": "code",
   "execution_count": 4,
   "metadata": {
    "collapsed": false
   },
   "outputs": [
    {
     "data": {
      "text/plain": [
       "<matplotlib.text.Text at 0x5862910>"
      ]
     },
     "execution_count": 4,
     "metadata": {},
     "output_type": "execute_result"
    },
    {
     "data": {
      "image/png": "[encoded data removed]",
      "text/plain": [
       "<matplotlib.figure.Figure at 0x5794ad0>"
      ]
     },
     "metadata": {},
     "output_type": "display_data"
    }
   ],
   "source": [
    "# Plot it with the help of matplotlib \n",
    "# Matplotlib is not required by astromodels, although you need it\n",
    "# for this part of the example\n",
    "\n",
    "import matplotlib.pyplot as plt\n",
    "\n",
    "# Do not execute this if you are not using the IPython notebook\n",
    "\n",
    "########\n",
    "\n",
    "%matplotlib inline\n",
    "\n",
    "########\n",
    "\n",
    "plt.loglog(energies, differential_flux)\n",
    "\n",
    "plt.xlabel(\"Energy (keV)\")\n",
    "plt.ylabel(\"Differential flux (ph./cm2/s/keV)\")"
   ]
  },
  {
   "cell_type": "code",
   "execution_count": null,
   "metadata": {
    "collapsed": true
   },
   "outputs": [],
   "source": []
  }
 ],
 "metadata": {
  "kernelspec": {
   "display_name": "Python 2",
   "language": "python",
   "name": "python2"
  },
  "language_info": {
   "codemirror_mode": {
    "name": "ipython",
    "version": 2
   },
   "file_extension": ".py",
   "mimetype": "text/x-python",
   "name": "python",
   "nbconvert_exporter": "python",
   "pygments_lexer": "ipython2",
   "version": "2.7.6"
  }
 },
 "nbformat": 4,
 "nbformat_minor": 0
}

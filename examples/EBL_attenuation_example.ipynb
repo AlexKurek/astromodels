{
 "cells": [
  {
   "cell_type": "markdown",
   "metadata": {},
   "source": [
    "# EBL Attenuation of a Spectral Model"
   ]
  },
  {
   "cell_type": "markdown",
   "metadata": {},
   "source": [
    "In this notebook we create a simple *astromodels* spectrum and then apply EBL attenuation, as a function of redshift and energy.\n",
    "\n",
    "The `EBLattenuation` class in astromodels relies directly on the *ebltable* package by Manuel Meyer, see [ebltable](https://github.com/me-manu/ebltable) .\n",
    "Currently, the 3ML implementation selects the `Dominguez` model for optical depth by default."
   ]
  },
  {
   "cell_type": "code",
   "execution_count": 1,
   "metadata": {},
   "outputs": [
    {
     "name": "stdout",
     "output_type": "stream",
     "text": [
      "Configuration read from /home/rlauer/.threeML/threeML_config.yml\n"
     ]
    }
   ],
   "source": [
    "from threeML import *"
   ]
  },
  {
   "cell_type": "code",
   "execution_count": 2,
   "metadata": {
    "collapsed": true
   },
   "outputs": [],
   "source": [
    "# define power law spectrum\n",
    "sourceName = 'Mrk421'\n",
    "spectrum = Powerlaw()\n",
    "#put it into a PS model, in this context primarily in order to establish units\n",
    "source1 = PointSource(sourceName, ra=166.11, dec=38.21, spectral_shape=spectrum)\n",
    "#and set parameters:\n",
    "spectrum.piv = 1. * u.TeV\n",
    "spectrum.K = 1.e-11 / (u.TeV * u.cm**2 * u.s)\n",
    "spectrum.index = -2.2"
   ]
  },
  {
   "cell_type": "code",
   "execution_count": 3,
   "metadata": {},
   "outputs": [
    {
     "data": {
      "text/html": [
       "<ul>\n",
       "\n",
       "<li>description: (Powerlaw{1} * EBLattenuation{2})</li>\n",
       "\n",
       "<li>formula: (no latex formula available)</li>\n",
       "\n",
       "<li>parameters: \n",
       "<ul>\n",
       "\n",
       "<li>K_1: \n",
       "<ul>\n",
       "\n",
       "<li>value: 1e-20</li>\n",
       "\n",
       "<li>desc: Normalization (differential flux at the pivot value)</li>\n",
       "\n",
       "<li>min_value: 1e-30</li>\n",
       "\n",
       "<li>max_value: 1000.0</li>\n",
       "\n",
       "<li>unit: cm-2 keV-1 s-1</li>\n",
       "\n",
       "<li>is_normalization: True</li>\n",
       "\n",
       "<li>delta: 0.1</li>\n",
       "\n",
       "<li>free: True</li>\n",
       "\n",
       "</ul>\n",
       "\n",
       "</li>\n",
       "\n",
       "<li>piv_1: \n",
       "<ul>\n",
       "\n",
       "<li>value: 1000000000.0</li>\n",
       "\n",
       "<li>desc: Pivot value</li>\n",
       "\n",
       "<li>min_value: None</li>\n",
       "\n",
       "<li>max_value: None</li>\n",
       "\n",
       "<li>unit: keV</li>\n",
       "\n",
       "<li>is_normalization: False</li>\n",
       "\n",
       "<li>delta: 0.1</li>\n",
       "\n",
       "<li>free: False</li>\n",
       "\n",
       "</ul>\n",
       "\n",
       "</li>\n",
       "\n",
       "<li>index_1: \n",
       "<ul>\n",
       "\n",
       "<li>value: -2.2</li>\n",
       "\n",
       "<li>desc: Photon index</li>\n",
       "\n",
       "<li>min_value: -10.0</li>\n",
       "\n",
       "<li>max_value: 10.0</li>\n",
       "\n",
       "<li>unit: </li>\n",
       "\n",
       "<li>is_normalization: False</li>\n",
       "\n",
       "<li>delta: 0.2</li>\n",
       "\n",
       "<li>free: True</li>\n",
       "\n",
       "</ul>\n",
       "\n",
       "</li>\n",
       "\n",
       "<li>redshift_2: \n",
       "<ul>\n",
       "\n",
       "<li>value: 1.0</li>\n",
       "\n",
       "<li>desc: redshift of the source</li>\n",
       "\n",
       "<li>min_value: None</li>\n",
       "\n",
       "<li>max_value: None</li>\n",
       "\n",
       "<li>unit: </li>\n",
       "\n",
       "<li>is_normalization: False</li>\n",
       "\n",
       "<li>delta: 0.1</li>\n",
       "\n",
       "<li>free: False</li>\n",
       "\n",
       "</ul>\n",
       "\n",
       "</li>\n",
       "\n",
       "</ul>\n",
       "\n",
       "</li>\n",
       "\n",
       "</ul>\n"
      ],
      "text/plain": [
       "  * description: (Powerlaw{1} * EBLattenuation{2})\n",
       "  * formula: (no latex formula available)\n",
       "  * parameters: \n",
       "    * K_1: \n",
       "      * value: 1e-20\n",
       "      * desc: Normalization (differential flux at the pivot value)\n",
       "      * min_value: 1e-30\n",
       "      * max_value: 1000.0\n",
       "      * unit: cm-2 keV-1 s-1\n",
       "      * is_normalization: True\n",
       "      * delta: 0.1\n",
       "      * free: True\n",
       "    * piv_1: \n",
       "      * value: 1000000000.0\n",
       "      * desc: Pivot value\n",
       "      * min_value: None\n",
       "      * max_value: None\n",
       "      * unit: keV\n",
       "      * is_normalization: False\n",
       "      * delta: 0.1\n",
       "      * free: False\n",
       "    * index_1: \n",
       "      * value: -2.2\n",
       "      * desc: Photon index\n",
       "      * min_value: -10.0\n",
       "      * max_value: 10.0\n",
       "      * unit: \n",
       "      * is_normalization: False\n",
       "      * delta: 0.2\n",
       "      * free: True\n",
       "    * redshift_2: \n",
       "      * value: 1.0\n",
       "      * desc: redshift of the source\n",
       "      * min_value: None\n",
       "      * max_value: None\n",
       "      * unit: \n",
       "      * is_normalization: False\n",
       "      * delta: 0.1\n",
       "      * free: False\n"
      ]
     },
     "metadata": {},
     "output_type": "display_data"
    }
   ],
   "source": [
    "#define attenuated spectrum:\n",
    "ebl = EBLattenuation()\n",
    "spectrumEBL = spectrum * ebl\n",
    "source2 = PointSource(sourceName, ra=166.11, dec=38.21, spectral_shape=spectrumEBL)\n",
    "#show new parameter names:\n",
    "spectrumEBL.display()"
   ]
  },
  {
   "cell_type": "code",
   "execution_count": 4,
   "metadata": {
    "collapsed": true
   },
   "outputs": [],
   "source": [
    "#set redshift:\n",
    "spectrumEBL.redshift_2 = 0.031*u.dimensionless_unscaled"
   ]
  },
  {
   "cell_type": "code",
   "execution_count": 5,
   "metadata": {},
   "outputs": [
    {
     "data": {
      "image/png": "[encoded data removed]",
      "text/plain": [
       "<matplotlib.figure.Figure at 0x8d10690>"
      ]
     },
     "metadata": {},
     "output_type": "display_data"
    }
   ],
   "source": [
    "#use matplotlib to plot both spectra:\n",
    "import matplotlib.pyplot as plt\n",
    "import numpy as np\n",
    "energies = np.logspace(-1.,2.,100)*u.TeV\n",
    "#factor 1e9 to convert to TeV^-1\n",
    "plt.loglog(energies,spectrum(energies)*1e9,label=\"intrinsic\")\n",
    "plt.loglog(energies,spectrumEBL(energies)*1e9,label=\"with EBL attenuation\")\n",
    "plt.legend(loc=1)\n",
    "\n",
    "plt.xlim(0.2,100.)\n",
    "plt.ylim(1e-19,1e-9)\n",
    "plt.xlabel(\"Energy [TeV]\")\n",
    "plt.ylabel(r\"Flux (ph cm$^{-2}$ s$^{-1}$ TeV$^{-1}$)\")\n",
    "\n",
    "plt.show()"
   ]
  }
 ],
 "metadata": {
  "kernelspec": {
   "display_name": "Python 2",
   "language": "python",
   "name": "python2"
  },
  "language_info": {
   "codemirror_mode": {
    "name": "ipython",
    "version": 2
   },
   "file_extension": ".py",
   "mimetype": "text/x-python",
   "name": "python",
   "nbconvert_exporter": "python",
   "pygments_lexer": "ipython2",
   "version": "2.7.5"
  }
 },
 "nbformat": 4,
 "nbformat_minor": 2
}

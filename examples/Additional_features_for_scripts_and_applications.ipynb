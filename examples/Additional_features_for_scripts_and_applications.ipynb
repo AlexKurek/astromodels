{
 "cells": [
  {
   "cell_type": "markdown",
   "metadata": {},
   "source": [
    "# Additional features for scripts and applications"
   ]
  },
  {
   "cell_type": "markdown",
   "metadata": {},
   "source": [
    "In this document we describe some features of the astromodels package which are useful for non-interactive environment such as scripts or applications"
   ]
  },
  {
   "cell_type": "markdown",
   "metadata": {},
   "source": [
    "First let's import astromodels and let's load a model from a file, which we will use as example:"
   ]
  },
  {
   "cell_type": "code",
   "execution_count": 1,
   "metadata": {
    "collapsed": false
   },
   "outputs": [],
   "source": [
    "from astromodels import *"
   ]
  },
  {
   "cell_type": "code",
   "execution_count": 2,
   "metadata": {
    "collapsed": true
   },
   "outputs": [],
   "source": [
    "my_model = load_model(\"my_model.yml\")"
   ]
  },
  {
   "cell_type": "markdown",
   "metadata": {},
   "source": [
    "## Get dictionaries of point and extended sources"
   ]
  },
  {
   "cell_type": "markdown",
   "metadata": {},
   "source": [
    "If you don't know the details (such as names) of the sources contained in the model, you can obtain dictionaries of point sources and extended sources like:"
   ]
  },
  {
   "cell_type": "code",
   "execution_count": 3,
   "metadata": {
    "collapsed": false
   },
   "outputs": [
    {
     "name": "stdout",
     "output_type": "stream",
     "text": [
      "['source_1', 'source_2']\n",
      "[]\n"
     ]
    }
   ],
   "source": [
    "point_sources = my_model.point_sources\n",
    "extended_sources = my_model.extended_sources\n",
    "\n",
    "# Print the names of the point sources\n",
    "print(point_sources.keys())\n",
    "\n",
    "# Print the names of the extended sources\n",
    "print(extended_sources.keys())"
   ]
  },
  {
   "cell_type": "markdown",
   "metadata": {},
   "source": [
    "You can use these dictionaries as usual. For example, you can loop over all point sources and print their position:"
   ]
  },
  {
   "cell_type": "code",
   "execution_count": 4,
   "metadata": {
    "collapsed": false
   },
   "outputs": [
    {
     "name": "stdout",
     "output_type": "stream",
     "text": [
      "The model contain point source source_1 at Sky direction (R.A., Dec.) = (125.60000, -75.30000) (J2000)\n",
      "The model contain point source source_2 at Sky direction (l, b) = (11.25000, -22.50000) (J2000)\n"
     ]
    }
   ],
   "source": [
    "for source_name, point_source in point_sources.iteritems():\n",
    "    \n",
    "    print(\"The model contain point source %s at %s\" % (source_name, point_source.position))"
   ]
  },
  {
   "cell_type": "markdown",
   "metadata": {},
   "source": [
    "## Accessing components and spectral shapes with no previous information"
   ]
  },
  {
   "cell_type": "markdown",
   "metadata": {},
   "source": [
    "Similarly you can access components and their spectral shapes (i.e., functions) without knowing the names in advance. A dictionary containing the components of a given source can be obtained with: "
   ]
  },
  {
   "cell_type": "code",
   "execution_count": 5,
   "metadata": {
    "collapsed": false
   },
   "outputs": [
    {
     "name": "stdout",
     "output_type": "stream",
     "text": [
      "['synchrotron', 'IC']\n"
     ]
    }
   ],
   "source": [
    "components = my_model.source_2.components\n",
    "print(components.keys())"
   ]
  },
  {
   "cell_type": "markdown",
   "metadata": {},
   "source": [
    "So now we can loop over all the sources and print their components:"
   ]
  },
  {
   "cell_type": "code",
   "execution_count": 6,
   "metadata": {
    "collapsed": false
   },
   "outputs": [
    {
     "name": "stdout",
     "output_type": "stream",
     "text": [
      "Point source source_1 has components ['main']\n",
      "Point source source_2 has components ['synchrotron', 'IC']\n"
     ]
    }
   ],
   "source": [
    "for source_name, point_source in my_model.point_sources.iteritems():\n",
    "    \n",
    "    print(\"Point source %s has components %s\" % (source_name, point_source.components.keys()))"
   ]
  },
  {
   "cell_type": "markdown",
   "metadata": {},
   "source": [
    "With a fully-qualified path, you would need to know the name of the function to access its parameters. Instead, you can use the generic name \"shape\". For example these two statements point to the same function instance:"
   ]
  },
  {
   "cell_type": "code",
   "execution_count": 7,
   "metadata": {
    "collapsed": false
   },
   "outputs": [
    {
     "data": {
      "text/plain": [
       "True"
      ]
     },
     "execution_count": 7,
     "metadata": {},
     "output_type": "execute_result"
    }
   ],
   "source": [
    "my_model.source_1.spectrum.main.powerlaw == my_model.source_1.spectrum.main.shape"
   ]
  },
  {
   "cell_type": "markdown",
   "metadata": {},
   "source": [
    "Once you have a function instance, you can obtain a dictionary of its parameters as:"
   ]
  },
  {
   "cell_type": "code",
   "execution_count": 8,
   "metadata": {
    "collapsed": false
   },
   "outputs": [
    {
     "name": "stdout",
     "output_type": "stream",
     "text": [
      "['logK', 'piv', 'index']\n"
     ]
    }
   ],
   "source": [
    "parameters = my_model.source_1.spectrum.main.powerlaw.parameters\n",
    "print(parameters.keys())"
   ]
  },
  {
   "cell_type": "markdown",
   "metadata": {},
   "source": [
    "Putting it all together, let's loop over all sources in our model, then over each component in each source, then over each parameter in each component:"
   ]
  },
  {
   "cell_type": "code",
   "execution_count": 9,
   "metadata": {
    "collapsed": false
   },
   "outputs": [
    {
     "name": "stdout",
     "output_type": "stream",
     "text": [
      "Found source source_1\n",
      "  Position of point source: Sky direction (R.A., Dec.) = (125.60000, -75.30000) (J2000)\n",
      "    Found component main\n",
      "      Found parameter logK\n",
      "      Found parameter piv\n",
      "      Found parameter index\n",
      "Found source source_2\n",
      "  Position of point source: Sky direction (l, b) = (11.25000, -22.50000) (J2000)\n",
      "    Found component synchrotron\n",
      "      Found parameter logK\n",
      "      Found parameter piv\n",
      "      Found parameter index\n",
      "    Found component IC\n",
      "      Found parameter logK\n",
      "      Found parameter piv\n",
      "      Found parameter index\n"
     ]
    }
   ],
   "source": [
    "for source_name, point_source in my_model.point_sources.iteritems():\n",
    "    \n",
    "    print(\"Found source %s\" % source_name)\n",
    "    \n",
    "    print(\"  Position of point source: %s\" % point_source.position)\n",
    "    \n",
    "    for component_name, component in point_source.components.iteritems():\n",
    "        \n",
    "        print(\"    Found component %s\" % component_name)\n",
    "        \n",
    "        for parameter_name, parameter in component.shape.parameters.iteritems():\n",
    "            \n",
    "            print(\"      Found parameter %s\" % parameter_name)"
   ]
  },
  {
   "cell_type": "markdown",
   "metadata": {},
   "source": [
    "Let's now plot the differential flux between 1 and 100 keV of all components from all sources:"
   ]
  },
  {
   "cell_type": "code",
   "execution_count": 10,
   "metadata": {
    "collapsed": false
   },
   "outputs": [
    {
     "data": {
      "image/png": "[encoded data removed]",
      "text/plain": [
       "<matplotlib.figure.Figure at 0x3195150>"
      ]
     },
     "metadata": {},
     "output_type": "display_data"
    }
   ],
   "source": [
    "import matplotlib.pyplot as plt\n",
    "\n",
    "# Comment this out if you are not using the IPython notebook\n",
    "%matplotlib inline\n",
    "\n",
    "# Prepare 100 energies logarithmicall spaced between 1 and 100 keV\n",
    "energies = np.logspace(0,2,100)\n",
    "\n",
    "# Now loop over all point sources and plot them\n",
    "for source_name, point_source in my_model.point_sources.iteritems():\n",
    "    \n",
    "    # Plot the sum of all components for this source\n",
    "    \n",
    "    plt.loglog(energies, point_source(energies),label=source_name)\n",
    "    \n",
    "    # If there is more than one component, plot them also separately\n",
    "    \n",
    "    if len(point_source.components) > 1:\n",
    "    \n",
    "        for component_name, component in point_source.components.iteritems():\n",
    "        \n",
    "            plt.loglog(energies,component.shape(energies),'--',label=\"%s of %s\" %(component_name, source_name))\n",
    "\n",
    "# Add a legend\n",
    "plt.legend(loc=0,frameon=False)\n",
    "\n",
    "_ = plt.xlabel(\"Energy (keV)\")\n",
    "_ = plt.ylabel(r\"Flux (ph cm$^{-2}$ s$^{-1}$ keV$^{-1}$\")"
   ]
  },
  {
   "cell_type": "markdown",
   "metadata": {},
   "source": [
    "## Getting the path of an element and using it programmatically"
   ]
  },
  {
   "cell_type": "markdown",
   "metadata": {},
   "source": [
    "Whenever you have an element from the model, you can get its fully-qualified path by using the .path property. This for example will print the path of all the parameters in the model:"
   ]
  },
  {
   "cell_type": "code",
   "execution_count": 11,
   "metadata": {
    "collapsed": false
   },
   "outputs": [
    {
     "name": "stdout",
     "output_type": "stream",
     "text": [
      "source_1.spectrum.main.powerlaw.logK\n",
      "source_1.spectrum.main.powerlaw.piv\n",
      "source_1.spectrum.main.powerlaw.index\n",
      "source_2.spectrum.synchrotron.powerlaw.logK\n",
      "source_2.spectrum.synchrotron.powerlaw.piv\n",
      "source_2.spectrum.synchrotron.powerlaw.index\n",
      "source_2.spectrum.IC.powerlaw.logK\n",
      "source_2.spectrum.IC.powerlaw.piv\n",
      "source_2.spectrum.IC.powerlaw.index\n"
     ]
    }
   ],
   "source": [
    "for source_name, point_source in my_model.point_sources.iteritems():\n",
    "    \n",
    "    for component_name, component in point_source.components.iteritems():\n",
    "        \n",
    "        for parameter_name, parameter in component.shape.parameters.iteritems():\n",
    "            \n",
    "            print(parameter.path)"
   ]
  },
  {
   "cell_type": "markdown",
   "metadata": {},
   "source": [
    "If you have a path of an element in a string, you can use it to access the element by using the [] operator of the Model class like this:"
   ]
  },
  {
   "cell_type": "code",
   "execution_count": 12,
   "metadata": {
    "collapsed": false
   },
   "outputs": [
    {
     "name": "stdout",
     "output_type": "stream",
     "text": [
      "Parameter logK = -0.32\n",
      "(min_value = -40, max_value = 40, delta = 0.1, free = True)\n"
     ]
    }
   ],
   "source": [
    "my_path = 'source_2.spectrum.IC.powerlaw.logK'\n",
    "\n",
    "logK = my_model[my_path]\n",
    "\n",
    "print(logK)"
   ]
  },
  {
   "cell_type": "markdown",
   "metadata": {},
   "source": [
    "## Alternative way of accessing the information in the model"
   ]
  },
  {
   "cell_type": "markdown",
   "metadata": {},
   "source": [
    "We present here an alternative way to get information from the model without using dictionaries, and using instead source IDs. A source ID is just an ordinal number, separate for point sources and extended sources. Hence, the first point source has ID 0, the second point source has ID 1, and so on. Similarly, the first extended source has ID 0, the second has ID 1 and so on:"
   ]
  },
  {
   "cell_type": "code",
   "execution_count": 13,
   "metadata": {
    "collapsed": false
   },
   "outputs": [
    {
     "name": "stdout",
     "output_type": "stream",
     "text": [
      "The first point source is called source_1\n",
      "The second point source is called source_2\n",
      "Point source ID 0 has name source_1\n",
      "Point source ID 1 has name source_2\n"
     ]
    }
   ],
   "source": [
    "# Get the number of point sources and of extended sources\n",
    "\n",
    "n_pts = my_model.get_number_of_point_sources()\n",
    "n_ext = my_model.get_number_of_extended_sources()\n",
    "\n",
    "# Get the name of the first point source\n",
    "\n",
    "print(\"The first point source is called %s\" % my_model.get_point_source_name(0))\n",
    "print(\"The second point source is called %s\" % my_model.get_point_source_name(1))\n",
    "\n",
    "# Of course you can achieve the same in a loop\n",
    "\n",
    "for id in range(n_pts):\n",
    "    \n",
    "    print(\"Point source ID %s has name %s\" % (id, my_model.get_point_source_name(id)))"
   ]
  },
  {
   "cell_type": "markdown",
   "metadata": {},
   "source": [
    "Once you have the ID of a source, you can obtain information about it with these methods of the Model class:"
   ]
  },
  {
   "cell_type": "code",
   "execution_count": 14,
   "metadata": {
    "collapsed": false
   },
   "outputs": [],
   "source": [
    "src_id = 1\n",
    "\n",
    "src_name = my_model.get_point_source_name(src_id)\n",
    "\n",
    "ra, dec = my_model.get_point_source_position(src_id) # This will always return ra,dec\n",
    "\n",
    "# Prepare 100 energies logarithmically spaced between 1 and 100 keV\n",
    "energies = np.logspace(0,2,100)\n",
    "\n",
    "differential_flux = my_model.get_point_source_fluxes(src_id, energies)\n",
    "\n",
    "# Similar methods exist for extended sources (to be completed)"
   ]
  },
  {
   "cell_type": "markdown",
   "metadata": {},
   "source": [
    "Depending on your application you might find these methods more convenient that interrogating the sources directly. Note however that some features are not available through this interface. For example, it is not possible to get information about different components through these methods."
   ]
  },
  {
   "cell_type": "code",
   "execution_count": null,
   "metadata": {
    "collapsed": true
   },
   "outputs": [],
   "source": []
  }
 ],
 "metadata": {
  "kernelspec": {
   "display_name": "Python 2",
   "language": "python",
   "name": "python2"
  },
  "language_info": {
   "codemirror_mode": {
    "name": "ipython",
    "version": 2
   },
   "file_extension": ".py",
   "mimetype": "text/x-python",
   "name": "python",
   "nbconvert_exporter": "python",
   "pygments_lexer": "ipython2",
   "version": "2.7.6"
  }
 },
 "nbformat": 4,
 "nbformat_minor": 0
}

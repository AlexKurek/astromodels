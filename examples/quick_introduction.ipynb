{
 "cells": [
  {
   "cell_type": "code",
   "execution_count": 1,
   "metadata": {
    "collapsed": false
   },
   "outputs": [
    {
     "name": "stderr",
     "output_type": "stream",
     "text": [
      "/home/giacomov/software/canopy-env/lib/python2.7/site-packages/astromodels-0.1-py2.7.egg/astromodels/functions/function.py:336: WarningNoTests: The function class synchrotron contains no tests.\n",
      "  warnings.warn(\"The function class %s contains no tests.\" % name, WarningNoTests)\n",
      "/home/giacomov/software/canopy-env/lib/python2.7/site-packages/astromodels-0.1-py2.7.egg/astromodels/functions/function.py:336: WarningNoTests: The function class line contains no tests.\n",
      "  warnings.warn(\"The function class %s contains no tests.\" % name, WarningNoTests)\n",
      "/home/giacomov/software/canopy-env/lib/python2.7/site-packages/astromodels-0.1-py2.7.egg/astromodels/functions/function.py:336: WarningNoTests: The function class band contains no tests.\n",
      "  warnings.warn(\"The function class %s contains no tests.\" % name, WarningNoTests)\n"
     ]
    }
   ],
   "source": [
    "from astromodels import *"
   ]
  },
  {
   "cell_type": "code",
   "execution_count": 2,
   "metadata": {
    "collapsed": false
   },
   "outputs": [
    {
     "data": {
      "text/html": [
       "Point sources: test_source<br><br>Extended sources: (none)<br><br>Free parameters:<br><table id=\"table82905168\">\n",
       "<thead><tr><th>name</th><th>value</th><th>min_value</th><th>max_value</th><th>delta</th><th>free</th></tr></thead>\n",
       "<tr><td>test_source.spectrum.main.powerlaw.logK</td><td>0.0</td><td>-40</td><td>40</td><td>0.1</td><td>True</td></tr>\n",
       "<tr><td>test_source.spectrum.main.powerlaw.index</td><td>-2.0</td><td>-10</td><td>10</td><td>0.2</td><td>True</td></tr>\n",
       "</table>"
      ],
      "text/plain": [
       "Point sources: test_source\n",
       "\n",
       "Extended sources: (none)\n",
       "\n",
       "Free parameters:\n",
       "                  name                   value min_value max_value delta free\n",
       "---------------------------------------- ----- --------- --------- ----- ----\n",
       " test_source.spectrum.main.powerlaw.logK   0.0       -40        40   0.1 True\n",
       "test_source.spectrum.main.powerlaw.index  -2.0       -10        10   0.2 True"
      ]
     },
     "metadata": {},
     "output_type": "display_data"
    }
   ],
   "source": [
    "# The simplest model: one point source with one component with a power law spectrum\n",
    "\n",
    "my_source = PointSource('test_source',ra=123.22, dec=-13.56, spectral_shape=powerlaw())\n",
    "\n",
    "my_model = Model(my_source)\n",
    "\n",
    "my_model.display()"
   ]
  },
  {
   "cell_type": "code",
   "execution_count": 3,
   "metadata": {
    "collapsed": false
   },
   "outputs": [],
   "source": [
    "# Evaluate the model on an array of 100 energies logarithmically distributed between 1 and 100 keV\n",
    "\n",
    "# Set up the energies\n",
    "\n",
    "energies = np.logspace(0,2,100)\n",
    "\n",
    "# Get the differential flux\n",
    "\n",
    "differential_flux = my_model.test_source(energies)\n",
    "\n",
    "# or equivalently:\n",
    "\n",
    "differential_flux = my_model['test_source'](energies)"
   ]
  },
  {
   "cell_type": "code",
   "execution_count": 7,
   "metadata": {
    "collapsed": false
   },
   "outputs": [
    {
     "data": {
      "text/plain": [
       "<matplotlib.text.Text at 0x5f23710>"
      ]
     },
     "execution_count": 7,
     "metadata": {},
     "output_type": "execute_result"
    },
    {
     "data": {
      "image/png": "[encoded data removed]",
      "text/plain": [
       "<matplotlib.figure.Figure at 0x5e4d210>"
      ]
     },
     "metadata": {},
     "output_type": "display_data"
    }
   ],
   "source": [
    "# Plot it with the help of matplotlib (you might need to install it with 'pip install matplotlib')\n",
    "\n",
    "import matplotlib.pyplot as plt\n",
    "\n",
    "# Do not execute this if you are not using the IPython notebook\n",
    "\n",
    "########\n",
    "\n",
    "%matplotlib inline\n",
    "\n",
    "########\n",
    "\n",
    "plt.loglog(energies, differential_flux)\n",
    "\n",
    "plt.xlabel(\"Energy (keV)\")\n",
    "plt.ylabel(\"Differential flux (ph./cm2/s/keV)\")"
   ]
  },
  {
   "cell_type": "code",
   "execution_count": null,
   "metadata": {
    "collapsed": true
   },
   "outputs": [],
   "source": []
  }
 ],
 "metadata": {
  "kernelspec": {
   "display_name": "Python 2",
   "language": "python",
   "name": "python2"
  },
  "language_info": {
   "codemirror_mode": {
    "name": "ipython",
    "version": 2
   },
   "file_extension": ".py",
   "mimetype": "text/x-python",
   "name": "python",
   "nbconvert_exporter": "python",
   "pygments_lexer": "ipython2",
   "version": "2.7.6"
  }
 },
 "nbformat": 4,
 "nbformat_minor": 0
}

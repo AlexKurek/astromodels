{
 "cells": [
  {
   "cell_type": "markdown",
   "metadata": {},
   "source": [
    "# Functions tutorial\n",
    "In astromodels functions can be used as spectral shapes for sources, or to describe time-dependence, phase-dependence, or links among parameters.\n",
    "\n",
    "To get the list of available functions just do:"
   ]
  },
  {
   "cell_type": "code",
   "execution_count": 1,
   "metadata": {
    "collapsed": false
   },
   "outputs": [
    {
     "data": {
      "text/html": [
       "<table id=\"table32516240\">\n",
       "<thead><tr><th>name</th><th>Description</th></tr></thead>\n",
       "<tr><td>band</td><td>The Band model from Band et al. 1993, implemented however in a way which reduces the covariances between the parameters (Calderone et al., MNRAS, 448, 403C, 2015)</td></tr>\n",
       "<tr><td>bias</td><td>Return x plus a bias</td></tr>\n",
       "<tr><td>cutoff_powerlaw_flux</td><td>A cutoff power law having the flux as normalization, which should reduce the correlation among parameters.</td></tr>\n",
       "<tr><td>gaussian</td><td>A Gaussian function</td></tr>\n",
       "<tr><td>identity</td><td>Return x</td></tr>\n",
       "<tr><td>line</td><td>A linear function</td></tr>\n",
       "<tr><td>log_parabola</td><td>A log-parabolic function</td></tr>\n",
       "<tr><td>log_uniform_prior</td><td>A function which is 1/x on the interval lower_bound - upper_bound and 0 outside the interval. The extremes of the interval are NOT counted as part of the interval. Lower_bound must be strictly positive.</td></tr>\n",
       "<tr><td>powerlaw</td><td>A simple power-law with normalization expressed as a logarithm</td></tr>\n",
       "<tr><td>powerlaw_flux</td><td>A simple power-law with the photon flux in a band used as normalization. This will reduce the correlation between the index and the normalization.</td></tr>\n",
       "<tr><td>sin</td><td>A sinusodial function</td></tr>\n",
       "<tr><td>synchrotron</td><td>Synchrotron spectrum from an input particle distribution, using Naima (naima.readthedocs.org)</td></tr>\n",
       "<tr><td>uniform_prior</td><td>A function which is constant on the interval lower_bound - upper_bound and 0 outside the interval. The extremes of the interval are counted as part of the interval.</td></tr>\n",
       "</table>"
      ],
      "text/plain": [
       "        name         ...\n",
       "-------------------- ...\n",
       "                band ...\n",
       "                bias ...\n",
       "cutoff_powerlaw_flux ...\n",
       "            gaussian ...\n",
       "            identity ...\n",
       "                line ...\n",
       "        log_parabola ...\n",
       "   log_uniform_prior ...\n",
       "            powerlaw ...\n",
       "       powerlaw_flux ...\n",
       "                 sin ...\n",
       "         synchrotron ...\n",
       "       uniform_prior ..."
      ]
     },
     "execution_count": 1,
     "metadata": {},
     "output_type": "execute_result"
    }
   ],
   "source": [
    "from astromodels import *\n",
    "\n",
    "list_functions()"
   ]
  },
  {
   "cell_type": "markdown",
   "metadata": {},
   "source": [
    "If you need more info about a function, you can obtain it by using:"
   ]
  },
  {
   "cell_type": "code",
   "execution_count": 2,
   "metadata": {
    "collapsed": false
   },
   "outputs": [
    {
     "data": {
      "text/html": [
       "<ul>\n",
       "\n",
       "<li>description: A simple power-law with normalization expressed as a logarithm</li>\n",
       "\n",
       "<li>formula: $ K~\\frac{x}{piv}^{index} $</li>\n",
       "\n",
       "<li>default parameters: \n",
       "<ul>\n",
       "\n",
       "<li>K: \n",
       "<ul>\n",
       "\n",
       "<li>value: 1.0</li>\n",
       "\n",
       "<li>min_value: None</li>\n",
       "\n",
       "<li>max_value: None</li>\n",
       "\n",
       "<li>unit: </li>\n",
       "\n",
       "<li>delta: 0.1</li>\n",
       "\n",
       "<li>free: True</li>\n",
       "\n",
       "</ul>\n",
       "\n",
       "</li>\n",
       "\n",
       "<li>piv: \n",
       "<ul>\n",
       "\n",
       "<li>value: 1.0</li>\n",
       "\n",
       "<li>min_value: None</li>\n",
       "\n",
       "<li>max_value: None</li>\n",
       "\n",
       "<li>unit: </li>\n",
       "\n",
       "<li>delta: 0.1</li>\n",
       "\n",
       "<li>free: False</li>\n",
       "\n",
       "</ul>\n",
       "\n",
       "</li>\n",
       "\n",
       "<li>index: \n",
       "<ul>\n",
       "\n",
       "<li>value: -2.0</li>\n",
       "\n",
       "<li>min_value: -10.0</li>\n",
       "\n",
       "<li>max_value: 10.0</li>\n",
       "\n",
       "<li>unit: </li>\n",
       "\n",
       "<li>delta: 0.2</li>\n",
       "\n",
       "<li>free: True</li>\n",
       "\n",
       "</ul>\n",
       "\n",
       "</li>\n",
       "\n",
       "</ul>\n",
       "\n",
       "</li>\n",
       "\n",
       "</ul>\n"
      ],
      "text/plain": [
       "<IPython.core.display.HTML object>"
      ]
     },
     "metadata": {},
     "output_type": "display_data"
    }
   ],
   "source": [
    "powerlaw.info()"
   ]
  },
  {
   "cell_type": "markdown",
   "metadata": {},
   "source": [
    "Note that you don't need to create an instance in order to call the info() method."
   ]
  },
  {
   "cell_type": "markdown",
   "metadata": {},
   "source": [
    "## Creating functions"
   ]
  },
  {
   "cell_type": "markdown",
   "metadata": {},
   "source": [
    "Functions can be created in two different ways. We can create an instance with the default values for the parameters like this:"
   ]
  },
  {
   "cell_type": "code",
   "execution_count": 3,
   "metadata": {
    "collapsed": true
   },
   "outputs": [],
   "source": [
    "powerlaw_instance = powerlaw()"
   ]
  },
  {
   "cell_type": "markdown",
   "metadata": {},
   "source": [
    "or we can specify on construction specific values for the parameters:"
   ]
  },
  {
   "cell_type": "code",
   "execution_count": 4,
   "metadata": {
    "collapsed": false
   },
   "outputs": [],
   "source": [
    "powerlaw_instance = powerlaw(K=-2.0, index=-2.2)"
   ]
  },
  {
   "cell_type": "markdown",
   "metadata": {},
   "source": [
    "If you don't remember the names of the parameters just call the .info() method as in powerlaw.info() as demonstrated above."
   ]
  },
  {
   "cell_type": "markdown",
   "metadata": {},
   "source": [
    "## Getting information about an instance"
   ]
  },
  {
   "cell_type": "markdown",
   "metadata": {},
   "source": [
    "Using the .display() method we get a representation of the instance which exploits the features of the environment we are using. If we are running inside a IPython notebook, a rich representation with the formula of the function will be displayed (if available). Otherwise, in a normal terminal, the latex formula will not be rendered:"
   ]
  },
  {
   "cell_type": "code",
   "execution_count": 5,
   "metadata": {
    "collapsed": false
   },
   "outputs": [
    {
     "data": {
      "text/html": [
       "<ul>\n",
       "\n",
       "<li>description: A simple power-law with normalization expressed as a logarithm</li>\n",
       "\n",
       "<li>formula: $ K~\\frac{x}{piv}^{index} $</li>\n",
       "\n",
       "<li>parameters: \n",
       "<ul>\n",
       "\n",
       "<li>K: \n",
       "<ul>\n",
       "\n",
       "<li>value: -2.0</li>\n",
       "\n",
       "<li>min_value: None</li>\n",
       "\n",
       "<li>max_value: None</li>\n",
       "\n",
       "<li>unit: </li>\n",
       "\n",
       "<li>delta: 0.1</li>\n",
       "\n",
       "<li>free: True</li>\n",
       "\n",
       "</ul>\n",
       "\n",
       "</li>\n",
       "\n",
       "<li>piv: \n",
       "<ul>\n",
       "\n",
       "<li>value: 1.0</li>\n",
       "\n",
       "<li>min_value: None</li>\n",
       "\n",
       "<li>max_value: None</li>\n",
       "\n",
       "<li>unit: </li>\n",
       "\n",
       "<li>delta: 0.1</li>\n",
       "\n",
       "<li>free: False</li>\n",
       "\n",
       "</ul>\n",
       "\n",
       "</li>\n",
       "\n",
       "<li>index: \n",
       "<ul>\n",
       "\n",
       "<li>value: -2.2</li>\n",
       "\n",
       "<li>min_value: -10.0</li>\n",
       "\n",
       "<li>max_value: 10.0</li>\n",
       "\n",
       "<li>unit: </li>\n",
       "\n",
       "<li>delta: 0.2</li>\n",
       "\n",
       "<li>free: True</li>\n",
       "\n",
       "</ul>\n",
       "\n",
       "</li>\n",
       "\n",
       "</ul>\n",
       "\n",
       "</li>\n",
       "\n",
       "</ul>\n"
      ],
      "text/plain": [
       "  * description: A simple power-law with normalization expressed as a logarithm\n",
       "  * formula: $ K~\\frac{x}{piv}^{index} $\n",
       "  * parameters: \n",
       "    * K: \n",
       "      * value: -2.0\n",
       "      * min_value: None\n",
       "      * max_value: None\n",
       "      * unit: \n",
       "      * delta: 0.1\n",
       "      * free: True\n",
       "    * piv: \n",
       "      * value: 1.0\n",
       "      * min_value: None\n",
       "      * max_value: None\n",
       "      * unit: \n",
       "      * delta: 0.1\n",
       "      * free: False\n",
       "    * index: \n",
       "      * value: -2.2\n",
       "      * min_value: -10.0\n",
       "      * max_value: 10.0\n",
       "      * unit: \n",
       "      * delta: 0.2\n",
       "      * free: True\n"
      ]
     },
     "metadata": {},
     "output_type": "display_data"
    }
   ],
   "source": [
    "powerlaw_instance.display()"
   ]
  },
  {
   "cell_type": "markdown",
   "metadata": {},
   "source": [
    "It is also possible to get the text-only representation by simply printing the object like this:"
   ]
  },
  {
   "cell_type": "code",
   "execution_count": 6,
   "metadata": {
    "collapsed": false
   },
   "outputs": [
    {
     "name": "stdout",
     "output_type": "stream",
     "text": [
      "  * description: A simple power-law with normalization expressed as a logarithm\n",
      "  * formula: $ K~\\frac{x}{piv}^{index} $\n",
      "  * parameters: \n",
      "    * K: \n",
      "      * value: -2.0\n",
      "      * min_value: None\n",
      "      * max_value: None\n",
      "      * unit: \n",
      "      * delta: 0.1\n",
      "      * free: True\n",
      "    * piv: \n",
      "      * value: 1.0\n",
      "      * min_value: None\n",
      "      * max_value: None\n",
      "      * unit: \n",
      "      * delta: 0.1\n",
      "      * free: False\n",
      "    * index: \n",
      "      * value: -2.2\n",
      "      * min_value: -10.0\n",
      "      * max_value: 10.0\n",
      "      * unit: \n",
      "      * delta: 0.2\n",
      "      * free: True\n",
      "\n",
      "\n"
     ]
    }
   ],
   "source": [
    "print(powerlaw_instance)"
   ]
  },
  {
   "cell_type": "markdown",
   "metadata": {},
   "source": [
    "**NOTE**: the .display() method of an instance displays the *current* values of the parameters, while the .info() method demonstrated above (for which you don't need an instance) displays the *default* values of the parameters."
   ]
  },
  {
   "cell_type": "markdown",
   "metadata": {},
   "source": [
    "## Modifying parameters"
   ]
  },
  {
   "cell_type": "markdown",
   "metadata": {},
   "source": [
    "Modifying a parameter of a function is easy:"
   ]
  },
  {
   "cell_type": "code",
   "execution_count": 7,
   "metadata": {
    "collapsed": false
   },
   "outputs": [
    {
     "data": {
      "text/html": [
       "Parameter K = 1.2 []\n",
       "(min_value = -10.0, max_value = 15.0, delta = 0.25, free = True)"
      ],
      "text/plain": [
       "Parameter K = 1.2 []\n",
       "(min_value = -10.0, max_value = 15.0, delta = 0.25, free = True)"
      ]
     },
     "metadata": {},
     "output_type": "display_data"
    }
   ],
   "source": [
    "# Modify current value\n",
    "\n",
    "powerlaw_instance.K = 1.2\n",
    "\n",
    "# Modify minimum \n",
    "powerlaw_instance.K.min_value = -10\n",
    "\n",
    "# Modify maximum\n",
    "powerlaw_instance.K.max_value = 15\n",
    "\n",
    "# We can also modify minimum and maximum at the same time\n",
    "powerlaw_instance.K.set_bounds(-10, 15)\n",
    "\n",
    "# Modifying the delta for the parameter \n",
    "# (which can be used by downstream software for fitting, for example)\n",
    "powerlaw_instance.K.delta = 0.25\n",
    "\n",
    "# Fix the parameter\n",
    "powerlaw_instance.K.fix = True\n",
    "\n",
    "# or equivalently\n",
    "powerlaw_instance.K.free = False\n",
    "\n",
    "# Free it again\n",
    "powerlaw_instance.K.fix = False\n",
    "\n",
    "# or equivalently\n",
    "powerlaw_instance.K.free = True\n",
    "\n",
    "# We can verify what we just did by printing again the whole function as shown above, \n",
    "# or simply printing the parameter:\n",
    "powerlaw_instance.K.display()"
   ]
  },
  {
   "cell_type": "markdown",
   "metadata": {},
   "source": [
    "## Physical units"
   ]
  },
  {
   "cell_type": "markdown",
   "metadata": {},
   "source": [
    "Astromodels uses the facility defined in astropy.units to make easier to convert between units during interactive analysis, when assigning to parameters. \n",
    "However, when functions are initialized their parameters do not have units, as it is evident from the .display calls above. They however get assigned units when they are used for something specific, like to represent a spectrum. For example, let's create a point source (see the \"Point source tutorial\" for more on this):"
   ]
  },
  {
   "cell_type": "code",
   "execution_count": 8,
   "metadata": {
    "collapsed": false
   },
   "outputs": [
    {
     "name": "stdout",
     "output_type": "stream",
     "text": [
      "Unit of K is []\n",
      "Unit of K is [1 / (cm2 keV s)]\n"
     ]
    }
   ],
   "source": [
    "# Create a powerlaw instance with default values\n",
    "powerlaw_instance = powerlaw()\n",
    "\n",
    "# Right now the parameters of the power law don't have any unit\n",
    "print(\"Unit of K is [%s]\" % powerlaw_instance.K.unit)\n",
    "\n",
    "# Let's use it as a spectrum for a point source\n",
    "test_source = PointSource('test_source', ra=0.0, dec=0.0, spectral_shape=powerlaw_instance)\n",
    "\n",
    "# Now the parameter K has units\n",
    "print(\"Unit of K is [%s]\" % powerlaw_instance.K.unit)"
   ]
  },
  {
   "cell_type": "markdown",
   "metadata": {},
   "source": [
    "Now if we display the function we can see that other parameters got units as well:"
   ]
  },
  {
   "cell_type": "code",
   "execution_count": 9,
   "metadata": {
    "collapsed": false
   },
   "outputs": [
    {
     "data": {
      "text/html": [
       "<ul>\n",
       "\n",
       "<li>description: A simple power-law with normalization expressed as a logarithm</li>\n",
       "\n",
       "<li>formula: $ K~\\frac{x}{piv}^{index} $</li>\n",
       "\n",
       "<li>parameters: \n",
       "<ul>\n",
       "\n",
       "<li>K: \n",
       "<ul>\n",
       "\n",
       "<li>value: 1.0</li>\n",
       "\n",
       "<li>min_value: None</li>\n",
       "\n",
       "<li>max_value: None</li>\n",
       "\n",
       "<li>unit: 1 / (cm2 keV s)</li>\n",
       "\n",
       "<li>delta: 0.1</li>\n",
       "\n",
       "<li>free: True</li>\n",
       "\n",
       "</ul>\n",
       "\n",
       "</li>\n",
       "\n",
       "<li>piv: \n",
       "<ul>\n",
       "\n",
       "<li>value: 1.0</li>\n",
       "\n",
       "<li>min_value: None</li>\n",
       "\n",
       "<li>max_value: None</li>\n",
       "\n",
       "<li>unit: keV</li>\n",
       "\n",
       "<li>delta: 0.1</li>\n",
       "\n",
       "<li>free: False</li>\n",
       "\n",
       "</ul>\n",
       "\n",
       "</li>\n",
       "\n",
       "<li>index: \n",
       "<ul>\n",
       "\n",
       "<li>value: -2.0</li>\n",
       "\n",
       "<li>min_value: -10.0</li>\n",
       "\n",
       "<li>max_value: 10.0</li>\n",
       "\n",
       "<li>unit: </li>\n",
       "\n",
       "<li>delta: 0.2</li>\n",
       "\n",
       "<li>free: True</li>\n",
       "\n",
       "</ul>\n",
       "\n",
       "</li>\n",
       "\n",
       "</ul>\n",
       "\n",
       "</li>\n",
       "\n",
       "</ul>\n"
      ],
      "text/plain": [
       "  * description: A simple power-law with normalization expressed as a logarithm\n",
       "  * formula: $ K~\\frac{x}{piv}^{index} $\n",
       "  * parameters: \n",
       "    * K: \n",
       "      * value: 1.0\n",
       "      * min_value: None\n",
       "      * max_value: None\n",
       "      * unit: 1 / (cm2 keV s)\n",
       "      * delta: 0.1\n",
       "      * free: True\n",
       "    * piv: \n",
       "      * value: 1.0\n",
       "      * min_value: None\n",
       "      * max_value: None\n",
       "      * unit: keV\n",
       "      * delta: 0.1\n",
       "      * free: False\n",
       "    * index: \n",
       "      * value: -2.0\n",
       "      * min_value: -10.0\n",
       "      * max_value: 10.0\n",
       "      * unit: \n",
       "      * delta: 0.2\n",
       "      * free: True\n"
      ]
     },
     "metadata": {},
     "output_type": "display_data"
    }
   ],
   "source": [
    "powerlaw_instance.display()"
   ]
  },
  {
   "cell_type": "markdown",
   "metadata": {},
   "source": [
    "Note that the index has still no units, as it is intrinsically a dimensionless quantity."
   ]
  },
  {
   "cell_type": "markdown",
   "metadata": {},
   "source": [
    "The default units for energy, area and time can be changed like this:"
   ]
  },
  {
   "cell_type": "code",
   "execution_count": 10,
   "metadata": {
    "collapsed": false
   },
   "outputs": [],
   "source": [
    "from astromodels import units\n",
    "\n",
    "# Switch the default energy unit to MeV\n",
    "units.set_energy_unit(\"MeV\")\n",
    "\n",
    "# Switch the default area unit to m2\n",
    "units.set_area_unit(u.m**2)\n",
    "\n",
    "# Switch the default time unit to hours\n",
    "units.set_time_unit(u.h)"
   ]
  },
  {
   "cell_type": "markdown",
   "metadata": {},
   "source": [
    "So now when the power law instance is used as a spectrum, the parameters will get assigned units according to the changed defaults:"
   ]
  },
  {
   "cell_type": "code",
   "execution_count": 11,
   "metadata": {
    "collapsed": false
   },
   "outputs": [
    {
     "data": {
      "text/html": [
       "<ul>\n",
       "\n",
       "<li>description: A simple power-law with normalization expressed as a logarithm</li>\n",
       "\n",
       "<li>formula: $ K~\\frac{x}{piv}^{index} $</li>\n",
       "\n",
       "<li>parameters: \n",
       "<ul>\n",
       "\n",
       "<li>K: \n",
       "<ul>\n",
       "\n",
       "<li>value: 1.0</li>\n",
       "\n",
       "<li>min_value: None</li>\n",
       "\n",
       "<li>max_value: None</li>\n",
       "\n",
       "<li>unit: 1 / (h m2 MeV)</li>\n",
       "\n",
       "<li>delta: 0.1</li>\n",
       "\n",
       "<li>free: True</li>\n",
       "\n",
       "</ul>\n",
       "\n",
       "</li>\n",
       "\n",
       "<li>piv: \n",
       "<ul>\n",
       "\n",
       "<li>value: 1.0</li>\n",
       "\n",
       "<li>min_value: None</li>\n",
       "\n",
       "<li>max_value: None</li>\n",
       "\n",
       "<li>unit: MeV</li>\n",
       "\n",
       "<li>delta: 0.1</li>\n",
       "\n",
       "<li>free: False</li>\n",
       "\n",
       "</ul>\n",
       "\n",
       "</li>\n",
       "\n",
       "<li>index: \n",
       "<ul>\n",
       "\n",
       "<li>value: -2.0</li>\n",
       "\n",
       "<li>min_value: -10.0</li>\n",
       "\n",
       "<li>max_value: 10.0</li>\n",
       "\n",
       "<li>unit: </li>\n",
       "\n",
       "<li>delta: 0.2</li>\n",
       "\n",
       "<li>free: True</li>\n",
       "\n",
       "</ul>\n",
       "\n",
       "</li>\n",
       "\n",
       "</ul>\n",
       "\n",
       "</li>\n",
       "\n",
       "</ul>\n"
      ],
      "text/plain": [
       "  * description: A simple power-law with normalization expressed as a logarithm\n",
       "  * formula: $ K~\\frac{x}{piv}^{index} $\n",
       "  * parameters: \n",
       "    * K: \n",
       "      * value: 1.0\n",
       "      * min_value: None\n",
       "      * max_value: None\n",
       "      * unit: 1 / (h m2 MeV)\n",
       "      * delta: 0.1\n",
       "      * free: True\n",
       "    * piv: \n",
       "      * value: 1.0\n",
       "      * min_value: None\n",
       "      * max_value: None\n",
       "      * unit: MeV\n",
       "      * delta: 0.1\n",
       "      * free: False\n",
       "    * index: \n",
       "      * value: -2.0\n",
       "      * min_value: -10.0\n",
       "      * max_value: 10.0\n",
       "      * unit: \n",
       "      * delta: 0.2\n",
       "      * free: True\n"
      ]
     },
     "metadata": {},
     "output_type": "display_data"
    }
   ],
   "source": [
    "test_source = PointSource('test_source', ra=0.0, dec=0.0, spectral_shape=powerlaw_instance)\n",
    "\n",
    "powerlaw_instance.display()"
   ]
  },
  {
   "cell_type": "markdown",
   "metadata": {},
   "source": [
    "Let's switch back to the predefined units before continuing:"
   ]
  },
  {
   "cell_type": "code",
   "execution_count": 16,
   "metadata": {
    "collapsed": true
   },
   "outputs": [],
   "source": [
    "# Switch the default energy unit to MeV\n",
    "units.set_energy_unit(\"keV\")\n",
    "\n",
    "# Switch the default area unit to m2\n",
    "units.set_area_unit(u.cm**2)\n",
    "\n",
    "# Switch the default time unit to hours\n",
    "units.set_time_unit(u.s)"
   ]
  },
  {
   "cell_type": "markdown",
   "metadata": {},
   "source": [
    "**NOTE**: all instances of functions created before any call to a set_*_unit function will keep the units they were created with. It is therefore best practice to call these functions only once at the beginning of a session or a script, if needed at all."
   ]
  },
  {
   "cell_type": "markdown",
   "metadata": {},
   "source": [
    "We can now change the values of the parameters using .value, in which case we are implicitly assuming the units they have now, or we can use the set() method, in which we can specify other units (which of course need to be compatible). "
   ]
  },
  {
   "cell_type": "code",
   "execution_count": 17,
   "metadata": {
    "collapsed": false
   },
   "outputs": [],
   "source": [
    "import astropy.units as u\n",
    "\n",
    "# Express the differential flux at the pivot energy in 1 / (MeV cm2 s)\n",
    "\n",
    "powerlaw_instance.K.set(122.3 / (u.MeV * u.cm * u.cm * u.s))\n",
    "\n",
    "# Express the differential flux at the pivot energy in 1 / (GeV m2 s)\n",
    "powerlaw_instance.K.set(122.3 / (u.GeV * u.m * u.m * u.s))"
   ]
  },
  {
   "cell_type": "markdown",
   "metadata": {},
   "source": [
    "**NOTE**: assigning by using the .set() method is much slower than using a value assignment with .value. Although this is hardly noticeable normally, you shouldn't use .set() in for loops or in other situations where the slower execution time would add up. This is why the first time you use this feature in a interactive session or in a script you will see a warning telling you that using this facility is convenient but slow. If you are running IPython, you can verify how much .set() is slower than just using a plain number with these instructions:"
   ]
  },
  {
   "cell_type": "code",
   "execution_count": 18,
   "metadata": {
    "collapsed": false
   },
   "outputs": [
    {
     "name": "stdout",
     "output_type": "stream",
     "text": [
      "100000 loops, best of 3: 5 µs per loop\n",
      "1000 loops, best of 3: 639 µs per loop\n"
     ]
    }
   ],
   "source": [
    "# NOTE: These requires IPython\n",
    "\n",
    "%timeit powerlaw_instance.K = -1.3\n",
    "%timeit powerlaw_instance.K.set(122.3 / (u.GeV * u.m * u.m * u.s))"
   ]
  },
  {
   "cell_type": "markdown",
   "metadata": {},
   "source": [
    "As you can see using astropy.units is around 100x slower than using .value. In an interactive analysis you are unlikely to notice the difference, but if you use .set() in a loop or during a fit this slow-down will add up an become very noticeable. Note that this is a feature of astropy.units, not of astromodels. Thus, **do not use set() in computing intensive situations**."
   ]
  },
  {
   "cell_type": "markdown",
   "metadata": {},
   "source": [
    "## Composing functions"
   ]
  },
  {
   "cell_type": "markdown",
   "metadata": {},
   "source": [
    "We can create arbitrary complex functions by combining \"primitive\" functions using the normal math operators:"
   ]
  },
  {
   "cell_type": "code",
   "execution_count": 19,
   "metadata": {
    "collapsed": false
   },
   "outputs": [
    {
     "name": "stdout",
     "output_type": "stream",
     "text": [
      "(gaussian{1} + powerlaw{2})\n"
     ]
    }
   ],
   "source": [
    "composite = gaussian() + powerlaw()\n",
    "\n",
    "# Instead of the usual .display(), which would print all the many parameters,\n",
    "# let's print just the description of the new composite functions:\n",
    "print(composite.description)"
   ]
  },
  {
   "cell_type": "code",
   "execution_count": 20,
   "metadata": {
    "collapsed": false
   },
   "outputs": [
    {
     "data": {
      "text/html": [
       "<ul>\n",
       "\n",
       "<li>description: (gaussian{1} + powerlaw{2})</li>\n",
       "\n",
       "<li>formula: (no latex formula available)</li>\n",
       "\n",
       "<li>parameters: \n",
       "<ul>\n",
       "\n",
       "<li>F_1: \n",
       "<ul>\n",
       "\n",
       "<li>value: 1.0</li>\n",
       "\n",
       "<li>min_value: None</li>\n",
       "\n",
       "<li>max_value: None</li>\n",
       "\n",
       "<li>unit: 1 / (cm2 s)</li>\n",
       "\n",
       "<li>delta: 0.1</li>\n",
       "\n",
       "<li>free: True</li>\n",
       "\n",
       "</ul>\n",
       "\n",
       "</li>\n",
       "\n",
       "<li>mu_1: \n",
       "<ul>\n",
       "\n",
       "<li>value: 0.0</li>\n",
       "\n",
       "<li>min_value: None</li>\n",
       "\n",
       "<li>max_value: None</li>\n",
       "\n",
       "<li>unit: keV</li>\n",
       "\n",
       "<li>delta: 0.1</li>\n",
       "\n",
       "<li>free: True</li>\n",
       "\n",
       "</ul>\n",
       "\n",
       "</li>\n",
       "\n",
       "<li>sigma_1: \n",
       "<ul>\n",
       "\n",
       "<li>value: 1.0</li>\n",
       "\n",
       "<li>min_value: 1e-12</li>\n",
       "\n",
       "<li>max_value: None</li>\n",
       "\n",
       "<li>unit: keV</li>\n",
       "\n",
       "<li>delta: 0.1</li>\n",
       "\n",
       "<li>free: True</li>\n",
       "\n",
       "</ul>\n",
       "\n",
       "</li>\n",
       "\n",
       "<li>K_2: \n",
       "<ul>\n",
       "\n",
       "<li>value: 1.0</li>\n",
       "\n",
       "<li>min_value: None</li>\n",
       "\n",
       "<li>max_value: None</li>\n",
       "\n",
       "<li>unit: 1 / (cm2 keV s)</li>\n",
       "\n",
       "<li>delta: 0.1</li>\n",
       "\n",
       "<li>free: True</li>\n",
       "\n",
       "</ul>\n",
       "\n",
       "</li>\n",
       "\n",
       "<li>piv_2: \n",
       "<ul>\n",
       "\n",
       "<li>value: 1.0</li>\n",
       "\n",
       "<li>min_value: None</li>\n",
       "\n",
       "<li>max_value: None</li>\n",
       "\n",
       "<li>unit: keV</li>\n",
       "\n",
       "<li>delta: 0.1</li>\n",
       "\n",
       "<li>free: False</li>\n",
       "\n",
       "</ul>\n",
       "\n",
       "</li>\n",
       "\n",
       "<li>index_2: \n",
       "<ul>\n",
       "\n",
       "<li>value: -2.0</li>\n",
       "\n",
       "<li>min_value: -10.0</li>\n",
       "\n",
       "<li>max_value: 10.0</li>\n",
       "\n",
       "<li>unit: </li>\n",
       "\n",
       "<li>delta: 0.2</li>\n",
       "\n",
       "<li>free: True</li>\n",
       "\n",
       "</ul>\n",
       "\n",
       "</li>\n",
       "\n",
       "</ul>\n",
       "\n",
       "</li>\n",
       "\n",
       "</ul>\n"
      ],
      "text/plain": [
       "  * description: (gaussian{1} + powerlaw{2})\n",
       "  * formula: (no latex formula available)\n",
       "  * parameters: \n",
       "    * F_1: \n",
       "      * value: 1.0\n",
       "      * min_value: None\n",
       "      * max_value: None\n",
       "      * unit: 1 / (cm2 s)\n",
       "      * delta: 0.1\n",
       "      * free: True\n",
       "    * mu_1: \n",
       "      * value: 0.0\n",
       "      * min_value: None\n",
       "      * max_value: None\n",
       "      * unit: keV\n",
       "      * delta: 0.1\n",
       "      * free: True\n",
       "    * sigma_1: \n",
       "      * value: 1.0\n",
       "      * min_value: 1e-12\n",
       "      * max_value: None\n",
       "      * unit: keV\n",
       "      * delta: 0.1\n",
       "      * free: True\n",
       "    * K_2: \n",
       "      * value: 1.0\n",
       "      * min_value: None\n",
       "      * max_value: None\n",
       "      * unit: 1 / (cm2 keV s)\n",
       "      * delta: 0.1\n",
       "      * free: True\n",
       "    * piv_2: \n",
       "      * value: 1.0\n",
       "      * min_value: None\n",
       "      * max_value: None\n",
       "      * unit: keV\n",
       "      * delta: 0.1\n",
       "      * free: False\n",
       "    * index_2: \n",
       "      * value: -2.0\n",
       "      * min_value: -10.0\n",
       "      * max_value: 10.0\n",
       "      * unit: \n",
       "      * delta: 0.2\n",
       "      * free: True\n"
      ]
     },
     "metadata": {},
     "output_type": "display_data"
    }
   ],
   "source": [
    "a_source = PointSource(\"a_source\",l=24.3, b=44.3, spectral_shape=composite)\n",
    "\n",
    "composite.display()"
   ]
  },
  {
   "cell_type": "markdown",
   "metadata": {},
   "source": [
    "These expressions can be as complicated as needed. For example:"
   ]
  },
  {
   "cell_type": "code",
   "execution_count": 15,
   "metadata": {
    "collapsed": false
   },
   "outputs": [
    {
     "name": "stdout",
     "output_type": "stream",
     "text": [
      "((sin{1} * 3) + (((powerlaw{2} ** 2) * (gaussian{3} + 5)) / 3.0))\n"
     ]
    }
   ],
   "source": [
    "crazy_function = 3 * sin() + powerlaw()**2 * (5+gaussian()) / 3.0\n",
    "\n",
    "print(crazy_function.description)"
   ]
  },
  {
   "cell_type": "markdown",
   "metadata": {},
   "source": [
    "The numbers between {} enumerate the unique functions which constitute a composite function. This is useful because composite functions can be created starting from pre-existing instances of functions, in which case the same instance can be used more than once. For example:"
   ]
  },
  {
   "cell_type": "code",
   "execution_count": 16,
   "metadata": {
    "collapsed": false
   },
   "outputs": [
    {
     "name": "stdout",
     "output_type": "stream",
     "text": [
      "((powerlaw{1} * 2) + ((powerlaw{1} + 3) * sin{2}))\n"
     ]
    }
   ],
   "source": [
    "a_powerlaw = powerlaw()\n",
    "a_sin = sin()\n",
    "\n",
    "another_composite = 2 * a_powerlaw + (3 + a_powerlaw) * a_sin\n",
    "\n",
    "print(another_composite.description)"
   ]
  },
  {
   "cell_type": "markdown",
   "metadata": {},
   "source": [
    "In this case the same instance of a power law has been used twice. Changing the value of the parameters for \"a_powerlaw\" will affect also the second part of the expression. Instead, by doing this:"
   ]
  },
  {
   "cell_type": "code",
   "execution_count": 17,
   "metadata": {
    "collapsed": false
   },
   "outputs": [
    {
     "name": "stdout",
     "output_type": "stream",
     "text": [
      "((powerlaw{1} * 2) + ((powerlaw{2} + 3) * sin{3}))\n"
     ]
    }
   ],
   "source": [
    "another_composite2 = 2 * powerlaw() + (3 + powerlaw()) * sin()\n",
    "\n",
    "print(another_composite2.description)"
   ]
  },
  {
   "cell_type": "markdown",
   "metadata": {},
   "source": [
    "we will end up with two independent sets of parameters for the two power laws. The difference can be seen immediately from the number of parameters of the two composite functions:"
   ]
  },
  {
   "cell_type": "code",
   "execution_count": 18,
   "metadata": {
    "collapsed": false
   },
   "outputs": [
    {
     "name": "stdout",
     "output_type": "stream",
     "text": [
      "6\n",
      "9\n"
     ]
    }
   ],
   "source": [
    "print(len(another_composite.parameters)) # 6 parameters\n",
    "print(len(another_composite2.parameters)) # 9 parameters"
   ]
  },
  {
   "cell_type": "markdown",
   "metadata": {
    "collapsed": true
   },
   "source": [
    "### Composing functions as in f(g(x))"
   ]
  },
  {
   "cell_type": "markdown",
   "metadata": {},
   "source": [
    "Suppose you have two functions (f and g) and you want to compose them in a new function h(x) = f(g(x)). You can accomplish this by using the .of() method:"
   ]
  },
  {
   "cell_type": "code",
   "execution_count": 19,
   "metadata": {
    "collapsed": false
   },
   "outputs": [
    {
     "name": "stdout",
     "output_type": "stream",
     "text": [
      "True\n"
     ]
    }
   ],
   "source": [
    "# Let's get two functions (for example a gaussian and a sin function)\n",
    "f = gaussian()\n",
    "g = sin()\n",
    "\n",
    "# Let's compose them in a composite function h = f(g(x))\n",
    "\n",
    "h = f.of(g)\n",
    "\n",
    "# Verify that indeed we have composed the function\n",
    "\n",
    "# Get a random number between 1 and 10\n",
    "x = np.random.uniform(1,10)\n",
    "\n",
    "print (h(x) == f(g(x)))"
   ]
  },
  {
   "cell_type": "code",
   "execution_count": null,
   "metadata": {
    "collapsed": true
   },
   "outputs": [],
   "source": []
  }
 ],
 "metadata": {
  "kernelspec": {
   "display_name": "Python 2",
   "language": "python",
   "name": "python2"
  },
  "language_info": {
   "codemirror_mode": {
    "name": "ipython",
    "version": 2
   },
   "file_extension": ".py",
   "mimetype": "text/x-python",
   "name": "python",
   "nbconvert_exporter": "python",
   "pygments_lexer": "ipython2",
   "version": "2.7.6"
  }
 },
 "nbformat": 4,
 "nbformat_minor": 0
}

{
 "cells": [
  {
   "cell_type": "markdown",
   "metadata": {},
   "source": [
    "<h1>Time-varying synchrotron spectrum</h1>"
   ]
  },
  {
   "cell_type": "markdown",
   "metadata": {},
   "source": [
    "In this example we set up a model with a source with a synchrotron spectrum, produced by a family of electrons with a power law energy distribution. We make the index of the electron distribution vary linearly with time, and we let the magnetic field decay as a power law."
   ]
  },
  {
   "cell_type": "code",
   "execution_count": 1,
   "metadata": {
    "collapsed": false
   },
   "outputs": [
    {
     "name": "stderr",
     "output_type": "stream",
     "text": [
      "/home/giacomov/software/canopy-env/lib/python2.7/site-packages/astromodels-0.1-py2.7.egg/astromodels/parameter.py:363: WarningUnitsAreSlow: Using units is convenient but slow. Do not use them during computing-intensive work.\n",
      "  WarningUnitsAreSlow)\n"
     ]
    },
    {
     "data": {
      "text/html": [
       "Point sources: synch_source<br><br>Extended sources: (none)<br><br>Particle sources: electrons<br><br>Free parameters:<br><table id=\"table66486672\">\n",
       "<thead><tr><th>name</th><th>value</th><th>min_value</th><th>max_value</th><th>delta</th><th>free</th></tr></thead>\n",
       "<tr><td>electrons.spectrum.main.powerlaw.logK</td><td>10.0</td><td>-40</td><td>40</td><td>0.1</td><td>True</td></tr>\n",
       "<tr><td>electrons.spectrum.main.powerlaw.index</td><td>-2.0</td><td>-10</td><td>10</td><td>0.2</td><td>True</td></tr>\n",
       "<tr><td>synch_source.spectrum.main.synchrotron.B</td><td>0.000125</td><td>None</td><td>None</td><td>3.24e-07</td><td>True</td></tr>\n",
       "</table>"
      ],
      "text/plain": [
       "Point sources: synch_source\n",
       "\n",
       "Extended sources: (none)\n",
       "\n",
       "Particle sources: electrons\n",
       "\n",
       "Free parameters:\n",
       "                  name                    value   min_value ...  delta   free\n",
       "---------------------------------------- -------- --------- ... -------- ----\n",
       "   electrons.spectrum.main.powerlaw.logK     10.0       -40 ...      0.1 True\n",
       "  electrons.spectrum.main.powerlaw.index     -2.0       -10 ...      0.2 True\n",
       "synch_source.spectrum.main.synchrotron.B 0.000125      None ... 3.24e-07 True"
      ]
     },
     "metadata": {},
     "output_type": "display_data"
    }
   ],
   "source": [
    "from astromodels import *\n",
    "\n",
    "# Set up the particle distribution for the electrons\n",
    "\n",
    "particle_distribution = powerlaw(logK=10)\n",
    "\n",
    "particle = ParticleSource('electrons',distribution_shape = particle_distribution)\n",
    "\n",
    "# Now set up the synch. spectrum for our source and the source itself\n",
    "\n",
    "synch_spectrum = synchrotron()\n",
    "synch_spectrum.B.set(125 * u.uG)\n",
    "\n",
    "# Use the particle distribution we created as source for the electrons\n",
    "# producing synch. emission\n",
    "\n",
    "synch_spectrum.particle_distribution = particle_distribution\n",
    "\n",
    "synch_source = PointSource('synch_source',ra=12.6, dec=-13.5, spectral_shape=synch_spectrum)\n",
    "\n",
    "# Create the model\n",
    "\n",
    "my_model = Model(particle, synch_source)\n",
    "\n",
    "my_model.display()"
   ]
  },
  {
   "cell_type": "code",
   "execution_count": 2,
   "metadata": {
    "collapsed": false
   },
   "outputs": [
    {
     "data": {
      "text/html": [
       "Point sources: synch_source<br><br>Extended sources: (none)<br><br>Particle sources: electrons<br><br>Free parameters:<br><table id=\"table66486864\">\n",
       "<thead><tr><th>name</th><th>value</th><th>min_value</th><th>max_value</th><th>delta</th><th>free</th></tr></thead>\n",
       "<tr><td>electrons.spectrum.main.powerlaw.logK</td><td>10.0</td><td>-40</td><td>40</td><td>0.1</td><td>True</td></tr>\n",
       "<tr><td>electrons.spectrum.main.powerlaw.index.line.logK</td><td>0.0</td><td>-40</td><td>40</td><td>0.1</td><td>True</td></tr>\n",
       "<tr><td>electrons.spectrum.main.powerlaw.index.line.a</td><td>0.002</td><td>None</td><td>None</td><td>0.1</td><td>True</td></tr>\n",
       "<tr><td>electrons.spectrum.main.powerlaw.index.line.b</td><td>-1.6</td><td>None</td><td>None</td><td>0.1</td><td>True</td></tr>\n",
       "<tr><td>synch_source.spectrum.main.synchrotron.B.powerlaw.logK</td><td>-3.90308998699</td><td>-40</td><td>40</td><td>0.1</td><td>True</td></tr>\n",
       "<tr><td>synch_source.spectrum.main.synchrotron.B.powerlaw.index</td><td>-1.2</td><td>-10</td><td>10</td><td>0.2</td><td>True</td></tr>\n",
       "</table><br><br>Linked parameters:<br><table id=\"table66488848\">\n",
       "<thead><tr><th>name</th><th>linked to</th><th>function</th><th>current value</th></tr></thead>\n",
       "<tr><td>electrons.spectrum.main.powerlaw.index</td><td>time</td><td>line</td><td>-1.598</td></tr>\n",
       "<tr><td>synch_source.spectrum.main.synchrotron.B</td><td>time</td><td>powerlaw</td><td>0.000125</td></tr>\n",
       "</table>"
      ],
      "text/plain": [
       "Point sources: synch_source\n",
       "\n",
       "Extended sources: (none)\n",
       "\n",
       "Particle sources: electrons\n",
       "\n",
       "Free parameters:\n",
       "                          name                              value      ... free\n",
       "------------------------------------------------------- -------------- ... ----\n",
       "                  electrons.spectrum.main.powerlaw.logK           10.0 ... True\n",
       "       electrons.spectrum.main.powerlaw.index.line.logK            0.0 ... True\n",
       "          electrons.spectrum.main.powerlaw.index.line.a          0.002 ... True\n",
       "          electrons.spectrum.main.powerlaw.index.line.b           -1.6 ... True\n",
       " synch_source.spectrum.main.synchrotron.B.powerlaw.logK -3.90308998699 ... True\n",
       "synch_source.spectrum.main.synchrotron.B.powerlaw.index           -1.2 ... True\n",
       "\n",
       "\n",
       "Linked parameters:\n",
       "                  name                   linked to function current value\n",
       "---------------------------------------- --------- -------- -------------\n",
       "  electrons.spectrum.main.powerlaw.index      time     line        -1.598\n",
       "synch_source.spectrum.main.synchrotron.B      time powerlaw      0.000125"
      ]
     },
     "metadata": {},
     "output_type": "display_data"
    }
   ],
   "source": [
    "# Now make the model time-dependent by adding the independent variable time\n",
    "\n",
    "time = IndependentVariable(\"time\", 1)\n",
    "\n",
    "my_model.add_independent_variable(time)\n",
    "\n",
    "# Make the magnetic field decay as a power law\n",
    "\n",
    "my_model.link(my_model.synch_source.spectrum.main.synchrotron.B,\n",
    "             time,\n",
    "             powerlaw(logK=np.log10(0.000125), index=-1.2))\n",
    "\n",
    "# Make the index of the electron distribution increase linearly with time\n",
    "\n",
    "my_model.link(my_model.electrons.spectrum.main.powerlaw.index,\n",
    "             time,\n",
    "             line(logK=0, a=2e-3,b=-1.6))\n",
    "\n",
    "# Display the model\n",
    "my_model.display()"
   ]
  },
  {
   "cell_type": "code",
   "execution_count": 3,
   "metadata": {
    "collapsed": false
   },
   "outputs": [
    {
     "name": "stderr",
     "output_type": "stream",
     "text": [
      "/home/giacomov/software/canopy-env/lib/python2.7/site-packages/astromodels-0.1-py2.7.egg/astromodels/functions/functions.py:70: RuntimeWarning: divide by zero encountered in power\n",
      "  return 10 ** logK * np.power(x / piv, index)\n"
     ]
    },
    {
     "data": {
      "image/png": "[encoded data removed]",
      "text/plain": [
       "<matplotlib.figure.Figure at 0x3f83350>"
      ]
     },
     "metadata": {},
     "output_type": "display_data"
    }
   ],
   "source": [
    "import matplotlib.pyplot as plt\n",
    "\n",
    "# This is needed only in the IPython notebook\n",
    "%matplotlib inline\n",
    "\n",
    "times = np.linspace(0,100,1000)\n",
    "\n",
    "p1 = my_model['electrons.spectrum.main.powerlaw.index']\n",
    "p2 = my_model['synch_source.spectrum.main.synchrotron.B']\n",
    "\n",
    "fig, subs = plt.subplots(2,1, sharex=True)\n",
    "\n",
    "for sub, par, label in zip(subs,[p1,p2],[r'index${_e}$',r'B']):\n",
    "    \n",
    "    lc = []\n",
    "    \n",
    "    for t in times:\n",
    "    \n",
    "        time.value = t\n",
    "    \n",
    "        lc.append(par.value)\n",
    "\n",
    "    sub.plot(times, lc)    \n",
    "    sub.set_ylabel(label)\n",
    "\n",
    "subs[-1].set_xlabel('time (s)')\n",
    "\n",
    "subs[-1].set_yscale(\"log\")"
   ]
  },
  {
   "cell_type": "code",
   "execution_count": 4,
   "metadata": {
    "collapsed": false
   },
   "outputs": [
    {
     "data": {
      "text/plain": [
       "<matplotlib.legend.Legend at 0x193fd50>"
      ]
     },
     "execution_count": 4,
     "metadata": {},
     "output_type": "execute_result"
    },
    {
     "data": {
      "image/png": "[encoded data removed]",
      "text/plain": [
       "<matplotlib.figure.Figure at 0x1945050>"
      ]
     },
     "metadata": {},
     "output_type": "display_data"
    }
   ],
   "source": [
    "energies = np.logspace(-2,7,200)\n",
    "\n",
    "#s = my_model.synch_source.spectrum.main(energies)\n",
    "\n",
    "for i,tt in enumerate(np.linspace(1,100,10)):\n",
    "    \n",
    "    my_model['time'].value = tt\n",
    "    \n",
    "    s = my_model.synch_source.spectrum.main(energies)\n",
    "    \n",
    "    #print s.value\n",
    "    \n",
    "    plt.loglog(energies, energies*energies*s.value*1.602e-9, label='t=%.0f' % tt,\n",
    "              alpha=1-float(i)/15.0, color='black',linewidth=2)\n",
    "\n",
    "plt.ylim([1e-14,None])\n",
    "\n",
    "plt.xlabel(\"Energy (keV)\")\n",
    "plt.ylabel(r\"Flux (erg cm$^{-2}$ s$^{-1}$)\")\n",
    "plt.legend(loc=0, frameon=False)"
   ]
  },
  {
   "cell_type": "code",
   "execution_count": 5,
   "metadata": {
    "collapsed": false
   },
   "outputs": [],
   "source": [
    "my_model.save(\"naima_test.yml\",overwrite=True)"
   ]
  }
 ],
 "metadata": {
  "kernelspec": {
   "display_name": "Python 2",
   "language": "python",
   "name": "python2"
  },
  "language_info": {
   "codemirror_mode": {
    "name": "ipython",
    "version": 2
   },
   "file_extension": ".py",
   "mimetype": "text/x-python",
   "name": "python",
   "nbconvert_exporter": "python",
   "pygments_lexer": "ipython2",
   "version": "2.7.6"
  }
 },
 "nbformat": 4,
 "nbformat_minor": 0
}

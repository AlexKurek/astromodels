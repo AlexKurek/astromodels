{
 "cells": [
  {
   "cell_type": "markdown",
   "metadata": {},
   "source": [
    "# Point sources"
   ]
  },
  {
   "cell_type": "markdown",
   "metadata": {},
   "source": [
    "In astromodels a point source is described by its position in the sky and its spectral features.\n",
    "\n",
    "## Creating a point source\n",
    "\n",
    "A simple source with a power law spectrum can be created like this:"
   ]
  },
  {
   "cell_type": "code",
   "execution_count": 1,
   "metadata": {
    "collapsed": true
   },
   "outputs": [],
   "source": [
    "from astromodels import *"
   ]
  },
  {
   "cell_type": "code",
   "execution_count": 2,
   "metadata": {
    "collapsed": false
   },
   "outputs": [],
   "source": [
    "# Using J2000 R.A. and Dec (ICRS), which is the default coordinate system:\n",
    "\n",
    "simple_source_icrs = PointSource('simple_source', ra=123.2, dec=-13.2, spectral_shape=powerlaw())"
   ]
  },
  {
   "cell_type": "markdown",
   "metadata": {},
   "source": [
    "We can also use Galactic coordinates:"
   ]
  },
  {
   "cell_type": "code",
   "execution_count": 3,
   "metadata": {
    "collapsed": true
   },
   "outputs": [],
   "source": [
    "simple_source_gal = PointSource('simple_source', l=234.320573, b=11.365142, spectral_shape=powerlaw())"
   ]
  },
  {
   "cell_type": "markdown",
   "metadata": {},
   "source": [
    "As spectral shape we can use any function or any composite function (see \"Creating and modifying functions\")"
   ]
  },
  {
   "cell_type": "markdown",
   "metadata": {},
   "source": [
    "## Getting info about a point source\n",
    "Info about a point source can easily be obtained with the usual .display() method (which will use the richest representation available), or by printing it which will display a text-only representation:"
   ]
  },
  {
   "cell_type": "code",
   "execution_count": 4,
   "metadata": {
    "collapsed": false
   },
   "outputs": [
    {
     "data": {
      "text/html": [
       "<ul>\n",
       "\n",
       "<li>simple_source (point source): \n",
       "<ul>\n",
       "\n",
       "<li>position: \n",
       "<ul>\n",
       "\n",
       "<li>ra: 123.2</li>\n",
       "\n",
       "<li>dec: -13.2</li>\n",
       "\n",
       "<li>equinox: J2000</li>\n",
       "\n",
       "</ul>\n",
       "\n",
       "</li>\n",
       "\n",
       "<li>spectrum: \n",
       "<ul>\n",
       "\n",
       "<li>main: \n",
       "<ul>\n",
       "\n",
       "<li>powerlaw: \n",
       "<ul>\n",
       "\n",
       "<li>logK: 0.0</li>\n",
       "\n",
       "<li>piv: 1.0</li>\n",
       "\n",
       "<li>index: -2.0</li>\n",
       "\n",
       "</ul>\n",
       "\n",
       "</li>\n",
       "\n",
       "</ul>\n",
       "\n",
       "</li>\n",
       "\n",
       "</ul>\n",
       "\n",
       "</li>\n",
       "\n",
       "</ul>\n",
       "\n",
       "</li>\n",
       "\n",
       "</ul>\n"
      ],
      "text/plain": [
       "  * simple_source (point source): \n",
       "    * position: \n",
       "      * ra: 123.2\n",
       "      * dec: -13.2\n",
       "      * equinox: J2000\n",
       "    * spectrum: \n",
       "      * main: \n",
       "        * powerlaw: \n",
       "          * logK: 0.0\n",
       "          * piv: 1.0\n",
       "          * index: -2.0\n"
      ]
     },
     "metadata": {},
     "output_type": "display_data"
    }
   ],
   "source": [
    "simple_source_icrs.display()\n",
    "\n",
    "# or print(simple_source_icrs) for a text-only representation"
   ]
  },
  {
   "cell_type": "markdown",
   "metadata": {},
   "source": [
    "As you can see we have created a point source with one component (see below) automatically named \"main\", with a power law spectrum, at the specified position."
   ]
  },
  {
   "cell_type": "markdown",
   "metadata": {},
   "source": [
    "### Converting between coordinates systems"
   ]
  },
  {
   "cell_type": "markdown",
   "metadata": {},
   "source": [
    "By default the coordinates of the point source are displayed in the same system used during creation. However, you can always obtain R.A, Dec or L,B like this:"
   ]
  },
  {
   "cell_type": "code",
   "execution_count": 5,
   "metadata": {
    "collapsed": false
   },
   "outputs": [],
   "source": [
    "l = simple_source_icrs.position.get_l()\n",
    "b = simple_source_icrs.position.get_b()\n",
    "ra = simple_source_gal.position.get_ra()\n",
    "dec = simple_source_gal.position.get_dec()"
   ]
  },
  {
   "cell_type": "markdown",
   "metadata": {},
   "source": [
    "For more control on the output and many more options, such as transform to local frames or other equinoxes, you can obtain an instance of astropy.coordinates.SkyCoord by using the sky_coord property of the position object:"
   ]
  },
  {
   "cell_type": "code",
   "execution_count": 6,
   "metadata": {
    "collapsed": false
   },
   "outputs": [
    {
     "name": "stdout",
     "output_type": "stream",
     "text": [
      "123.2\n"
     ]
    }
   ],
   "source": [
    "# Refer to the transform_to() method of the astropy.coordinates.SkyCoord class:\n",
    "# http://docs.astropy.org/en/stable/api/astropy.coordinates.SkyCoord.html\n",
    "\n",
    "# For example, get the ICRS position for the source defined in Galactic coordinates:\n",
    "\n",
    "sky_coord_instance = simple_source_icrs.position.sky_coord\n",
    "\n",
    "ra = sky_coord_instance.transform_to('icrs').ra\n",
    "dec = sky_coord_instance.transform_to('icrs').dec\n",
    "\n",
    "print ra.deg"
   ]
  },
  {
   "cell_type": "markdown",
   "metadata": {},
   "source": [
    "### Gotcha while accessing coordinates"
   ]
  },
  {
   "cell_type": "markdown",
   "metadata": {},
   "source": [
    "Please note that using get_ra() and .ra (or the equivalent methods for the other coordinates) is not the same. While get_ra() will always return a single float value corresponding to the R.A. of the source, the .ra property will exist only if the source has been created using R.A, Dec as input coordinates and will return a Parameter instance: "
   ]
  },
  {
   "cell_type": "code",
   "execution_count": 7,
   "metadata": {
    "collapsed": false
   },
   "outputs": [],
   "source": [
    "# These will return two Parameter instances corresponding to the parameters ra and dec\n",
    "# NOT the corresponding floating point numbers:\n",
    "parameter_ra = simple_source_icrs.position.ra\n",
    "parameter_dec = simple_source_icrs.position.dec\n",
    "\n",
    "# This would instead throw AttributeError, since simple_source_icrs was instanced using\n",
    "# R.A. and Dec. and hence does not have the l,b parameters:\n",
    "# error = simple_source_icrs.position.l\n",
    "# error = simple_source_icrs.position.b\n",
    "\n",
    "# Similarly this will throw AttributeError, because simple_source_gal was instanced using\n",
    "# Galactic coordinates:\n",
    "# error = simple_source_gal.position.ra\n",
    "# error = simple_source_gal.position.dec\n",
    "\n",
    "# In all cases, independently on how the source was instanced, you can obtain the coordinates\n",
    "# as normal floating point numbers using:\n",
    "ra1 = simple_source_icrs.position.get_ra()\n",
    "dec1 = simple_source_icrs.position.get_dec()\n",
    "l1 = simple_source_icrs.position.get_l()\n",
    "b1 = simple_source_icrs.position.get_b()\n",
    "\n",
    "ra2 = simple_source_gal.position.get_ra()\n",
    "dec2 = simple_source_gal.position.get_dec()\n",
    "l2 = simple_source_gal.position.get_l()\n",
    "b2 = simple_source_gal.position.get_b()"
   ]
  },
  {
   "cell_type": "markdown",
   "metadata": {},
   "source": [
    "## Multi-component sources"
   ]
  },
  {
   "cell_type": "markdown",
   "metadata": {},
   "source": [
    "A multi-component source is a point source which has different spectral components. For example, in a Gamma-Ray Bursts you can have a Synchrotron component and a Inverse Compton component, which come from different zones and are described by different spectra. Depending on the needs of your analysis, you might model this situation using a single component constituted by the sum of the two spectra, or you might want to model them independently. Also, each components has its own polarization, which can be useful when studying polarized sources (to be implemented). The latter choice allows you to measure for instance the fluxes from the two components independently. Representing a source with more than one component is easy in astromodels:"
   ]
  },
  {
   "cell_type": "code",
   "execution_count": 8,
   "metadata": {
    "collapsed": false
   },
   "outputs": [
    {
     "data": {
      "text/html": [
       "<ul>\n",
       "\n",
       "<li>multicomp_source (point source): \n",
       "<ul>\n",
       "\n",
       "<li>position: \n",
       "<ul>\n",
       "\n",
       "<li>ra: 123.2</li>\n",
       "\n",
       "<li>dec: -13.2</li>\n",
       "\n",
       "<li>equinox: J2000</li>\n",
       "\n",
       "</ul>\n",
       "\n",
       "</li>\n",
       "\n",
       "<li>spectrum: \n",
       "<ul>\n",
       "\n",
       "<li>synchrotron: \n",
       "<ul>\n",
       "\n",
       "<li>powerlaw: \n",
       "<ul>\n",
       "\n",
       "<li>logK: 0.0</li>\n",
       "\n",
       "<li>piv: 1.0</li>\n",
       "\n",
       "<li>index: -2.0</li>\n",
       "\n",
       "</ul>\n",
       "\n",
       "</li>\n",
       "\n",
       "</ul>\n",
       "\n",
       "</li>\n",
       "\n",
       "<li>IC: \n",
       "<ul>\n",
       "\n",
       "<li>powerlaw: \n",
       "<ul>\n",
       "\n",
       "<li>logK: 0.0</li>\n",
       "\n",
       "<li>piv: 1.0</li>\n",
       "\n",
       "<li>index: -2.0</li>\n",
       "\n",
       "</ul>\n",
       "\n",
       "</li>\n",
       "\n",
       "</ul>\n",
       "\n",
       "</li>\n",
       "\n",
       "</ul>\n",
       "\n",
       "</li>\n",
       "\n",
       "</ul>\n",
       "\n",
       "</li>\n",
       "\n",
       "</ul>\n"
      ],
      "text/plain": [
       "  * multicomp_source (point source): \n",
       "    * position: \n",
       "      * ra: 123.2\n",
       "      * dec: -13.2\n",
       "      * equinox: J2000\n",
       "    * spectrum: \n",
       "      * synchrotron: \n",
       "        * powerlaw: \n",
       "          * logK: 0.0\n",
       "          * piv: 1.0\n",
       "          * index: -2.0\n",
       "      * IC: \n",
       "        * powerlaw: \n",
       "          * logK: 0.0\n",
       "          * piv: 1.0\n",
       "          * index: -2.0\n"
      ]
     },
     "metadata": {},
     "output_type": "display_data"
    }
   ],
   "source": [
    "# Create the two different components \n",
    "#(of course the shape can be any function, or any composite function)\n",
    "\n",
    "component1 = SpectralComponent('synchrotron',shape=powerlaw())\n",
    "component2 = SpectralComponent('IC',shape=powerlaw())\n",
    "\n",
    "# Create a multi-component source\n",
    "multicomp_source = PointSource('multicomp_source', ra=123.2, dec=-13.2, components=[component1,component2])\n",
    "\n",
    "multicomp_source.display()"
   ]
  },
  {
   "cell_type": "markdown",
   "metadata": {},
   "source": [
    "## Modifying features of the source and modify parameters of its spectrum"
   ]
  },
  {
   "cell_type": "markdown",
   "metadata": {},
   "source": [
    "Starting from the source instance you can modify any of its components, or its position, in a straightforward way:"
   ]
  },
  {
   "cell_type": "code",
   "execution_count": 10,
   "metadata": {
    "collapsed": false
   },
   "outputs": [
    {
     "data": {
      "text/html": [
       "<ul>\n",
       "\n",
       "<li>multicomp_source (point source): \n",
       "<ul>\n",
       "\n",
       "<li>position: \n",
       "<ul>\n",
       "\n",
       "<li>ra: 124.5</li>\n",
       "\n",
       "<li>dec: -11.5</li>\n",
       "\n",
       "<li>equinox: J2000</li>\n",
       "\n",
       "</ul>\n",
       "\n",
       "</li>\n",
       "\n",
       "<li>spectrum: \n",
       "<ul>\n",
       "\n",
       "<li>synchrotron: \n",
       "<ul>\n",
       "\n",
       "<li>powerlaw: \n",
       "<ul>\n",
       "\n",
       "<li>logK: -1.3</li>\n",
       "\n",
       "<li>piv: 1.0</li>\n",
       "\n",
       "<li>index: -2.0</li>\n",
       "\n",
       "</ul>\n",
       "\n",
       "</li>\n",
       "\n",
       "</ul>\n",
       "\n",
       "</li>\n",
       "\n",
       "<li>IC: \n",
       "<ul>\n",
       "\n",
       "<li>powerlaw: \n",
       "<ul>\n",
       "\n",
       "<li>logK: 0.0</li>\n",
       "\n",
       "<li>piv: 1.0</li>\n",
       "\n",
       "<li>index: -1.0</li>\n",
       "\n",
       "</ul>\n",
       "\n",
       "</li>\n",
       "\n",
       "</ul>\n",
       "\n",
       "</li>\n",
       "\n",
       "</ul>\n",
       "\n",
       "</li>\n",
       "\n",
       "</ul>\n",
       "\n",
       "</li>\n",
       "\n",
       "</ul>\n"
      ],
      "text/plain": [
       "  * multicomp_source (point source): \n",
       "    * position: \n",
       "      * ra: 124.5\n",
       "      * dec: -11.5\n",
       "      * equinox: J2000\n",
       "    * spectrum: \n",
       "      * synchrotron: \n",
       "        * powerlaw: \n",
       "          * logK: -1.3\n",
       "          * piv: 1.0\n",
       "          * index: -2.0\n",
       "      * IC: \n",
       "        * powerlaw: \n",
       "          * logK: 0.0\n",
       "          * piv: 1.0\n",
       "          * index: -1.0\n"
      ]
     },
     "metadata": {},
     "output_type": "display_data"
    }
   ],
   "source": [
    "# Change position\n",
    "\n",
    "multicomp_source.position.ra = 124.5\n",
    "multicomp_source.position.dec = -11.5\n",
    "\n",
    "# Change values for the parameters\n",
    "multicomp_source.spectrum.synchrotron.powerlaw.logK = -1.2\n",
    "\n",
    "multicomp_source.spectrum.IC.powerlaw.index = -1.0\n",
    "\n",
    "# To avoid having to write that much, you can create a \"shortcut\" for a function\n",
    "po = multicomp_source.spectrum.synchrotron.powerlaw\n",
    "\n",
    "# Now you can modify its parameters more easily \n",
    "# (see \"Creating and modifying functions\" for more info on what you can to with a parameter)\n",
    "po.logK = -1.3\n",
    "po.logK.min_value = -3.0\n",
    "\n",
    "# GOTCHA\n",
    "# Creating a shortcut directly to the parameter will not work:\n",
    "\n",
    "# p1 = multicomp_source.spectrum.synchrotron.powerlaw.logK\n",
    "# p1 = -1.3 # this does NOT change the value of logK, but instead assign -1.3 to p1 (i.e., destroy the shortcut)\n",
    "\n",
    "# However you can change the value of p1 like this:\n",
    "# p1.value = -1.3 # This will work\n",
    "\n",
    "multicomp_source.display()"
   ]
  },
  {
   "cell_type": "code",
   "execution_count": null,
   "metadata": {
    "collapsed": true
   },
   "outputs": [],
   "source": []
  }
 ],
 "metadata": {
  "kernelspec": {
   "display_name": "Python 2",
   "language": "python",
   "name": "python2"
  },
  "language_info": {
   "codemirror_mode": {
    "name": "ipython",
    "version": 2
   },
   "file_extension": ".py",
   "mimetype": "text/x-python",
   "name": "python",
   "nbconvert_exporter": "python",
   "pygments_lexer": "ipython2",
   "version": "2.7.6"
  }
 },
 "nbformat": 4,
 "nbformat_minor": 0
}

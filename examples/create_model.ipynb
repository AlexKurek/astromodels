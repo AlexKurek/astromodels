{
 "cells": [
  {
   "cell_type": "code",
   "execution_count": 1,
   "metadata": {
    "collapsed": false
   },
   "outputs": [],
   "source": [
    "import astromodels as am\n",
    "import numpy as np\n",
    "import astropy.units as u\n",
    "\n",
    "import matplotlib.pyplot as plt\n",
    "\n",
    "%matplotlib inline"
   ]
  },
  {
   "cell_type": "code",
   "execution_count": 8,
   "metadata": {
    "collapsed": false
   },
   "outputs": [
    {
     "name": "stdout",
     "output_type": "stream",
     "text": [
      "keV\n"
     ]
    }
   ],
   "source": [
    "# A simple point source with a power law spectrum\n",
    "\n",
    "point_source1 = am.PointSource('source_1', ra=125.6, dec=-75.3, spectral_shape=am.powerlaw())\n",
    "\n",
    "# Another point source with two spectral components, in the Galactic Center\n",
    "\n",
    "spectrum1 = am.powerlaw()\n",
    "spectrum1.logK = 1.5  / (u.keV * u.cm * u.cm * u.s)\n",
    "spectrum1.piv = 1 * u.keV\n",
    "spectrum1.index = -2.5\n",
    "\n",
    "component1 = am.SpectralComponent('synchrotron',spectrum1)\n",
    "\n",
    "spectrum2 = am.powerlaw()\n",
    "spectrum2.logK = -1\n",
    "spectrum2.index = -1.2\n",
    "component2 = am.SpectralComponent('Inverse_Compton',spectrum2)\n",
    "\n",
    "point_source2 = am.PointSource('source_2', l=0.0, b=0.0, components=[component1,component2])\n",
    "\n",
    "print(point_source1.main.shape.piv.unit)\n"
   ]
  },
  {
   "cell_type": "code",
   "execution_count": 3,
   "metadata": {
    "collapsed": false
   },
   "outputs": [],
   "source": [
    "# Build a model with the two point sources\n",
    "\n",
    "my_model = am.Model(point_source1, point_source2)"
   ]
  },
  {
   "cell_type": "code",
   "execution_count": 4,
   "metadata": {
    "collapsed": false
   },
   "outputs": [],
   "source": [
    "# Save the model to a file\n",
    "\n",
    "my_model.save('my_model.yml', overwrite=True)\n",
    "\n",
    "# Re-load the model from the file, just to show how it is done\n",
    "\n",
    "my_model_2 = am.load_model('my_model.yml')"
   ]
  },
  {
   "cell_type": "code",
   "execution_count": 5,
   "metadata": {
    "collapsed": false
   },
   "outputs": [
    {
     "data": {
      "text/html": [
       "Point sources: source_1,source_2<br><br>Extended sources: (none)<br><br>Parameters:<br><br>source_1<br><table id=\"table31699472\">\n",
       "<thead><tr><th>name</th><th>value</th><th>min_value</th><th>max_value</th><th>delta</th><th>free</th><th>unit</th></tr></thead>\n",
       "<tr><td>position.ra</td><td>125.6</td><td>0.0</td><td>360.0</td><td>12.56</td><td>False</td><td></td></tr>\n",
       "<tr><td>position.dec</td><td>-75.3</td><td>-90.0</td><td>90.0</td><td>-7.53</td><td>False</td><td></td></tr>\n",
       "<tr><td>main.powerlaw.index</td><td>-2.0</td><td>-10</td><td>10</td><td>-0.2</td><td>True</td><td></td></tr>\n",
       "<tr><td>main.powerlaw.logK</td><td>0.0</td><td>-40</td><td>40</td><td>0.0</td><td>True</td><td>dex(1 / (cm2 keV s))</td></tr>\n",
       "<tr><td>main.powerlaw.piv</td><td>1.0</td><td>None</td><td>None</td><td>0.1</td><td>False</td><td>keV</td></tr>\n",
       "</table><br><br>source_2<br><table id=\"table55271248\">\n",
       "<thead><tr><th>name</th><th>value</th><th>min_value</th><th>max_value</th><th>delta</th><th>free</th><th>unit</th></tr></thead>\n",
       "<tr><td>position.l</td><td>0.0</td><td>0.0</td><td>360.0</td><td>0.0</td><td>False</td><td></td></tr>\n",
       "<tr><td>position.b</td><td>0.0</td><td>-90.0</td><td>90.0</td><td>0.0</td><td>False</td><td></td></tr>\n",
       "<tr><td>synchrotron.powerlaw.index</td><td>-2.5</td><td>-10</td><td>10</td><td>-0.2</td><td>True</td><td></td></tr>\n",
       "<tr><td>synchrotron.powerlaw.logK</td><td>0.0</td><td>-40</td><td>40</td><td>0.0</td><td>True</td><td>dex(1 / (cm2 keV s))</td></tr>\n",
       "<tr><td>synchrotron.powerlaw.piv</td><td>1.0</td><td>None</td><td>None</td><td>0.1</td><td>False</td><td>keV</td></tr>\n",
       "<tr><td>Inverse_Compton.powerlaw.index</td><td>-1.2</td><td>-10</td><td>10</td><td>-0.2</td><td>True</td><td></td></tr>\n",
       "<tr><td>Inverse_Compton.powerlaw.logK</td><td>-1.0</td><td>-40</td><td>40</td><td>0.0</td><td>True</td><td>dex(1 / (cm2 keV s))</td></tr>\n",
       "<tr><td>Inverse_Compton.powerlaw.piv</td><td>1.0</td><td>None</td><td>None</td><td>0.1</td><td>False</td><td>keV</td></tr>\n",
       "</table><br>"
      ],
      "text/plain": [
       "Point sources: source_1,source_2\n",
       "\n",
       "Extended sources: (none)\n",
       "\n",
       "Parameters:\n",
       "\n",
       "source_1\n",
       "        name        value min_value max_value delta  free         unit        \n",
       "------------------- ----- --------- --------- ----- ----- --------------------\n",
       "        position.ra 125.6       0.0     360.0 12.56 False                     \n",
       "       position.dec -75.3     -90.0      90.0 -7.53 False                     \n",
       "main.powerlaw.index  -2.0       -10        10  -0.2  True                     \n",
       " main.powerlaw.logK   0.0       -40        40   0.0  True dex(1 / (cm2 keV s))\n",
       "  main.powerlaw.piv   1.0      None      None   0.1 False                  keV\n",
       "\n",
       "source_2\n",
       "             name              value min_value ...  free         unit        \n",
       "------------------------------ ----- --------- ... ----- --------------------\n",
       "                    position.l   0.0       0.0 ... False                     \n",
       "                    position.b   0.0     -90.0 ... False                     \n",
       "    synchrotron.powerlaw.index  -2.5       -10 ...  True                     \n",
       "     synchrotron.powerlaw.logK   0.0       -40 ...  True dex(1 / (cm2 keV s))\n",
       "      synchrotron.powerlaw.piv   1.0      None ... False                  keV\n",
       "Inverse_Compton.powerlaw.index  -1.2       -10 ...  True                     \n",
       " Inverse_Compton.powerlaw.logK  -1.0       -40 ...  True dex(1 / (cm2 keV s))\n",
       "  Inverse_Compton.powerlaw.piv   1.0      None ... False                  keV"
      ]
     },
     "metadata": {},
     "output_type": "display_data"
    }
   ],
   "source": [
    "# Explore the model we just loaded back\n",
    "my_model.display()"
   ]
  },
  {
   "cell_type": "code",
   "execution_count": 6,
   "metadata": {
    "collapsed": false
   },
   "outputs": [
    {
     "data": {
      "text/plain": [
       "<matplotlib.text.Text at 0x4666950>"
      ]
     },
     "execution_count": 6,
     "metadata": {},
     "output_type": "execute_result"
    },
    {
     "data": {
      "image/png": "[encoded data removed]",
      "text/plain": [
       "<matplotlib.figure.Figure at 0x465e910>"
      ]
     },
     "metadata": {},
     "output_type": "display_data"
    }
   ],
   "source": [
    "# Now evaluate out models\n",
    "\n",
    "# Energies where we want to evaluate the model\n",
    "\n",
    "e = np.logspace(0,3,100)\n",
    "\n",
    "# Loop over the sources\n",
    "\n",
    "for src_name, src in my_model.point_sources.iteritems():\n",
    "    \n",
    "    # Loop over the components of each source\n",
    "    \n",
    "    for comp_name, component in src.components.iteritems():\n",
    "        \n",
    "        # Get the differential flux (in ph/cm2/s)\n",
    "        \n",
    "        flux = component.shape(e)\n",
    "        \n",
    "        # this can also be accomplished with:\n",
    "        # flux = component.powerlaw(e)\n",
    "        # but this requires to know the name of the\n",
    "        # spectral shape which was used\n",
    "        \n",
    "        # Plot this component for this source\n",
    "        \n",
    "        plt.plot(e,e * e * flux,label=\"%s of %s\" % (component.name, src.name))\n",
    "\n",
    "plt.legend()\n",
    "plt.loglog()\n",
    "plt.xlabel(\"Energy\")\n",
    "plt.ylabel(r\"$\\nu$F$_{\\nu}$\")"
   ]
  },
  {
   "cell_type": "code",
   "execution_count": 7,
   "metadata": {
    "collapsed": false
   },
   "outputs": [
    {
     "data": {
      "text/plain": [
       "array([ 1.  ,  0.25])"
      ]
     },
     "execution_count": 7,
     "metadata": {},
     "output_type": "execute_result"
    }
   ],
   "source": [
    "my_model.get_point_source_fluxes(0,np.array([1.0,2.0]))"
   ]
  },
  {
   "cell_type": "code",
   "execution_count": null,
   "metadata": {
    "collapsed": true
   },
   "outputs": [],
   "source": []
  }
 ],
 "metadata": {
  "kernelspec": {
   "display_name": "Python 2",
   "language": "python",
   "name": "python2"
  },
  "language_info": {
   "codemirror_mode": {
    "name": "ipython",
    "version": 2
   },
   "file_extension": ".py",
   "mimetype": "text/x-python",
   "name": "python",
   "nbconvert_exporter": "python",
   "pygments_lexer": "ipython2",
   "version": "2.7.6"
  }
 },
 "nbformat": 4,
 "nbformat_minor": 0
}

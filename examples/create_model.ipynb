{
 "cells": [
  {
   "cell_type": "markdown",
   "metadata": {},
   "source": [
    "<h1>Quick tutorial</h1>\n",
    "\n",
    "In this quick tutorial we show how to build a simple model with two point sources, how to save it for later use, and re-load it back. We will also plot the spectra of the two point sources, with their components\n",
    "\n",
    "First let's import the modules we need."
   ]
  },
  {
   "cell_type": "code",
   "execution_count": 1,
   "metadata": {
    "collapsed": false
   },
   "outputs": [],
   "source": [
    "from astromodels import *\n",
    "\n",
    "# We also import astropy units to show the unit-conversion\n",
    "# feature\n",
    "import astropy.units as u"
   ]
  },
  {
   "cell_type": "markdown",
   "metadata": {},
   "source": [
    "Now let's define the first point source. In astromodels a point source is characterized by a position (which can be given in Equatorial or Galactic coordiantes) and one or more `components`. For example, a source featuring both a synchrotron and a Inverse Compton emission would have two components. \n",
    "\n",
    "Let's start from a point source located at (R.A., Dec) = (125.6, -75.3) deg (ICRS, J2000), and having just one component with a power law spectrum.\n",
    "\n",
    "The spectrum can be defined as follows:"
   ]
  },
  {
   "cell_type": "code",
   "execution_count": 2,
   "metadata": {
    "collapsed": false
   },
   "outputs": [
    {
     "data": {
      "text/html": [
       "<ul>\n",
       "\n",
       "<li>description: A simple power-law with normalization expressed as a logarithm</li>\n",
       "\n",
       "<li>formula: $ \\frac{dN}{dx} = 10^{logK}~\\frac{x}{piv}^{index} $</li>\n",
       "\n",
       "<li>parameters: \n",
       "<ul>\n",
       "\n",
       "<li>logK: \n",
       "<ul>\n",
       "\n",
       "<li>value: 0</li>\n",
       "\n",
       "<li>min_value: -40</li>\n",
       "\n",
       "<li>max_value: 40</li>\n",
       "\n",
       "<li>delta: 0.0</li>\n",
       "\n",
       "<li>free: True</li>\n",
       "\n",
       "<li>unit: dex(1 / (cm2 keV s))</li>\n",
       "\n",
       "</ul>\n",
       "\n",
       "</li>\n",
       "\n",
       "<li>piv: \n",
       "<ul>\n",
       "\n",
       "<li>value: 1</li>\n",
       "\n",
       "<li>min_value: None</li>\n",
       "\n",
       "<li>max_value: None</li>\n",
       "\n",
       "<li>delta: 0.1</li>\n",
       "\n",
       "<li>free: False</li>\n",
       "\n",
       "<li>unit: keV</li>\n",
       "\n",
       "</ul>\n",
       "\n",
       "</li>\n",
       "\n",
       "<li>index: \n",
       "<ul>\n",
       "\n",
       "<li>value: -2</li>\n",
       "\n",
       "<li>min_value: -10</li>\n",
       "\n",
       "<li>max_value: 10</li>\n",
       "\n",
       "<li>delta: -0.2</li>\n",
       "\n",
       "<li>free: True</li>\n",
       "\n",
       "<li>unit: </li>\n",
       "\n",
       "</ul>\n",
       "\n",
       "</li>\n",
       "\n",
       "</ul>\n",
       "\n",
       "</li>\n",
       "\n",
       "</ul>\n"
      ],
      "text/plain": [
       "  * description: A simple power-law with normalization expressed as a logarithm\n",
       "  * formula: $ \\frac{dN}{dx} = 10^{logK}~\\frac{x}{piv}^{index} $\n",
       "  * parameters: \n",
       "    * logK: \n",
       "      * value: 0\n",
       "      * min_value: -40\n",
       "      * max_value: 40\n",
       "      * delta: 0.0\n",
       "      * free: True\n",
       "      * unit: dex(1 / (cm2 keV s))\n",
       "    * piv: \n",
       "      * value: 1\n",
       "      * min_value: None\n",
       "      * max_value: None\n",
       "      * delta: 0.1\n",
       "      * free: False\n",
       "      * unit: keV\n",
       "    * index: \n",
       "      * value: -2\n",
       "      * min_value: -10\n",
       "      * max_value: 10\n",
       "      * delta: -0.2\n",
       "      * free: True\n",
       "      * unit: \n"
      ]
     },
     "metadata": {},
     "output_type": "display_data"
    }
   ],
   "source": [
    "# Let's start by defining the spectrum\n",
    "\n",
    "pts1_shape = powerlaw()\n",
    "\n",
    "# Have a look at it\n",
    "\n",
    "pts1_shape.display()"
   ]
  },
  {
   "cell_type": "markdown",
   "metadata": {},
   "source": [
    "We can change the value of the parameters as:"
   ]
  },
  {
   "cell_type": "code",
   "execution_count": 3,
   "metadata": {
    "collapsed": false
   },
   "outputs": [],
   "source": [
    "pts1_shape.logK = 1.2\n",
    "pts1_shape.index = -2.1"
   ]
  },
  {
   "cell_type": "markdown",
   "metadata": {},
   "source": [
    "We can also provide the parameters in different units, and astromodels will convert automatically to the one used internally and reported above: "
   ]
  },
  {
   "cell_type": "code",
   "execution_count": 4,
   "metadata": {
    "collapsed": false
   },
   "outputs": [
    {
     "name": "stderr",
     "output_type": "stream",
     "text": [
      "/home/giacomov/software/canopy-env/lib/python2.7/site-packages/astromodels-0.1-py2.7.egg/astromodels/functions/function.py:559: WarningUnitsAreSlow: Using units is convenient but slow. Do not use them during computing-intensive work.\n",
      "  WarningUnitsAreSlow)\n"
     ]
    },
    {
     "data": {
      "text/html": [
       "<ul>\n",
       "\n",
       "<li>description: A simple power-law with normalization expressed as a logarithm</li>\n",
       "\n",
       "<li>formula: $ \\frac{dN}{dx} = 10^{logK}~\\frac{x}{piv}^{index} $</li>\n",
       "\n",
       "<li>parameters: \n",
       "<ul>\n",
       "\n",
       "<li>logK: \n",
       "<ul>\n",
       "\n",
       "<li>value: -0.912573542964</li>\n",
       "\n",
       "<li>min_value: -40</li>\n",
       "\n",
       "<li>max_value: 40</li>\n",
       "\n",
       "<li>delta: 0.0</li>\n",
       "\n",
       "<li>free: True</li>\n",
       "\n",
       "<li>unit: dex(1 / (cm2 keV s))</li>\n",
       "\n",
       "</ul>\n",
       "\n",
       "</li>\n",
       "\n",
       "<li>piv: \n",
       "<ul>\n",
       "\n",
       "<li>value: 1</li>\n",
       "\n",
       "<li>min_value: None</li>\n",
       "\n",
       "<li>max_value: None</li>\n",
       "\n",
       "<li>delta: 0.1</li>\n",
       "\n",
       "<li>free: False</li>\n",
       "\n",
       "<li>unit: keV</li>\n",
       "\n",
       "</ul>\n",
       "\n",
       "</li>\n",
       "\n",
       "<li>index: \n",
       "<ul>\n",
       "\n",
       "<li>value: -2.1</li>\n",
       "\n",
       "<li>min_value: -10</li>\n",
       "\n",
       "<li>max_value: 10</li>\n",
       "\n",
       "<li>delta: -0.2</li>\n",
       "\n",
       "<li>free: True</li>\n",
       "\n",
       "<li>unit: </li>\n",
       "\n",
       "</ul>\n",
       "\n",
       "</li>\n",
       "\n",
       "</ul>\n",
       "\n",
       "</li>\n",
       "\n",
       "</ul>\n"
      ],
      "text/plain": [
       "  * description: A simple power-law with normalization expressed as a logarithm\n",
       "  * formula: $ \\frac{dN}{dx} = 10^{logK}~\\frac{x}{piv}^{index} $\n",
       "  * parameters: \n",
       "    * logK: \n",
       "      * value: -0.912573542964\n",
       "      * min_value: -40\n",
       "      * max_value: 40\n",
       "      * delta: 0.0\n",
       "      * free: True\n",
       "      * unit: dex(1 / (cm2 keV s))\n",
       "    * piv: \n",
       "      * value: 1\n",
       "      * min_value: None\n",
       "      * max_value: None\n",
       "      * delta: 0.1\n",
       "      * free: False\n",
       "      * unit: keV\n",
       "    * index: \n",
       "      * value: -2.1\n",
       "      * min_value: -10\n",
       "      * max_value: 10\n",
       "      * delta: -0.2\n",
       "      * free: True\n",
       "      * unit: \n"
      ]
     },
     "metadata": {},
     "output_type": "display_data"
    }
   ],
   "source": [
    "# Express the differential flux at the pivot energy in 1 / (MeV cm2 s)\n",
    "\n",
    "pts1_shape.logK = 122.3 / (u.MeV * u.cm * u.cm * u.s)\n",
    "\n",
    "# Verify how things have changed\n",
    "\n",
    "pts1_shape.display()"
   ]
  },
  {
   "cell_type": "markdown",
   "metadata": {},
   "source": [
    "The warning you see the first time you execute this command warns you that using conversions like these is slow, so it is fine in an interactive environment but you need to be careful if you are using this feature in a computing-intensive situation (like during fitting).\n",
    "\n",
    "Now let's define the point source:"
   ]
  },
  {
   "cell_type": "code",
   "execution_count": 5,
   "metadata": {
    "collapsed": false
   },
   "outputs": [
    {
     "data": {
      "text/html": [
       "<ul>\n",
       "\n",
       "<li>source_1 (point source): \n",
       "<ul>\n",
       "\n",
       "<li>position: \n",
       "<ul>\n",
       "\n",
       "<li>ra: 125.6</li>\n",
       "\n",
       "<li>dec: -75.3</li>\n",
       "\n",
       "<li>equinox: J2000</li>\n",
       "\n",
       "</ul>\n",
       "\n",
       "</li>\n",
       "\n",
       "<li>components: \n",
       "<ul>\n",
       "\n",
       "<li>main: \n",
       "<ul>\n",
       "\n",
       "<li>shape: \n",
       "<ul>\n",
       "\n",
       "<li>powerlaw: \n",
       "<ul>\n",
       "\n",
       "<li>logK: -0.912573542964</li>\n",
       "\n",
       "<li>piv: 1</li>\n",
       "\n",
       "<li>index: -2.1</li>\n",
       "\n",
       "</ul>\n",
       "\n",
       "</li>\n",
       "\n",
       "</ul>\n",
       "\n",
       "</li>\n",
       "\n",
       "</ul>\n",
       "\n",
       "</li>\n",
       "\n",
       "</ul>\n",
       "\n",
       "</li>\n",
       "\n",
       "</ul>\n",
       "\n",
       "</li>\n",
       "\n",
       "</ul>\n"
      ],
      "text/plain": [
       "  * source_1 (point source): \n",
       "    * position: \n",
       "      * ra: 125.6\n",
       "      * dec: -75.3\n",
       "      * equinox: J2000\n",
       "    * components: \n",
       "      * main: \n",
       "        * shape: \n",
       "          * powerlaw: \n",
       "            * logK: -0.912573542964\n",
       "            * piv: 1\n",
       "            * index: -2.1\n"
      ]
     },
     "metadata": {},
     "output_type": "display_data"
    }
   ],
   "source": [
    "pts1 = PointSource('source_1', ra=125.6, dec=-75.3, \n",
    "                   spectral_shape=pts1_shape)\n",
    "\n",
    "# Get some info about what we just created\n",
    "pts1.display()"
   ]
  },
  {
   "cell_type": "markdown",
   "metadata": {},
   "source": [
    "Now let's define another source, this time at Galactic Coordinates l = 11.25, b = -22.5, and with two spectral components:"
   ]
  },
  {
   "cell_type": "code",
   "execution_count": 6,
   "metadata": {
    "collapsed": false
   },
   "outputs": [
    {
     "data": {
      "text/html": [
       "<ul>\n",
       "\n",
       "<li>source_2 (point source): \n",
       "<ul>\n",
       "\n",
       "<li>position: \n",
       "<ul>\n",
       "\n",
       "<li>l: 11.25</li>\n",
       "\n",
       "<li>b: -22.5</li>\n",
       "\n",
       "<li>equinox: J2000</li>\n",
       "\n",
       "</ul>\n",
       "\n",
       "</li>\n",
       "\n",
       "<li>components: \n",
       "<ul>\n",
       "\n",
       "<li>synchrotron: \n",
       "<ul>\n",
       "\n",
       "<li>shape: \n",
       "<ul>\n",
       "\n",
       "<li>powerlaw: \n",
       "<ul>\n",
       "\n",
       "<li>logK: 0.2</li>\n",
       "\n",
       "<li>piv: 1</li>\n",
       "\n",
       "<li>index: -0.75</li>\n",
       "\n",
       "</ul>\n",
       "\n",
       "</li>\n",
       "\n",
       "</ul>\n",
       "\n",
       "</li>\n",
       "\n",
       "</ul>\n",
       "\n",
       "</li>\n",
       "\n",
       "<li>Inverse_Compton: \n",
       "<ul>\n",
       "\n",
       "<li>shape: \n",
       "<ul>\n",
       "\n",
       "<li>powerlaw: \n",
       "<ul>\n",
       "\n",
       "<li>logK: -1</li>\n",
       "\n",
       "<li>piv: 1</li>\n",
       "\n",
       "<li>index: -1.7</li>\n",
       "\n",
       "</ul>\n",
       "\n",
       "</li>\n",
       "\n",
       "</ul>\n",
       "\n",
       "</li>\n",
       "\n",
       "</ul>\n",
       "\n",
       "</li>\n",
       "\n",
       "</ul>\n",
       "\n",
       "</li>\n",
       "\n",
       "</ul>\n",
       "\n",
       "</li>\n",
       "\n",
       "</ul>\n"
      ],
      "text/plain": [
       "  * source_2 (point source): \n",
       "    * position: \n",
       "      * l: 11.25\n",
       "      * b: -22.5\n",
       "      * equinox: J2000\n",
       "    * components: \n",
       "      * synchrotron: \n",
       "        * shape: \n",
       "          * powerlaw: \n",
       "            * logK: 0.2\n",
       "            * piv: 1\n",
       "            * index: -0.75\n",
       "      * Inverse_Compton: \n",
       "        * shape: \n",
       "          * powerlaw: \n",
       "            * logK: -1\n",
       "            * piv: 1\n",
       "            * index: -1.7\n"
      ]
     },
     "metadata": {},
     "output_type": "display_data"
    }
   ],
   "source": [
    "# Another point source with two spectral components,\n",
    "\n",
    "# Define component 1, also showing another way to\n",
    "# instance the spectrum, which allows to specify\n",
    "# directly the parameters' values\n",
    "\n",
    "spectrum1 = powerlaw(logK=0.2, index=-0.75)\n",
    "component1 = SpectralComponent('synchrotron',spectrum1)\n",
    "\n",
    "spectrum2 = powerlaw(logK=-1, index=-1.7)\n",
    "component2 = SpectralComponent('Inverse_Compton',spectrum2)\n",
    "\n",
    "point_source2 = PointSource('source_2', l=11.25, b=-22.5, components=[component1,component2])\n",
    "\n",
    "# Have a look at what we just created\n",
    "\n",
    "point_source2.display()"
   ]
  },
  {
   "cell_type": "markdown",
   "metadata": {},
   "source": [
    "Now let's build the final model, which comprises our two sources:"
   ]
  },
  {
   "cell_type": "code",
   "execution_count": 7,
   "metadata": {
    "collapsed": false
   },
   "outputs": [
    {
     "data": {
      "text/html": [
       "Point sources: source_1,source_2<br><br>Extended sources: (none)<br><br>Parameters:<br><br>source_1<br><table id=\"table71521104\">\n",
       "<thead><tr><th>name</th><th>value</th><th>min_value</th><th>max_value</th><th>delta</th><th>free</th><th>unit</th></tr></thead>\n",
       "<tr><td>position.ra</td><td>125.6</td><td>0.0</td><td>360.0</td><td>12.56</td><td>False</td><td></td></tr>\n",
       "<tr><td>position.dec</td><td>-75.3</td><td>-90.0</td><td>90.0</td><td>-7.53</td><td>False</td><td></td></tr>\n",
       "<tr><td>main.powerlaw.logK</td><td>-0.912573542964</td><td>-40</td><td>40</td><td>0.0</td><td>True</td><td>dex(1 / (cm2 keV s))</td></tr>\n",
       "<tr><td>main.powerlaw.piv</td><td>1.0</td><td>None</td><td>None</td><td>0.1</td><td>False</td><td>keV</td></tr>\n",
       "<tr><td>main.powerlaw.index</td><td>-2.1</td><td>-10</td><td>10</td><td>-0.2</td><td>True</td><td></td></tr>\n",
       "</table><br><br>source_2<br><table id=\"table71524304\">\n",
       "<thead><tr><th>name</th><th>value</th><th>min_value</th><th>max_value</th><th>delta</th><th>free</th><th>unit</th></tr></thead>\n",
       "<tr><td>position.l</td><td>11.25</td><td>0.0</td><td>360.0</td><td>1.125</td><td>False</td><td></td></tr>\n",
       "<tr><td>position.b</td><td>-22.5</td><td>-90.0</td><td>90.0</td><td>-2.25</td><td>False</td><td></td></tr>\n",
       "<tr><td>synchrotron.powerlaw.logK</td><td>0.2</td><td>-40</td><td>40</td><td>0.0</td><td>True</td><td>dex(1 / (cm2 keV s))</td></tr>\n",
       "<tr><td>synchrotron.powerlaw.piv</td><td>1.0</td><td>None</td><td>None</td><td>0.1</td><td>False</td><td>keV</td></tr>\n",
       "<tr><td>synchrotron.powerlaw.index</td><td>-0.75</td><td>-10</td><td>10</td><td>-0.2</td><td>True</td><td></td></tr>\n",
       "<tr><td>Inverse_Compton.powerlaw.logK</td><td>-1.0</td><td>-40</td><td>40</td><td>0.0</td><td>True</td><td>dex(1 / (cm2 keV s))</td></tr>\n",
       "<tr><td>Inverse_Compton.powerlaw.piv</td><td>1.0</td><td>None</td><td>None</td><td>0.1</td><td>False</td><td>keV</td></tr>\n",
       "<tr><td>Inverse_Compton.powerlaw.index</td><td>-1.7</td><td>-10</td><td>10</td><td>-0.2</td><td>True</td><td></td></tr>\n",
       "</table><br>"
      ],
      "text/plain": [
       "Point sources: source_1,source_2\n",
       "\n",
       "Extended sources: (none)\n",
       "\n",
       "Parameters:\n",
       "\n",
       "source_1\n",
       "        name             value      min_value ...  free         unit        \n",
       "------------------- --------------- --------- ... ----- --------------------\n",
       "        position.ra           125.6       0.0 ... False                     \n",
       "       position.dec           -75.3     -90.0 ... False                     \n",
       " main.powerlaw.logK -0.912573542964       -40 ...  True dex(1 / (cm2 keV s))\n",
       "  main.powerlaw.piv             1.0      None ... False                  keV\n",
       "main.powerlaw.index            -2.1       -10 ...  True                     \n",
       "\n",
       "source_2\n",
       "             name              value min_value ...  free         unit        \n",
       "------------------------------ ----- --------- ... ----- --------------------\n",
       "                    position.l 11.25       0.0 ... False                     \n",
       "                    position.b -22.5     -90.0 ... False                     \n",
       "     synchrotron.powerlaw.logK   0.2       -40 ...  True dex(1 / (cm2 keV s))\n",
       "      synchrotron.powerlaw.piv   1.0      None ... False                  keV\n",
       "    synchrotron.powerlaw.index -0.75       -10 ...  True                     \n",
       " Inverse_Compton.powerlaw.logK  -1.0       -40 ...  True dex(1 / (cm2 keV s))\n",
       "  Inverse_Compton.powerlaw.piv   1.0      None ... False                  keV\n",
       "Inverse_Compton.powerlaw.index  -1.7       -10 ...  True                     "
      ]
     },
     "metadata": {},
     "output_type": "display_data"
    }
   ],
   "source": [
    "# Build a model with the two point sources\n",
    "\n",
    "my_model = Model(pts1, point_source2)\n",
    "\n",
    "# Let's have a look at what we just created\n",
    "\n",
    "my_model.display()"
   ]
  },
  {
   "cell_type": "markdown",
   "metadata": {},
   "source": [
    "Now let's have a look at different ways to change parameters values or characteristics:"
   ]
  },
  {
   "cell_type": "code",
   "execution_count": 8,
   "metadata": {
    "collapsed": false
   },
   "outputs": [
    {
     "data": {
      "text/html": [
       "Point sources: source_1,source_2<br><br>Extended sources: (none)<br><br>Parameters:<br><br>source_1<br><table id=\"table71524240\">\n",
       "<thead><tr><th>name</th><th>value</th><th>min_value</th><th>max_value</th><th>delta</th><th>free</th><th>unit</th></tr></thead>\n",
       "<tr><td>position.ra</td><td>125.6</td><td>0.0</td><td>360.0</td><td>12.56</td><td>False</td><td></td></tr>\n",
       "<tr><td>position.dec</td><td>-75.3</td><td>-90.0</td><td>90.0</td><td>-7.53</td><td>False</td><td></td></tr>\n",
       "<tr><td>main.powerlaw.logK</td><td>-0.912573542964</td><td>-40</td><td>40</td><td>0.0</td><td>True</td><td>dex(1 / (cm2 keV s))</td></tr>\n",
       "<tr><td>main.powerlaw.piv</td><td>1.0</td><td>None</td><td>None</td><td>0.1</td><td>False</td><td>keV</td></tr>\n",
       "<tr><td>main.powerlaw.index</td><td>-2.1</td><td>-10</td><td>10</td><td>-0.2</td><td>True</td><td></td></tr>\n",
       "</table><br><br>source_2<br><table id=\"table71558672\">\n",
       "<thead><tr><th>name</th><th>value</th><th>min_value</th><th>max_value</th><th>delta</th><th>free</th><th>unit</th></tr></thead>\n",
       "<tr><td>position.l</td><td>11.25</td><td>0.0</td><td>360.0</td><td>1.125</td><td>False</td><td></td></tr>\n",
       "<tr><td>position.b</td><td>-22.5</td><td>-90.0</td><td>90.0</td><td>-2.25</td><td>False</td><td></td></tr>\n",
       "<tr><td>synchrotron.powerlaw.logK</td><td>-0.3</td><td>-40</td><td>40</td><td>0.0</td><td>True</td><td>dex(1 / (cm2 keV s))</td></tr>\n",
       "<tr><td>synchrotron.powerlaw.piv</td><td>1.0</td><td>None</td><td>None</td><td>0.1</td><td>False</td><td>keV</td></tr>\n",
       "<tr><td>synchrotron.powerlaw.index</td><td>-0.75</td><td>-10</td><td>10</td><td>-0.2</td><td>True</td><td></td></tr>\n",
       "<tr><td>Inverse_Compton.powerlaw.logK</td><td>-0.3</td><td>-40</td><td>40</td><td>0.0</td><td>True</td><td>dex(1 / (cm2 keV s))</td></tr>\n",
       "<tr><td>Inverse_Compton.powerlaw.piv</td><td>1.0</td><td>None</td><td>None</td><td>0.1</td><td>False</td><td>keV</td></tr>\n",
       "<tr><td>Inverse_Compton.powerlaw.index</td><td>-1.7</td><td>-10</td><td>10</td><td>-0.2</td><td>True</td><td></td></tr>\n",
       "</table><br>"
      ],
      "text/plain": [
       "Point sources: source_1,source_2\n",
       "\n",
       "Extended sources: (none)\n",
       "\n",
       "Parameters:\n",
       "\n",
       "source_1\n",
       "        name             value      min_value ...  free         unit        \n",
       "------------------- --------------- --------- ... ----- --------------------\n",
       "        position.ra           125.6       0.0 ... False                     \n",
       "       position.dec           -75.3     -90.0 ... False                     \n",
       " main.powerlaw.logK -0.912573542964       -40 ...  True dex(1 / (cm2 keV s))\n",
       "  main.powerlaw.piv             1.0      None ... False                  keV\n",
       "main.powerlaw.index            -2.1       -10 ...  True                     \n",
       "\n",
       "source_2\n",
       "             name              value min_value ...  free         unit        \n",
       "------------------------------ ----- --------- ... ----- --------------------\n",
       "                    position.l 11.25       0.0 ... False                     \n",
       "                    position.b -22.5     -90.0 ... False                     \n",
       "     synchrotron.powerlaw.logK  -0.3       -40 ...  True dex(1 / (cm2 keV s))\n",
       "      synchrotron.powerlaw.piv   1.0      None ... False                  keV\n",
       "    synchrotron.powerlaw.index -0.75       -10 ...  True                     \n",
       " Inverse_Compton.powerlaw.logK  -0.3       -40 ...  True dex(1 / (cm2 keV s))\n",
       "  Inverse_Compton.powerlaw.piv   1.0      None ... False                  keV\n",
       "Inverse_Compton.powerlaw.index  -1.7       -10 ...  True                     "
      ]
     },
     "metadata": {},
     "output_type": "display_data"
    }
   ],
   "source": [
    "# Method 1: universal method. When you have available an instance of a model\n",
    "# you can refer to a parameter with the 'extended' syntax:\n",
    "\n",
    "my_model.source_2.synchrotron.powerlaw.logK = 0.3\n",
    "\n",
    "# Method 2: universal method 2. You can obtain the same result without\n",
    "# explicitly using the name of the spectral function, by using the\n",
    "# generic name 'shape':\n",
    "\n",
    "my_model.source_2.synchrotron.shape.logK = 0.3\n",
    "\n",
    "# Method 3: using instances created previously.\n",
    "\n",
    "point_source2.synchrotron.shape.logK = -0.3\n",
    "component2.shape.logK = -0.3\n",
    "spectrum2.logK = -0.3\n",
    "\n",
    "my_model.display()"
   ]
  },
  {
   "cell_type": "markdown",
   "metadata": {},
   "source": [
    "Now we can save the model for later use:"
   ]
  },
  {
   "cell_type": "code",
   "execution_count": 9,
   "metadata": {
    "collapsed": true
   },
   "outputs": [],
   "source": [
    "# Save the model to a file\n",
    "\n",
    "my_model.save('my_model.yml', overwrite=True)"
   ]
  },
  {
   "cell_type": "markdown",
   "metadata": {},
   "source": [
    "The content of the file is YAML code, which is human-readable and very easy to understand. Let's have a look:"
   ]
  },
  {
   "cell_type": "code",
   "execution_count": 10,
   "metadata": {
    "collapsed": false
   },
   "outputs": [
    {
     "name": "stdout",
     "output_type": "stream",
     "text": [
      "source_1:\n",
      "\n",
      "  point source:\n",
      "\n",
      "    position:\n",
      "\n",
      "      ra: {value: 125.6, min_value: 0.0, max_value: 360.0, delta: 12.56, free: false,\n",
      "\n",
      "        unit: ''}\n",
      "\n",
      "      dec: {value: -75.3, min_value: -90.0, max_value: 90.0, delta: -7.53, free: false,\n",
      "\n",
      "        unit: ''}\n",
      "\n",
      "      equinox: J2000\n",
      "\n",
      "    spectrum:\n",
      "\n",
      "      main:\n",
      "\n",
      "        shape:\n",
      "\n",
      "          powerlaw:\n",
      "\n",
      "            logK: {value: -0.9125735429637145, min_value: -40, max_value: 40, delta: 0.0,\n",
      "\n",
      "              free: true, unit: dex(1 / (cm2 keV s))}\n",
      "\n",
      "            piv: {value: 1, min_value: null, max_value: null, delta: 0.1, free: false,\n",
      "\n",
      "              unit: keV}\n",
      "\n",
      "            index: {value: -2.1, min_value: -10, max_value: 10, delta: -0.2, free: true,\n",
      "\n",
      "              unit: ''}\n",
      "\n",
      "        polarization: {}\n",
      "\n",
      "source_2:\n",
      "\n",
      "  point source:\n",
      "\n",
      "    position:\n",
      "\n",
      "      l: {value: 11.25, min_value: 0.0, max_value: 360.0, delta: 1.125, free: false,\n",
      "\n",
      "        unit: ''}\n",
      "\n",
      "      b: {value: -22.5, min_value: -90.0, max_value: 90.0, delta: -2.25, free: false,\n",
      "\n",
      "        unit: ''}\n",
      "\n",
      "      equinox: J2000\n",
      "\n",
      "    spectrum:\n",
      "\n",
      "      synchrotron:\n",
      "\n",
      "        shape:\n",
      "\n",
      "          powerlaw:\n",
      "\n",
      "            logK: {value: -0.3, min_value: -40, max_value: 40, delta: 0.0, free: true,\n",
      "\n",
      "              unit: dex(1 / (cm2 keV s))}\n",
      "\n",
      "            piv: {value: 1, min_value: null, max_value: null, delta: 0.1, free: false,\n",
      "\n",
      "              unit: keV}\n",
      "\n",
      "            index: {value: -0.75, min_value: -10, max_value: 10, delta: -0.2, free: true,\n",
      "\n",
      "              unit: ''}\n",
      "\n",
      "        polarization: {}\n",
      "\n",
      "      Inverse_Compton:\n",
      "\n",
      "        shape:\n",
      "\n",
      "          powerlaw:\n",
      "\n",
      "            logK: {value: -0.3, min_value: -40, max_value: 40, delta: 0.0, free: true,\n",
      "\n",
      "              unit: dex(1 / (cm2 keV s))}\n",
      "\n",
      "            piv: {value: 1, min_value: null, max_value: null, delta: 0.1, free: false,\n",
      "\n",
      "              unit: keV}\n",
      "\n",
      "            index: {value: -1.7, min_value: -10, max_value: 10, delta: -0.2, free: true,\n",
      "\n",
      "              unit: ''}\n",
      "\n",
      "        polarization: {}\n",
      "\n",
      "\n"
     ]
    }
   ],
   "source": [
    "with open('my_model.yml') as yaml_file:\n",
    "    \n",
    "    print(\"\".join(yaml_file.readlines()))"
   ]
  },
  {
   "cell_type": "markdown",
   "metadata": {},
   "source": [
    "Now suppose that you want to load back a file you created in a previous session. You can do it with:"
   ]
  },
  {
   "cell_type": "code",
   "execution_count": 11,
   "metadata": {
    "collapsed": false
   },
   "outputs": [],
   "source": [
    "# Re-load the model from the file, just to show how it is done\n",
    "\n",
    "my_model_2 = load_model('my_model.yml')"
   ]
  },
  {
   "cell_type": "code",
   "execution_count": 12,
   "metadata": {
    "collapsed": false
   },
   "outputs": [
    {
     "data": {
      "text/html": [
       "Point sources: source_1,source_2<br><br>Extended sources: (none)<br><br>Parameters:<br><br>source_1<br><table id=\"table71521552\">\n",
       "<thead><tr><th>name</th><th>value</th><th>min_value</th><th>max_value</th><th>delta</th><th>free</th><th>unit</th></tr></thead>\n",
       "<tr><td>position.ra</td><td>125.6</td><td>0</td><td>360</td><td>12.56</td><td>False</td><td></td></tr>\n",
       "<tr><td>position.dec</td><td>-75.3</td><td>-90</td><td>90</td><td>-7.53</td><td>False</td><td></td></tr>\n",
       "<tr><td>main.powerlaw.logK</td><td>-0.912573542964</td><td>-40</td><td>40</td><td>0.0</td><td>True</td><td>dex(1 / (cm2 keV s))</td></tr>\n",
       "<tr><td>main.powerlaw.piv</td><td>1.0</td><td>None</td><td>None</td><td>0.1</td><td>False</td><td>keV</td></tr>\n",
       "<tr><td>main.powerlaw.index</td><td>-2.1</td><td>-10</td><td>10</td><td>-0.2</td><td>True</td><td></td></tr>\n",
       "</table><br><br>source_2<br><table id=\"table71560592\">\n",
       "<thead><tr><th>name</th><th>value</th><th>min_value</th><th>max_value</th><th>delta</th><th>free</th><th>unit</th></tr></thead>\n",
       "<tr><td>position.l</td><td>11.25</td><td>0</td><td>360</td><td>1.125</td><td>False</td><td></td></tr>\n",
       "<tr><td>position.b</td><td>-22.5</td><td>-90</td><td>90</td><td>-2.25</td><td>False</td><td></td></tr>\n",
       "<tr><td>synchrotron.powerlaw.logK</td><td>-0.3</td><td>-40</td><td>40</td><td>0.0</td><td>True</td><td>dex(1 / (cm2 keV s))</td></tr>\n",
       "<tr><td>synchrotron.powerlaw.piv</td><td>1.0</td><td>None</td><td>None</td><td>0.1</td><td>False</td><td>keV</td></tr>\n",
       "<tr><td>synchrotron.powerlaw.index</td><td>-0.75</td><td>-10</td><td>10</td><td>-0.2</td><td>True</td><td></td></tr>\n",
       "<tr><td>Inverse_Compton.powerlaw.logK</td><td>-0.3</td><td>-40</td><td>40</td><td>0.0</td><td>True</td><td>dex(1 / (cm2 keV s))</td></tr>\n",
       "<tr><td>Inverse_Compton.powerlaw.piv</td><td>1.0</td><td>None</td><td>None</td><td>0.1</td><td>False</td><td>keV</td></tr>\n",
       "<tr><td>Inverse_Compton.powerlaw.index</td><td>-1.7</td><td>-10</td><td>10</td><td>-0.2</td><td>True</td><td></td></tr>\n",
       "</table><br>"
      ],
      "text/plain": [
       "Point sources: source_1,source_2\n",
       "\n",
       "Extended sources: (none)\n",
       "\n",
       "Parameters:\n",
       "\n",
       "source_1\n",
       "        name             value      min_value ...  free         unit        \n",
       "------------------- --------------- --------- ... ----- --------------------\n",
       "        position.ra           125.6         0 ... False                     \n",
       "       position.dec           -75.3       -90 ... False                     \n",
       " main.powerlaw.logK -0.912573542964       -40 ...  True dex(1 / (cm2 keV s))\n",
       "  main.powerlaw.piv             1.0      None ... False                  keV\n",
       "main.powerlaw.index            -2.1       -10 ...  True                     \n",
       "\n",
       "source_2\n",
       "             name              value min_value ...  free         unit        \n",
       "------------------------------ ----- --------- ... ----- --------------------\n",
       "                    position.l 11.25         0 ... False                     \n",
       "                    position.b -22.5       -90 ... False                     \n",
       "     synchrotron.powerlaw.logK  -0.3       -40 ...  True dex(1 / (cm2 keV s))\n",
       "      synchrotron.powerlaw.piv   1.0      None ... False                  keV\n",
       "    synchrotron.powerlaw.index -0.75       -10 ...  True                     \n",
       " Inverse_Compton.powerlaw.logK  -0.3       -40 ...  True dex(1 / (cm2 keV s))\n",
       "  Inverse_Compton.powerlaw.piv   1.0      None ... False                  keV\n",
       "Inverse_Compton.powerlaw.index  -1.7       -10 ...  True                     "
      ]
     },
     "metadata": {},
     "output_type": "display_data"
    }
   ],
   "source": [
    "# Explore the model we just loaded back\n",
    "\n",
    "my_model_2.display()"
   ]
  },
  {
   "cell_type": "code",
   "execution_count": 13,
   "metadata": {
    "collapsed": false
   },
   "outputs": [
    {
     "data": {
      "text/plain": [
       "<matplotlib.text.Text at 0x3d9cd90>"
      ]
     },
     "execution_count": 13,
     "metadata": {},
     "output_type": "execute_result"
    },
    {
     "data": {
      "image/png": "[encoded data removed]",
      "text/plain": [
       "<matplotlib.figure.Figure at 0x445a250>"
      ]
     },
     "metadata": {},
     "output_type": "display_data"
    }
   ],
   "source": [
    "# Now evaluate and plot our models. You need matplotlib for this\n",
    "\n",
    "import matplotlib.pyplot as plt\n",
    "\n",
    "%matplotlib inline\n",
    "\n",
    "# Energies where we want to evaluate the model\n",
    "\n",
    "e = np.logspace(0,3,100)\n",
    "\n",
    "# Loop over the sources\n",
    "\n",
    "for src_name, src in my_model.point_sources.iteritems():\n",
    "    \n",
    "    # Loop over the components of each source\n",
    "    \n",
    "    for comp_name, component in src.components.iteritems():\n",
    "        \n",
    "        # Get the differential flux (in ph/cm2/s)\n",
    "        \n",
    "        flux = component.shape(e)\n",
    "        \n",
    "        # this can also be accomplished with:\n",
    "        # flux = component.powerlaw(e)\n",
    "        # but this requires to know the name of the\n",
    "        # spectral shape which was used\n",
    "        \n",
    "        # Plot this component for this source\n",
    "        \n",
    "        plt.plot(e,e * e * flux,label=\"%s of %s\" % (component.name, src.name))\n",
    "\n",
    "plt.legend(loc=0)\n",
    "plt.loglog()\n",
    "plt.xlabel(\"Energy\")\n",
    "plt.ylabel(r\"$\\nu$F$_{\\nu}$\")"
   ]
  },
  {
   "cell_type": "code",
   "execution_count": null,
   "metadata": {
    "collapsed": true
   },
   "outputs": [],
   "source": []
  }
 ],
 "metadata": {
  "kernelspec": {
   "display_name": "Python 2",
   "language": "python",
   "name": "python2"
  },
  "language_info": {
   "codemirror_mode": {
    "name": "ipython",
    "version": 2
   },
   "file_extension": ".py",
   "mimetype": "text/x-python",
   "name": "python",
   "nbconvert_exporter": "python",
   "pygments_lexer": "ipython2",
   "version": "2.7.6"
  }
 },
 "nbformat": 4,
 "nbformat_minor": 0
}

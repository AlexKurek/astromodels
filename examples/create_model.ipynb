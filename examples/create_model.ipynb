{
 "cells": [
  {
   "cell_type": "markdown",
   "metadata": {},
   "source": [
    "<h1>Quick tutorial</h1>\n",
    "\n",
    "In this quick tutorial we show how to build a simple model with two point sources, how to save it for later use, and re-load it back. We will also plot the spectra of the two point sources, with their components\n",
    "\n",
    "First let's import the modules we need."
   ]
  },
  {
   "cell_type": "code",
   "execution_count": 1,
   "metadata": {
    "collapsed": false
   },
   "outputs": [
    {
     "name": "stderr",
     "output_type": "stream",
     "text": [
      "/home/giacomov/software/canopy-env/lib/python2.7/site-packages/astromodels-0.1-py2.7.egg/astromodels/functions/function.py:336: WarningNoTests: The function class synchrotron contains no tests.\n",
      "  warnings.warn(\"The function class %s contains no tests.\" % name, WarningNoTests)\n",
      "/home/giacomov/software/canopy-env/lib/python2.7/site-packages/astromodels-0.1-py2.7.egg/astromodels/functions/function.py:336: WarningNoTests: The function class line contains no tests.\n",
      "  warnings.warn(\"The function class %s contains no tests.\" % name, WarningNoTests)\n",
      "WARNING: UnitsWarning: 'erg / cm2 / s' contains multiple slashes, which is discouraged by the FITS standard [astropy.units.format.generic]\n",
      "WARNING:astropy:UnitsWarning: 'erg / cm2 / s' contains multiple slashes, which is discouraged by the FITS standard\n"
     ]
    },
    {
     "name": "stdout",
     "output_type": "stream",
     "text": [
      "Function powerlaw: \n",
      " variables: x\n",
      " parameters: logK,piv,index\n",
      "\n",
      "Function gaussian: \n",
      " variables: x\n",
      " parameters: logK,mu,sigma\n",
      "\n",
      "Function uniform_prior: \n",
      " variables: x\n",
      " parameters: lower_bound,upper_bound,value\n",
      "\n",
      "Function log_uniform_prior: \n",
      " variables: x\n",
      " parameters: lower_bound,upper_bound\n",
      "\n",
      "Function sin: \n",
      " variables: x\n",
      " parameters: logK,f,phi\n",
      "\n",
      "Function synchrotron: \n",
      " variables: x\n",
      " parameters: B,emin,emax,need\n",
      "\n",
      "Function line: \n",
      " variables: x\n",
      " parameters: logK,a,b\n",
      "\n",
      "Function band: \n",
      " variables: x\n",
      " parameters: alpha,beta,log_Ep,log_Flux,Emin,Emax,opt\n",
      "\n"
     ]
    },
    {
     "name": "stderr",
     "output_type": "stream",
     "text": [
      "/home/giacomov/software/canopy-env/lib/python2.7/site-packages/astromodels-0.1-py2.7.egg/astromodels/functions/function.py:336: WarningNoTests: The function class band contains no tests.\n",
      "  warnings.warn(\"The function class %s contains no tests.\" % name, WarningNoTests)\n"
     ]
    }
   ],
   "source": [
    "from astromodels import *\n",
    "\n",
    "# We also import astropy units to show the unit-conversion\n",
    "# feature\n",
    "import astropy.units as u"
   ]
  },
  {
   "cell_type": "markdown",
   "metadata": {},
   "source": [
    "Now let's define the first point source. In astromodels a point source is characterized by a position (which can be given in Equatorial or Galactic coordiantes) and one or more `components`. For example, a source featuring both a synchrotron and a Inverse Compton emission would have two components. \n",
    "\n",
    "Let's start from a point source located at (R.A., Dec) = (125.6, -75.3) deg (ICRS, J2000), and having just one component with a power law spectrum.\n",
    "\n",
    "The spectrum can be defined as follows:"
   ]
  },
  {
   "cell_type": "code",
   "execution_count": 2,
   "metadata": {
    "collapsed": false
   },
   "outputs": [
    {
     "data": {
      "text/html": [
       "<ul>\n",
       "\n",
       "<li>description: A simple power-law with normalization expressed as a logarithm</li>\n",
       "\n",
       "<li>formula: $ \\frac{dN}{dx} = 10^{logK}~\\frac{x}{piv}^{index} $</li>\n",
       "\n",
       "<li>parameters: \n",
       "<ul>\n",
       "\n",
       "<li>logK: \n",
       "<ul>\n",
       "\n",
       "<li>value: 0.0</li>\n",
       "\n",
       "<li>min_value: -40</li>\n",
       "\n",
       "<li>max_value: 40</li>\n",
       "\n",
       "<li>unit: dex(1 / (cm2 keV s))</li>\n",
       "\n",
       "<li>delta: 0.1</li>\n",
       "\n",
       "<li>free: True</li>\n",
       "\n",
       "</ul>\n",
       "\n",
       "</li>\n",
       "\n",
       "<li>piv: \n",
       "<ul>\n",
       "\n",
       "<li>value: 1.0</li>\n",
       "\n",
       "<li>min_value: None</li>\n",
       "\n",
       "<li>max_value: None</li>\n",
       "\n",
       "<li>unit: keV</li>\n",
       "\n",
       "<li>delta: 0.1</li>\n",
       "\n",
       "<li>free: False</li>\n",
       "\n",
       "</ul>\n",
       "\n",
       "</li>\n",
       "\n",
       "<li>index: \n",
       "<ul>\n",
       "\n",
       "<li>value: -2.0</li>\n",
       "\n",
       "<li>min_value: -10</li>\n",
       "\n",
       "<li>max_value: 10</li>\n",
       "\n",
       "<li>unit: </li>\n",
       "\n",
       "<li>delta: 0.2</li>\n",
       "\n",
       "<li>free: True</li>\n",
       "\n",
       "</ul>\n",
       "\n",
       "</li>\n",
       "\n",
       "</ul>\n",
       "\n",
       "</li>\n",
       "\n",
       "</ul>\n"
      ],
      "text/plain": [
       "  * description: A simple power-law with normalization expressed as a logarithm\n",
       "  * formula: $ \\frac{dN}{dx} = 10^{logK}~\\frac{x}{piv}^{index} $\n",
       "  * parameters: \n",
       "    * logK: \n",
       "      * value: 0.0\n",
       "      * min_value: -40\n",
       "      * max_value: 40\n",
       "      * unit: dex(1 / (cm2 keV s))\n",
       "      * delta: 0.1\n",
       "      * free: True\n",
       "    * piv: \n",
       "      * value: 1.0\n",
       "      * min_value: None\n",
       "      * max_value: None\n",
       "      * unit: keV\n",
       "      * delta: 0.1\n",
       "      * free: False\n",
       "    * index: \n",
       "      * value: -2.0\n",
       "      * min_value: -10\n",
       "      * max_value: 10\n",
       "      * unit: \n",
       "      * delta: 0.2\n",
       "      * free: True\n"
      ]
     },
     "metadata": {},
     "output_type": "display_data"
    }
   ],
   "source": [
    "# Let's start by defining the spectrum\n",
    "\n",
    "pts1_shape = powerlaw()\n",
    "\n",
    "# Have a look at it\n",
    "\n",
    "pts1_shape.display()"
   ]
  },
  {
   "cell_type": "markdown",
   "metadata": {},
   "source": [
    "We can change the value of the parameters as:"
   ]
  },
  {
   "cell_type": "code",
   "execution_count": 3,
   "metadata": {
    "collapsed": true
   },
   "outputs": [],
   "source": [
    "pts1_shape.logK = 1.2\n",
    "pts1_shape.index = -2.1"
   ]
  },
  {
   "cell_type": "markdown",
   "metadata": {},
   "source": [
    "We can also provide the parameters in different units, and astromodels will convert automatically to the one used internally and reported above: "
   ]
  },
  {
   "cell_type": "code",
   "execution_count": 4,
   "metadata": {
    "collapsed": false
   },
   "outputs": [
    {
     "name": "stderr",
     "output_type": "stream",
     "text": [
      "/home/giacomov/software/canopy-env/lib/python2.7/site-packages/astromodels-0.1-py2.7.egg/astromodels/parameter.py:371: WarningUnitsAreSlow: Using units is convenient but slow. Do not use them during computing-intensive work.\n",
      "  WarningUnitsAreSlow)\n"
     ]
    },
    {
     "data": {
      "text/html": [
       "<ul>\n",
       "\n",
       "<li>description: A simple power-law with normalization expressed as a logarithm</li>\n",
       "\n",
       "<li>formula: $ \\frac{dN}{dx} = 10^{logK}~\\frac{x}{piv}^{index} $</li>\n",
       "\n",
       "<li>parameters: \n",
       "<ul>\n",
       "\n",
       "<li>logK: \n",
       "<ul>\n",
       "\n",
       "<li>value: -0.912573542964</li>\n",
       "\n",
       "<li>min_value: -40</li>\n",
       "\n",
       "<li>max_value: 40</li>\n",
       "\n",
       "<li>unit: dex(1 / (cm2 keV s))</li>\n",
       "\n",
       "<li>delta: 0.1</li>\n",
       "\n",
       "<li>free: True</li>\n",
       "\n",
       "</ul>\n",
       "\n",
       "</li>\n",
       "\n",
       "<li>piv: \n",
       "<ul>\n",
       "\n",
       "<li>value: 1.0</li>\n",
       "\n",
       "<li>min_value: None</li>\n",
       "\n",
       "<li>max_value: None</li>\n",
       "\n",
       "<li>unit: keV</li>\n",
       "\n",
       "<li>delta: 0.1</li>\n",
       "\n",
       "<li>free: False</li>\n",
       "\n",
       "</ul>\n",
       "\n",
       "</li>\n",
       "\n",
       "<li>index: \n",
       "<ul>\n",
       "\n",
       "<li>value: -2.1</li>\n",
       "\n",
       "<li>min_value: -10</li>\n",
       "\n",
       "<li>max_value: 10</li>\n",
       "\n",
       "<li>unit: </li>\n",
       "\n",
       "<li>delta: 0.2</li>\n",
       "\n",
       "<li>free: True</li>\n",
       "\n",
       "</ul>\n",
       "\n",
       "</li>\n",
       "\n",
       "</ul>\n",
       "\n",
       "</li>\n",
       "\n",
       "</ul>\n"
      ],
      "text/plain": [
       "  * description: A simple power-law with normalization expressed as a logarithm\n",
       "  * formula: $ \\frac{dN}{dx} = 10^{logK}~\\frac{x}{piv}^{index} $\n",
       "  * parameters: \n",
       "    * logK: \n",
       "      * value: -0.912573542964\n",
       "      * min_value: -40\n",
       "      * max_value: 40\n",
       "      * unit: dex(1 / (cm2 keV s))\n",
       "      * delta: 0.1\n",
       "      * free: True\n",
       "    * piv: \n",
       "      * value: 1.0\n",
       "      * min_value: None\n",
       "      * max_value: None\n",
       "      * unit: keV\n",
       "      * delta: 0.1\n",
       "      * free: False\n",
       "    * index: \n",
       "      * value: -2.1\n",
       "      * min_value: -10\n",
       "      * max_value: 10\n",
       "      * unit: \n",
       "      * delta: 0.2\n",
       "      * free: True\n"
      ]
     },
     "metadata": {},
     "output_type": "display_data"
    }
   ],
   "source": [
    "# Express the differential flux at the pivot energy in 1 / (MeV cm2 s)\n",
    "\n",
    "pts1_shape.logK.set(122.3 / (u.MeV * u.cm * u.cm * u.s))\n",
    "\n",
    "# Verify how things have changed\n",
    "\n",
    "pts1_shape.display()"
   ]
  },
  {
   "cell_type": "markdown",
   "metadata": {},
   "source": [
    "The warning you see the first time you execute this command warns you that using conversions like these is slow, so it is fine in an interactive environment but you need to be careful if you are using this feature in a computing-intensive situation (like during fitting).\n",
    "\n",
    "Now let's define the point source:"
   ]
  },
  {
   "cell_type": "code",
   "execution_count": 5,
   "metadata": {
    "collapsed": false
   },
   "outputs": [
    {
     "data": {
      "text/html": [
       "<ul>\n",
       "\n",
       "<li>source_1 (point source): \n",
       "<ul>\n",
       "\n",
       "<li>position: \n",
       "<ul>\n",
       "\n",
       "<li>ra: 125.6</li>\n",
       "\n",
       "<li>dec: -75.3</li>\n",
       "\n",
       "<li>equinox: J2000</li>\n",
       "\n",
       "</ul>\n",
       "\n",
       "</li>\n",
       "\n",
       "<li>components: \n",
       "<ul>\n",
       "\n",
       "<li>main: \n",
       "<ul>\n",
       "\n",
       "<li>powerlaw: \n",
       "<ul>\n",
       "\n",
       "<li>logK: -0.912573542964</li>\n",
       "\n",
       "<li>piv: 1.0</li>\n",
       "\n",
       "<li>index: -2.1</li>\n",
       "\n",
       "</ul>\n",
       "\n",
       "</li>\n",
       "\n",
       "</ul>\n",
       "\n",
       "</li>\n",
       "\n",
       "</ul>\n",
       "\n",
       "</li>\n",
       "\n",
       "</ul>\n",
       "\n",
       "</li>\n",
       "\n",
       "</ul>\n"
      ],
      "text/plain": [
       "  * source_1 (point source): \n",
       "    * position: \n",
       "      * ra: 125.6\n",
       "      * dec: -75.3\n",
       "      * equinox: J2000\n",
       "    * components: \n",
       "      * main: \n",
       "        * powerlaw: \n",
       "          * logK: -0.912573542964\n",
       "          * piv: 1.0\n",
       "          * index: -2.1\n"
      ]
     },
     "metadata": {},
     "output_type": "display_data"
    }
   ],
   "source": [
    "pts1 = PointSource('source_1', ra=125.6, dec=-75.3, \n",
    "                   spectral_shape=pts1_shape)\n",
    "\n",
    "# Get some info about what we just created\n",
    "pts1.display()"
   ]
  },
  {
   "cell_type": "markdown",
   "metadata": {},
   "source": [
    "Now let's define another source, this time at Galactic Coordinates l = 11.25, b = -22.5, and with two spectral components:"
   ]
  },
  {
   "cell_type": "code",
   "execution_count": 6,
   "metadata": {
    "collapsed": false
   },
   "outputs": [
    {
     "data": {
      "text/html": [
       "<ul>\n",
       "\n",
       "<li>source_2 (point source): \n",
       "<ul>\n",
       "\n",
       "<li>position: \n",
       "<ul>\n",
       "\n",
       "<li>l: 11.25</li>\n",
       "\n",
       "<li>b: -22.5</li>\n",
       "\n",
       "<li>equinox: J2000</li>\n",
       "\n",
       "</ul>\n",
       "\n",
       "</li>\n",
       "\n",
       "<li>components: \n",
       "<ul>\n",
       "\n",
       "<li>synchrotron: \n",
       "<ul>\n",
       "\n",
       "<li>powerlaw: \n",
       "<ul>\n",
       "\n",
       "<li>logK: 0.2</li>\n",
       "\n",
       "<li>piv: 1.0</li>\n",
       "\n",
       "<li>index: -0.75</li>\n",
       "\n",
       "</ul>\n",
       "\n",
       "</li>\n",
       "\n",
       "</ul>\n",
       "\n",
       "</li>\n",
       "\n",
       "<li>Inverse_Compton: \n",
       "<ul>\n",
       "\n",
       "<li>powerlaw: \n",
       "<ul>\n",
       "\n",
       "<li>logK: -1</li>\n",
       "\n",
       "<li>piv: 1.0</li>\n",
       "\n",
       "<li>index: -1.7</li>\n",
       "\n",
       "</ul>\n",
       "\n",
       "</li>\n",
       "\n",
       "</ul>\n",
       "\n",
       "</li>\n",
       "\n",
       "</ul>\n",
       "\n",
       "</li>\n",
       "\n",
       "</ul>\n",
       "\n",
       "</li>\n",
       "\n",
       "</ul>\n"
      ],
      "text/plain": [
       "  * source_2 (point source): \n",
       "    * position: \n",
       "      * l: 11.25\n",
       "      * b: -22.5\n",
       "      * equinox: J2000\n",
       "    * components: \n",
       "      * synchrotron: \n",
       "        * powerlaw: \n",
       "          * logK: 0.2\n",
       "          * piv: 1.0\n",
       "          * index: -0.75\n",
       "      * Inverse_Compton: \n",
       "        * powerlaw: \n",
       "          * logK: -1\n",
       "          * piv: 1.0\n",
       "          * index: -1.7\n"
      ]
     },
     "metadata": {},
     "output_type": "display_data"
    }
   ],
   "source": [
    "# Another point source with two spectral components,\n",
    "\n",
    "# Define component 1, also showing another way to\n",
    "# instance the spectrum, which allows to specify\n",
    "# directly the parameters' values\n",
    "\n",
    "spectrum1 = powerlaw(logK=0.2, index=-0.75)\n",
    "component1 = SpectralComponent('synchrotron',spectrum1)\n",
    "\n",
    "spectrum2 = powerlaw(logK=-1, index=-1.7)\n",
    "component2 = SpectralComponent('Inverse_Compton',spectrum2)\n",
    "\n",
    "point_source2 = PointSource('source_2', l=11.25, b=-22.5, components=[component1,component2])\n",
    "\n",
    "# Have a look at what we just created\n",
    "\n",
    "point_source2.display()"
   ]
  },
  {
   "cell_type": "markdown",
   "metadata": {},
   "source": [
    "Now let's build the final model, which comprises our two sources:"
   ]
  },
  {
   "cell_type": "code",
   "execution_count": 7,
   "metadata": {
    "collapsed": true
   },
   "outputs": [],
   "source": [
    "# Build a model with the two point sources\n",
    "\n",
    "my_model = Model(pts1, point_source2)"
   ]
  },
  {
   "cell_type": "code",
   "execution_count": 8,
   "metadata": {
    "collapsed": false
   },
   "outputs": [
    {
     "data": {
      "text/html": [
       "Point sources: source_1,source_2<br><br>Extended sources: (none)<br><br>Free parameters:<br><table id=\"table66995984\">\n",
       "<thead><tr><th>name</th><th>value</th><th>min_value</th><th>max_value</th><th>delta</th><th>free</th></tr></thead>\n",
       "<tr><td>source_1.spectrum.main.powerlaw.logK</td><td>-0.912573542964</td><td>-40</td><td>40</td><td>0.1</td><td>True</td></tr>\n",
       "<tr><td>source_1.spectrum.main.powerlaw.index</td><td>-2.1</td><td>-10</td><td>10</td><td>0.2</td><td>True</td></tr>\n",
       "<tr><td>source_2.spectrum.synchrotron.powerlaw.logK</td><td>0.2</td><td>-40</td><td>40</td><td>0.1</td><td>True</td></tr>\n",
       "<tr><td>source_2.spectrum.synchrotron.powerlaw.index</td><td>-0.75</td><td>-10</td><td>10</td><td>0.2</td><td>True</td></tr>\n",
       "<tr><td>source_2.spectrum.Inverse_Compton.powerlaw.logK</td><td>-1.0</td><td>-40</td><td>40</td><td>0.1</td><td>True</td></tr>\n",
       "<tr><td>source_2.spectrum.Inverse_Compton.powerlaw.index</td><td>-1.7</td><td>-10</td><td>10</td><td>0.2</td><td>True</td></tr>\n",
       "</table>"
      ],
      "text/plain": [
       "Point sources: source_1,source_2\n",
       "\n",
       "Extended sources: (none)\n",
       "\n",
       "Free parameters:\n",
       "                      name                            value      ... delta free\n",
       "------------------------------------------------ --------------- ... ----- ----\n",
       "            source_1.spectrum.main.powerlaw.logK -0.912573542964 ...   0.1 True\n",
       "           source_1.spectrum.main.powerlaw.index            -2.1 ...   0.2 True\n",
       "     source_2.spectrum.synchrotron.powerlaw.logK             0.2 ...   0.1 True\n",
       "    source_2.spectrum.synchrotron.powerlaw.index           -0.75 ...   0.2 True\n",
       " source_2.spectrum.Inverse_Compton.powerlaw.logK            -1.0 ...   0.1 True\n",
       "source_2.spectrum.Inverse_Compton.powerlaw.index            -1.7 ...   0.2 True"
      ]
     },
     "metadata": {},
     "output_type": "display_data"
    }
   ],
   "source": [
    "# Let's have a look at what we just created\n",
    "\n",
    "my_model.display()"
   ]
  },
  {
   "cell_type": "markdown",
   "metadata": {},
   "source": [
    "Now let's have a look at different ways to change parameters values or characteristics:"
   ]
  },
  {
   "cell_type": "code",
   "execution_count": 9,
   "metadata": {
    "collapsed": false
   },
   "outputs": [
    {
     "data": {
      "text/html": [
       "Point sources: source_1,source_2<br><br>Extended sources: (none)<br><br>Free parameters:<br><table id=\"table66996752\">\n",
       "<thead><tr><th>name</th><th>value</th><th>min_value</th><th>max_value</th><th>delta</th><th>free</th></tr></thead>\n",
       "<tr><td>source_1.spectrum.main.powerlaw.logK</td><td>-0.912573542964</td><td>-40</td><td>40</td><td>0.1</td><td>True</td></tr>\n",
       "<tr><td>source_1.spectrum.main.powerlaw.index</td><td>-2.1</td><td>-10</td><td>10</td><td>0.2</td><td>True</td></tr>\n",
       "<tr><td>source_2.spectrum.synchrotron.powerlaw.logK</td><td>-0.3</td><td>-40</td><td>40</td><td>0.1</td><td>True</td></tr>\n",
       "<tr><td>source_2.spectrum.synchrotron.powerlaw.index</td><td>-0.75</td><td>-10</td><td>10</td><td>0.2</td><td>True</td></tr>\n",
       "<tr><td>source_2.spectrum.Inverse_Compton.powerlaw.logK</td><td>-0.3</td><td>-40</td><td>40</td><td>0.1</td><td>True</td></tr>\n",
       "<tr><td>source_2.spectrum.Inverse_Compton.powerlaw.index</td><td>-1.7</td><td>-10</td><td>10</td><td>0.2</td><td>True</td></tr>\n",
       "</table>"
      ],
      "text/plain": [
       "Point sources: source_1,source_2\n",
       "\n",
       "Extended sources: (none)\n",
       "\n",
       "Free parameters:\n",
       "                      name                            value      ... delta free\n",
       "------------------------------------------------ --------------- ... ----- ----\n",
       "            source_1.spectrum.main.powerlaw.logK -0.912573542964 ...   0.1 True\n",
       "           source_1.spectrum.main.powerlaw.index            -2.1 ...   0.2 True\n",
       "     source_2.spectrum.synchrotron.powerlaw.logK            -0.3 ...   0.1 True\n",
       "    source_2.spectrum.synchrotron.powerlaw.index           -0.75 ...   0.2 True\n",
       " source_2.spectrum.Inverse_Compton.powerlaw.logK            -0.3 ...   0.1 True\n",
       "source_2.spectrum.Inverse_Compton.powerlaw.index            -1.7 ...   0.2 True"
      ]
     },
     "metadata": {},
     "output_type": "display_data"
    }
   ],
   "source": [
    "# Method 1: universal method. When you have available an instance of a model\n",
    "# you can refer to a parameter with the 'extended' syntax:\n",
    "\n",
    "my_model.source_2.spectrum.synchrotron.powerlaw.logK = 0.3\n",
    "\n",
    "# Method 2: universal method 2. You can obtain the same result without\n",
    "# explicitly using the name of the spectral function, by using the\n",
    "# generic name 'shape':\n",
    "\n",
    "my_model.source_2.spectrum.synchrotron.shape.logK = 0.3\n",
    "\n",
    "# Method 3: using instances created previously.\n",
    "\n",
    "point_source2.spectrum.synchrotron.shape.logK = -0.3\n",
    "component2.shape.logK = -0.3\n",
    "spectrum2.logK = -0.3\n",
    "\n",
    "my_model.display()"
   ]
  },
  {
   "cell_type": "markdown",
   "metadata": {},
   "source": [
    "Now we can save the model for later use:"
   ]
  },
  {
   "cell_type": "code",
   "execution_count": 10,
   "metadata": {
    "collapsed": true
   },
   "outputs": [],
   "source": [
    "# Save the model to a file\n",
    "\n",
    "my_model.save('my_model.yml', overwrite=True)"
   ]
  },
  {
   "cell_type": "markdown",
   "metadata": {},
   "source": [
    "The content of the file is YAML code, which is human-readable and very easy to understand. Let's have a look:"
   ]
  },
  {
   "cell_type": "code",
   "execution_count": 11,
   "metadata": {
    "collapsed": false,
    "scrolled": true
   },
   "outputs": [
    {
     "name": "stdout",
     "output_type": "stream",
     "text": [
      "source_1 (point source):\n",
      "\n",
      "  position:\n",
      "\n",
      "    ra: {value: 125.6, min_value: 0.0, max_value: 360.0, unit: '', delta: 12.56, free: false}\n",
      "\n",
      "    dec: {value: -75.3, min_value: -90.0, max_value: 90.0, unit: '', delta: 7.53,\n",
      "\n",
      "      free: false}\n",
      "\n",
      "    equinox: J2000\n",
      "\n",
      "  spectrum:\n",
      "\n",
      "    main:\n",
      "\n",
      "      powerlaw:\n",
      "\n",
      "        logK: {value: -0.9125735429637145, min_value: -40, max_value: 40, unit: dex(1\n",
      "\n",
      "            / (cm2 keV s)), delta: 0.1, free: true}\n",
      "\n",
      "        piv: {value: 1.0, min_value: null, max_value: null, unit: keV, delta: 0.1,\n",
      "\n",
      "          free: false}\n",
      "\n",
      "        index: {value: -2.1, min_value: -10, max_value: 10, unit: '', delta: 0.2,\n",
      "\n",
      "          free: true}\n",
      "\n",
      "      polarization: {}\n",
      "\n",
      "source_2 (point source):\n",
      "\n",
      "  position:\n",
      "\n",
      "    l: {value: 11.25, min_value: 0.0, max_value: 360.0, unit: '', delta: 1.125, free: false}\n",
      "\n",
      "    b: {value: -22.5, min_value: -90.0, max_value: 90.0, unit: '', delta: 2.25, free: false}\n",
      "\n",
      "    equinox: J2000\n",
      "\n",
      "  spectrum:\n",
      "\n",
      "    synchrotron:\n",
      "\n",
      "      powerlaw:\n",
      "\n",
      "        logK: {value: -0.3, min_value: -40, max_value: 40, unit: dex(1 / (cm2 keV\n",
      "\n",
      "            s)), delta: 0.1, free: true}\n",
      "\n",
      "        piv: {value: 1.0, min_value: null, max_value: null, unit: keV, delta: 0.1,\n",
      "\n",
      "          free: false}\n",
      "\n",
      "        index: {value: -0.75, min_value: -10, max_value: 10, unit: '', delta: 0.2,\n",
      "\n",
      "          free: true}\n",
      "\n",
      "      polarization: {}\n",
      "\n",
      "    Inverse_Compton:\n",
      "\n",
      "      powerlaw:\n",
      "\n",
      "        logK: {value: -0.3, min_value: -40, max_value: 40, unit: dex(1 / (cm2 keV\n",
      "\n",
      "            s)), delta: 0.1, free: true}\n",
      "\n",
      "        piv: {value: 1.0, min_value: null, max_value: null, unit: keV, delta: 0.1,\n",
      "\n",
      "          free: false}\n",
      "\n",
      "        index: {value: -1.7, min_value: -10, max_value: 10, unit: '', delta: 0.2,\n",
      "\n",
      "          free: true}\n",
      "\n",
      "      polarization: {}\n",
      "\n",
      "\n"
     ]
    }
   ],
   "source": [
    "with open('my_model.yml') as yaml_file:\n",
    "    \n",
    "    print(\"\".join(yaml_file.readlines()))"
   ]
  },
  {
   "cell_type": "markdown",
   "metadata": {},
   "source": [
    "Now suppose that you want to load back a file you created in a previous session. You can do it with:"
   ]
  },
  {
   "cell_type": "code",
   "execution_count": 12,
   "metadata": {
    "collapsed": false
   },
   "outputs": [],
   "source": [
    "# Re-load the model from the file, just to show how it is done\n",
    "\n",
    "my_model_2 = load_model('my_model.yml')"
   ]
  },
  {
   "cell_type": "code",
   "execution_count": 13,
   "metadata": {
    "collapsed": false
   },
   "outputs": [
    {
     "data": {
      "text/html": [
       "Point sources: source_1,source_2<br><br>Extended sources: (none)<br><br>Free parameters:<br><table id=\"table67281040\">\n",
       "<thead><tr><th>name</th><th>value</th><th>min_value</th><th>max_value</th><th>delta</th><th>free</th></tr></thead>\n",
       "<tr><td>source_1.spectrum.main.powerlaw.logK</td><td>-0.912573542964</td><td>-40</td><td>40</td><td>0.1</td><td>True</td></tr>\n",
       "<tr><td>source_1.spectrum.main.powerlaw.index</td><td>-2.1</td><td>-10</td><td>10</td><td>0.2</td><td>True</td></tr>\n",
       "<tr><td>source_2.spectrum.synchrotron.powerlaw.logK</td><td>-0.3</td><td>-40</td><td>40</td><td>0.1</td><td>True</td></tr>\n",
       "<tr><td>source_2.spectrum.synchrotron.powerlaw.index</td><td>-0.75</td><td>-10</td><td>10</td><td>0.2</td><td>True</td></tr>\n",
       "<tr><td>source_2.spectrum.Inverse_Compton.powerlaw.logK</td><td>-0.3</td><td>-40</td><td>40</td><td>0.1</td><td>True</td></tr>\n",
       "<tr><td>source_2.spectrum.Inverse_Compton.powerlaw.index</td><td>-1.7</td><td>-10</td><td>10</td><td>0.2</td><td>True</td></tr>\n",
       "</table>"
      ],
      "text/plain": [
       "Point sources: source_1,source_2\n",
       "\n",
       "Extended sources: (none)\n",
       "\n",
       "Free parameters:\n",
       "                      name                            value      ... delta free\n",
       "------------------------------------------------ --------------- ... ----- ----\n",
       "            source_1.spectrum.main.powerlaw.logK -0.912573542964 ...   0.1 True\n",
       "           source_1.spectrum.main.powerlaw.index            -2.1 ...   0.2 True\n",
       "     source_2.spectrum.synchrotron.powerlaw.logK            -0.3 ...   0.1 True\n",
       "    source_2.spectrum.synchrotron.powerlaw.index           -0.75 ...   0.2 True\n",
       " source_2.spectrum.Inverse_Compton.powerlaw.logK            -0.3 ...   0.1 True\n",
       "source_2.spectrum.Inverse_Compton.powerlaw.index            -1.7 ...   0.2 True"
      ]
     },
     "metadata": {},
     "output_type": "display_data"
    }
   ],
   "source": [
    "# Explore the model we just loaded back\n",
    "\n",
    "my_model_2.display()"
   ]
  },
  {
   "cell_type": "code",
   "execution_count": 14,
   "metadata": {
    "collapsed": false
   },
   "outputs": [
    {
     "data": {
      "text/plain": [
       "<matplotlib.text.Text at 0x4a979d0>"
      ]
     },
     "execution_count": 14,
     "metadata": {},
     "output_type": "execute_result"
    },
    {
     "data": {
      "image/png": "[encoded data removed]",
      "text/plain": [
       "<matplotlib.figure.Figure at 0x4019710>"
      ]
     },
     "metadata": {},
     "output_type": "display_data"
    }
   ],
   "source": [
    "# Now evaluate and plot our models. You need matplotlib for this\n",
    "\n",
    "import matplotlib.pyplot as plt\n",
    "\n",
    "%matplotlib inline\n",
    "\n",
    "# Energies where we want to evaluate the model\n",
    "\n",
    "e = np.logspace(0,3,100)\n",
    "\n",
    "# Loop over the sources\n",
    "\n",
    "for src_name, src in my_model.point_sources.iteritems():\n",
    "    \n",
    "    # Loop over the components of each source\n",
    "    \n",
    "    for comp_name, component in src.components.iteritems():\n",
    "        \n",
    "        # Get the differential flux (in ph/cm2/s)\n",
    "        \n",
    "        flux = component.shape(e)\n",
    "        \n",
    "        # this can also be accomplished with:\n",
    "        # flux = component.powerlaw(e)\n",
    "        # but this requires to know the name of the\n",
    "        # spectral shape which was used\n",
    "        \n",
    "        # Plot this component for this source\n",
    "        \n",
    "        plt.plot(e,e * e * flux,label=\"%s of %s\" % (component.name, src.name))\n",
    "\n",
    "plt.legend(loc=0)\n",
    "plt.loglog()\n",
    "plt.xlabel(\"Energy\")\n",
    "plt.ylabel(r\"$\\nu$F$_{\\nu}$\")"
   ]
  },
  {
   "cell_type": "code",
   "execution_count": 15,
   "metadata": {
    "collapsed": false
   },
   "outputs": [],
   "source": [
    "# Add the time as an independent variable of the model\n",
    "\n",
    "time = IndependentVariable(\"time\",1.0, unit='s')\n",
    "\n",
    "my_model.add_independent_variable(time)\n",
    "\n",
    "# Make the index of the second source vary linearly with time\n",
    "\n",
    "law = line(a=-0.002,b=-2.0)\n",
    "\n",
    "p1 = my_model.source_2.spectrum.synchrotron.powerlaw.index\n",
    "p1.add_auxiliary_variable(time, law)\n",
    "\n",
    "# Link the index of the spectrum of source_1 to be 2.2 units\n",
    "# more than the spectrum of the synchrotron component\n",
    "# in source_2\n",
    "\n",
    "p2 = my_model.source_1.spectrum.main.powerlaw.index\n",
    "p2.add_auxiliary_variable( p1, line(a=1,b=+2.2) )\n",
    "\n",
    "p3 = my_model['source_2.spectrum.Inverse_Compton.powerlaw.logK']\n",
    "p3.add_auxiliary_variable(time, gaussian(mu=50,sigma=20))"
   ]
  },
  {
   "cell_type": "code",
   "execution_count": 16,
   "metadata": {
    "collapsed": false
   },
   "outputs": [
    {
     "data": {
      "text/html": [
       "Point sources: source_1,source_2<br><br>Extended sources: (none)<br><br>Free parameters:<br><table id=\"table67282832\">\n",
       "<thead><tr><th>name</th><th>value</th><th>min_value</th><th>max_value</th><th>delta</th><th>free</th></tr></thead>\n",
       "<tr><td>source_1.spectrum.main.powerlaw.logK</td><td>-0.912573542964</td><td>-40</td><td>40</td><td>0.1</td><td>True</td></tr>\n",
       "<tr><td>source_1.spectrum.main.powerlaw.index</td><td>f(source_2.spectrum.synchrotron.powerlaw.index)</td><td>-10</td><td>10</td><td>0.2</td><td>True</td></tr>\n",
       "<tr><td>source_1.spectrum.main.powerlaw.index.line.logK</td><td>0.0</td><td>-40</td><td>40</td><td>0.1</td><td>True</td></tr>\n",
       "<tr><td>source_1.spectrum.main.powerlaw.index.line.a</td><td>1</td><td>None</td><td>None</td><td>0.1</td><td>True</td></tr>\n",
       "<tr><td>source_1.spectrum.main.powerlaw.index.line.b</td><td>2.2</td><td>None</td><td>None</td><td>0.1</td><td>True</td></tr>\n",
       "<tr><td>source_2.spectrum.synchrotron.powerlaw.logK</td><td>-0.3</td><td>-40</td><td>40</td><td>0.1</td><td>True</td></tr>\n",
       "<tr><td>source_2.spectrum.synchrotron.powerlaw.index</td><td>f(time)</td><td>-10</td><td>10</td><td>0.2</td><td>True</td></tr>\n",
       "<tr><td>source_2.spectrum.synchrotron.powerlaw.index.line.logK</td><td>0.0</td><td>-40</td><td>40</td><td>0.1</td><td>True</td></tr>\n",
       "<tr><td>source_2.spectrum.synchrotron.powerlaw.index.line.a</td><td>-0.002</td><td>None</td><td>None</td><td>0.1</td><td>True</td></tr>\n",
       "<tr><td>source_2.spectrum.synchrotron.powerlaw.index.line.b</td><td>-2.0</td><td>None</td><td>None</td><td>0.1</td><td>True</td></tr>\n",
       "<tr><td>source_2.spectrum.Inverse_Compton.powerlaw.logK</td><td>f(time)</td><td>-40</td><td>40</td><td>0.1</td><td>True</td></tr>\n",
       "<tr><td>source_2.spectrum.Inverse_Compton.powerlaw.logK.gaussian.logK</td><td>0.0</td><td>-40</td><td>40</td><td>0.1</td><td>True</td></tr>\n",
       "<tr><td>source_2.spectrum.Inverse_Compton.powerlaw.logK.gaussian.mu</td><td>50</td><td>None</td><td>None</td><td>0.1</td><td>True</td></tr>\n",
       "<tr><td>source_2.spectrum.Inverse_Compton.powerlaw.logK.gaussian.sigma</td><td>20</td><td>None</td><td>None</td><td>0.1</td><td>True</td></tr>\n",
       "<tr><td>source_2.spectrum.Inverse_Compton.powerlaw.index</td><td>-1.7</td><td>-10</td><td>10</td><td>0.2</td><td>True</td></tr>\n",
       "</table>"
      ],
      "text/plain": [
       "Point sources: source_1,source_2\n",
       "\n",
       "Extended sources: (none)\n",
       "\n",
       "Free parameters:\n",
       "                             name                              ... free\n",
       "-------------------------------------------------------------- ... ----\n",
       "                          source_1.spectrum.main.powerlaw.logK ... True\n",
       "                         source_1.spectrum.main.powerlaw.index ... True\n",
       "               source_1.spectrum.main.powerlaw.index.line.logK ... True\n",
       "                  source_1.spectrum.main.powerlaw.index.line.a ... True\n",
       "                  source_1.spectrum.main.powerlaw.index.line.b ... True\n",
       "                   source_2.spectrum.synchrotron.powerlaw.logK ... True\n",
       "                  source_2.spectrum.synchrotron.powerlaw.index ... True\n",
       "        source_2.spectrum.synchrotron.powerlaw.index.line.logK ... True\n",
       "           source_2.spectrum.synchrotron.powerlaw.index.line.a ... True\n",
       "           source_2.spectrum.synchrotron.powerlaw.index.line.b ... True\n",
       "               source_2.spectrum.Inverse_Compton.powerlaw.logK ... True\n",
       " source_2.spectrum.Inverse_Compton.powerlaw.logK.gaussian.logK ... True\n",
       "   source_2.spectrum.Inverse_Compton.powerlaw.logK.gaussian.mu ... True\n",
       "source_2.spectrum.Inverse_Compton.powerlaw.logK.gaussian.sigma ... True\n",
       "              source_2.spectrum.Inverse_Compton.powerlaw.index ... True"
      ]
     },
     "metadata": {},
     "output_type": "display_data"
    }
   ],
   "source": [
    "my_model.display()"
   ]
  },
  {
   "cell_type": "code",
   "execution_count": 17,
   "metadata": {
    "collapsed": false
   },
   "outputs": [
    {
     "data": {
      "text/plain": [
       "<matplotlib.text.Text at 0x54fa850>"
      ]
     },
     "execution_count": 17,
     "metadata": {},
     "output_type": "execute_result"
    },
    {
     "data": {
      "image/png": "[encoded data removed]",
      "text/plain": [
       "<matplotlib.figure.Figure at 0x4f3cb50>"
      ]
     },
     "metadata": {},
     "output_type": "display_data"
    }
   ],
   "source": [
    "logK = my_model['source_2.spectrum.synchrotron.powerlaw.index']\n",
    "\n",
    "times = np.linspace(1,100,1000)\n",
    "\n",
    "fig, subs = plt.subplots(3,1, sharex=True)\n",
    "\n",
    "\n",
    "for sub, par, label in zip(subs,[p1,p2,p3],[r'index${_1}$',r'index$_{2}$','logK']):\n",
    "    \n",
    "    lc = []\n",
    "    \n",
    "    for t in times:\n",
    "    \n",
    "        time.value = t\n",
    "    \n",
    "        lc.append(par.value)\n",
    "\n",
    "    sub.plot(times, lc)    \n",
    "    sub.set_ylabel(label)\n",
    "\n",
    "subs[-1].set_xlabel('%s (%s)' % (time.name,time.unit))\n",
    "    \n",
    "#plt.loglog()"
   ]
  },
  {
   "cell_type": "code",
   "execution_count": 18,
   "metadata": {
    "collapsed": false
   },
   "outputs": [
    {
     "name": "stdout",
     "output_type": "stream",
     "text": [
      "IndependentVariable time = 100.0\n",
      "(min_value = None, max_value = None)\n"
     ]
    }
   ],
   "source": [
    "print(time)"
   ]
  },
  {
   "cell_type": "code",
   "execution_count": 19,
   "metadata": {
    "collapsed": false
   },
   "outputs": [],
   "source": [
    "my_model.save(\"test_links.yml\", overwrite=True)"
   ]
  },
  {
   "cell_type": "code",
   "execution_count": 2,
   "metadata": {
    "collapsed": false
   },
   "outputs": [],
   "source": [
    "my_model2 = load_model('test_links.yml')"
   ]
  },
  {
   "cell_type": "code",
   "execution_count": 7,
   "metadata": {
    "collapsed": false
   },
   "outputs": [
    {
     "data": {
      "text/plain": [
       "<matplotlib.text.Text at 0x4a079d0>"
      ]
     },
     "execution_count": 7,
     "metadata": {},
     "output_type": "execute_result"
    },
    {
     "data": {
      "image/png": "[encoded data removed]",
      "text/plain": [
       "<matplotlib.figure.Figure at 0x4b93910>"
      ]
     },
     "metadata": {},
     "output_type": "display_data"
    }
   ],
   "source": [
    "import matplotlib.pyplot as plt\n",
    "\n",
    "%matplotlib inline\n",
    "\n",
    "\n",
    "p1 = my_model2.source_2.spectrum.synchrotron.powerlaw.index\n",
    "\n",
    "p2 = my_model2.source_1.spectrum.main.powerlaw.index\n",
    "\n",
    "p3 = my_model2['source_2.spectrum.Inverse_Compton.powerlaw.logK']\n",
    "\n",
    "times = np.linspace(1,100,1000)\n",
    "\n",
    "fig, subs = plt.subplots(3,1, sharex=True)\n",
    "\n",
    "for sub, par, label in zip(subs,[p1,p2,p3],[r'index${_1}$',r'index$_{2}$','logK']):\n",
    "    \n",
    "    lc = []\n",
    "    \n",
    "    for t in times:\n",
    "    \n",
    "        my_model2['time'].value = t\n",
    "    \n",
    "        lc.append(par.value)\n",
    "\n",
    "    sub.plot(times, lc)    \n",
    "    sub.set_ylabel(label)\n",
    "\n",
    "subs[-1].set_xlabel('%s (%s)' % (my_model2['time'].name,my_model2['time'].unit))\n"
   ]
  },
  {
   "cell_type": "code",
   "execution_count": null,
   "metadata": {
    "collapsed": true
   },
   "outputs": [],
   "source": [
    "particle_distribution = powerlaw()\n",
    "\n",
    "particle = PointSource('electrons',ra=0.0,dec=0.0,spectral_shape=particle_distribution)\n",
    "\n",
    "synch_spectrum = synchrotron()\n",
    "\n",
    "synch_spectrum.set_particle_distribution(particle_distribution)\n",
    "\n",
    "synch_source = PointSource('synch_source',ra=12.6, dec=-13.5, spectral_shape=synch_spectrum)"
   ]
  },
  {
   "cell_type": "code",
   "execution_count": null,
   "metadata": {
    "collapsed": true
   },
   "outputs": [],
   "source": [
    "my_model = Model(particle, synch_source)\n",
    "\n",
    "my_model.display()"
   ]
  },
  {
   "cell_type": "code",
   "execution_count": null,
   "metadata": {
    "collapsed": true
   },
   "outputs": [],
   "source": [
    "magnetic_field = my_model['synch_source.spectrum.main.synchrotron.B']\n",
    "\n",
    "magnetic_field_decay = powerlaw()\n",
    "\n",
    "magnetic_field.add_auxiliary_variable(time, magnetic_field_decay)\n",
    "\n",
    "index = my_model['electrons.spectrum.main.powerlaw.index']\n",
    "\n",
    "index.add_auxiliary_variable(time, line(logK=0, a=1e-3,b=-1.5))\n",
    "\n",
    "my_model.display()"
   ]
  },
  {
   "cell_type": "code",
   "execution_count": null,
   "metadata": {
    "collapsed": true
   },
   "outputs": [],
   "source": [
    "times = np.linspace(1,100,1000)\n",
    "\n",
    "p1 = my_model['electrons.spectrum.main.powerlaw.index']\n",
    "p2 = my_model['synch_source.spectrum.main.synchrotron.B']\n",
    "\n",
    "fig, subs = plt.subplots(2,1, sharex=True)\n",
    "\n",
    "for sub, par, label in zip(subs,[p1,p2],[r'index${_e}$',r'B']):\n",
    "    \n",
    "    lc = []\n",
    "    \n",
    "    for t in times:\n",
    "    \n",
    "        time.value = t\n",
    "    \n",
    "        lc.append(par.value)\n",
    "\n",
    "    sub.plot(times, lc)    \n",
    "    sub.set_ylabel(label)\n",
    "\n",
    "subs[-1].set_xlabel('time (s)')\n",
    "\n",
    "subs[-1].set_yscale(\"log\")"
   ]
  },
  {
   "cell_type": "code",
   "execution_count": null,
   "metadata": {
    "collapsed": true
   },
   "outputs": [],
   "source": []
  }
 ],
 "metadata": {
  "kernelspec": {
   "display_name": "Python 2",
   "language": "python",
   "name": "python2"
  },
  "language_info": {
   "codemirror_mode": {
    "name": "ipython",
    "version": 2
   },
   "file_extension": ".py",
   "mimetype": "text/x-python",
   "name": "python",
   "nbconvert_exporter": "python",
   "pygments_lexer": "ipython2",
   "version": "2.7.6"
  }
 },
 "nbformat": 4,
 "nbformat_minor": 0
}
